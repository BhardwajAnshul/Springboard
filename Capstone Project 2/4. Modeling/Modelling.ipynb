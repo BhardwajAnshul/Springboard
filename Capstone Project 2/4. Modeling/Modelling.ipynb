{
 "cells": [
  {
   "cell_type": "markdown",
   "metadata": {},
   "source": [
    "# Modeling"
   ]
  },
  {
   "cell_type": "code",
   "execution_count": 1,
   "metadata": {},
   "outputs": [],
   "source": [
    "import pandas as pd\n",
    "import numpy as np\n",
    "\n",
    "from sklearn.metrics import accuracy_score\n",
    "from sklearn.metrics import mean_squared_error\n",
    "from sklearn.model_selection import cross_val_score\n",
    "from sklearn.metrics import confusion_matrix\n",
    "\n",
    "from sklearn.metrics import accuracy_score,confusion_matrix,classification_report,roc_auc_score ,roc_curve,auc,f1_score, precision_recall_curve\n",
    "\n",
    "from imblearn.over_sampling import SMOTE\n",
    "from sklearn.model_selection import RandomizedSearchCV\n",
    "\n",
    "import matplotlib.pyplot as plt"
   ]
  },
  {
   "cell_type": "code",
   "execution_count": 2,
   "metadata": {},
   "outputs": [],
   "source": [
    "df = pd.read_csv('winequality-red-scaled2.csv')"
   ]
  },
  {
   "cell_type": "code",
   "execution_count": 3,
   "metadata": {},
   "outputs": [
    {
     "data": {
      "text/html": [
       "<div>\n",
       "<style scoped>\n",
       "    .dataframe tbody tr th:only-of-type {\n",
       "        vertical-align: middle;\n",
       "    }\n",
       "\n",
       "    .dataframe tbody tr th {\n",
       "        vertical-align: top;\n",
       "    }\n",
       "\n",
       "    .dataframe thead th {\n",
       "        text-align: right;\n",
       "    }\n",
       "</style>\n",
       "<table border=\"1\" class=\"dataframe\">\n",
       "  <thead>\n",
       "    <tr style=\"text-align: right;\">\n",
       "      <th></th>\n",
       "      <th>fixed acidity</th>\n",
       "      <th>volatile acidity</th>\n",
       "      <th>citric acid</th>\n",
       "      <th>residual sugar</th>\n",
       "      <th>chlorides</th>\n",
       "      <th>free sulfur dioxide</th>\n",
       "      <th>total sulfur dioxide</th>\n",
       "      <th>density</th>\n",
       "      <th>pH</th>\n",
       "      <th>sulphates</th>\n",
       "      <th>alcohol</th>\n",
       "      <th>quality</th>\n",
       "    </tr>\n",
       "  </thead>\n",
       "  <tbody>\n",
       "    <tr>\n",
       "      <th>0</th>\n",
       "      <td>-0.526823</td>\n",
       "      <td>0.967437</td>\n",
       "      <td>-1.396766</td>\n",
       "      <td>-0.468591</td>\n",
       "      <td>-0.286544</td>\n",
       "      <td>-0.472221</td>\n",
       "      <td>-0.389808</td>\n",
       "      <td>0.602517</td>\n",
       "      <td>1.336203</td>\n",
       "      <td>-0.586360</td>\n",
       "      <td>1</td>\n",
       "      <td>0</td>\n",
       "    </tr>\n",
       "    <tr>\n",
       "      <th>1</th>\n",
       "      <td>-0.295502</td>\n",
       "      <td>1.980100</td>\n",
       "      <td>-1.396766</td>\n",
       "      <td>-0.085050</td>\n",
       "      <td>0.023186</td>\n",
       "      <td>0.885977</td>\n",
       "      <td>0.615217</td>\n",
       "      <td>0.052556</td>\n",
       "      <td>-0.727179</td>\n",
       "      <td>0.108276</td>\n",
       "      <td>1</td>\n",
       "      <td>0</td>\n",
       "    </tr>\n",
       "    <tr>\n",
       "      <th>2</th>\n",
       "      <td>-0.295502</td>\n",
       "      <td>1.304992</td>\n",
       "      <td>-1.191446</td>\n",
       "      <td>-0.249425</td>\n",
       "      <td>-0.061286</td>\n",
       "      <td>-0.084165</td>\n",
       "      <td>0.219298</td>\n",
       "      <td>0.162548</td>\n",
       "      <td>-0.327815</td>\n",
       "      <td>-0.065383</td>\n",
       "      <td>1</td>\n",
       "      <td>0</td>\n",
       "    </tr>\n",
       "    <tr>\n",
       "      <th>3</th>\n",
       "      <td>1.670732</td>\n",
       "      <td>-1.395443</td>\n",
       "      <td>1.477714</td>\n",
       "      <td>-0.468591</td>\n",
       "      <td>-0.300623</td>\n",
       "      <td>0.109864</td>\n",
       "      <td>0.402030</td>\n",
       "      <td>0.712509</td>\n",
       "      <td>-0.993422</td>\n",
       "      <td>-0.470587</td>\n",
       "      <td>1</td>\n",
       "      <td>0</td>\n",
       "    </tr>\n",
       "    <tr>\n",
       "      <th>4</th>\n",
       "      <td>-0.526823</td>\n",
       "      <td>0.742401</td>\n",
       "      <td>-1.396766</td>\n",
       "      <td>-0.523383</td>\n",
       "      <td>-0.300623</td>\n",
       "      <td>-0.278193</td>\n",
       "      <td>-0.207076</td>\n",
       "      <td>0.602517</td>\n",
       "      <td>1.336203</td>\n",
       "      <td>-0.586360</td>\n",
       "      <td>1</td>\n",
       "      <td>0</td>\n",
       "    </tr>\n",
       "  </tbody>\n",
       "</table>\n",
       "</div>"
      ],
      "text/plain": [
       "   fixed acidity  volatile acidity  citric acid  residual sugar  chlorides  \\\n",
       "0      -0.526823          0.967437    -1.396766       -0.468591  -0.286544   \n",
       "1      -0.295502          1.980100    -1.396766       -0.085050   0.023186   \n",
       "2      -0.295502          1.304992    -1.191446       -0.249425  -0.061286   \n",
       "3       1.670732         -1.395443     1.477714       -0.468591  -0.300623   \n",
       "4      -0.526823          0.742401    -1.396766       -0.523383  -0.300623   \n",
       "\n",
       "   free sulfur dioxide  total sulfur dioxide   density        pH  sulphates  \\\n",
       "0            -0.472221             -0.389808  0.602517  1.336203  -0.586360   \n",
       "1             0.885977              0.615217  0.052556 -0.727179   0.108276   \n",
       "2            -0.084165              0.219298  0.162548 -0.327815  -0.065383   \n",
       "3             0.109864              0.402030  0.712509 -0.993422  -0.470587   \n",
       "4            -0.278193             -0.207076  0.602517  1.336203  -0.586360   \n",
       "\n",
       "   alcohol  quality  \n",
       "0        1        0  \n",
       "1        1        0  \n",
       "2        1        0  \n",
       "3        1        0  \n",
       "4        1        0  "
      ]
     },
     "execution_count": 3,
     "metadata": {},
     "output_type": "execute_result"
    }
   ],
   "source": [
    "df.head()"
   ]
  },
  {
   "cell_type": "code",
   "execution_count": 4,
   "metadata": {},
   "outputs": [
    {
     "data": {
      "text/plain": [
       "1    637\n",
       "2    594\n",
       "0    128\n",
       "Name: alcohol, dtype: int64"
      ]
     },
     "execution_count": 4,
     "metadata": {},
     "output_type": "execute_result"
    }
   ],
   "source": [
    "df['alcohol'].value_counts()"
   ]
  },
  {
   "cell_type": "code",
   "execution_count": 5,
   "metadata": {},
   "outputs": [
    {
     "name": "stdout",
     "output_type": "stream",
     "text": [
      "<class 'pandas.core.frame.DataFrame'>\n",
      "RangeIndex: 1359 entries, 0 to 1358\n",
      "Data columns (total 12 columns):\n",
      " #   Column                Non-Null Count  Dtype  \n",
      "---  ------                --------------  -----  \n",
      " 0   fixed acidity         1359 non-null   float64\n",
      " 1   volatile acidity      1359 non-null   float64\n",
      " 2   citric acid           1359 non-null   float64\n",
      " 3   residual sugar        1359 non-null   float64\n",
      " 4   chlorides             1359 non-null   float64\n",
      " 5   free sulfur dioxide   1359 non-null   float64\n",
      " 6   total sulfur dioxide  1359 non-null   float64\n",
      " 7   density               1359 non-null   float64\n",
      " 8   pH                    1359 non-null   float64\n",
      " 9   sulphates             1359 non-null   float64\n",
      " 10  alcohol               1359 non-null   int64  \n",
      " 11  quality               1359 non-null   int64  \n",
      "dtypes: float64(10), int64(2)\n",
      "memory usage: 127.5 KB\n"
     ]
    }
   ],
   "source": [
    "df.info()"
   ]
  },
  {
   "cell_type": "markdown",
   "metadata": {},
   "source": [
    "# Outlier Treatment"
   ]
  },
  {
   "cell_type": "code",
   "execution_count": 6,
   "metadata": {},
   "outputs": [
    {
     "name": "stdout",
     "output_type": "stream",
     "text": [
      "[[0.52682343 0.96743718 1.39676632 ... 0.58636019 0.53312285 0.3957218 ]\n",
      " [0.29550184 1.98010018 1.39676632 ... 0.10827601 0.53312285 0.3957218 ]\n",
      " [0.29550184 1.30499151 1.19144627 ... 0.06538304 0.53312285 0.3957218 ]\n",
      " ...\n",
      " [1.39427938 0.12355134 0.88346619 ... 0.57136682 1.02162813 0.3957218 ]\n",
      " [1.39427938 0.65801237 0.78080617 ... 0.28193507 1.02162813 0.3957218 ]\n",
      " [1.33644898 1.22666599 1.01574428 ... 0.00749669 1.02162813 0.3957218 ]]\n"
     ]
    }
   ],
   "source": [
    "from scipy import stats\n",
    "z = np.abs(stats.zscore(df))\n",
    "print(z)"
   ]
  },
  {
   "cell_type": "code",
   "execution_count": 7,
   "metadata": {},
   "outputs": [
    {
     "name": "stdout",
     "output_type": "stream",
     "text": [
      "(array([   8,   11,   12,   12,   12,   12,   13,   13,   13,   13,   15,\n",
      "         15,   16,   17,   17,   30,   32,   35,   36,   38,   39,   51,\n",
      "         53,   53,   60,   73,   75,   75,   77,   77,   80,   80,   82,\n",
      "         82,   84,   85,   85,   96,   96,   99,  109,  113,  118,  129,\n",
      "        131,  135,  135,  137,  137,  138,  138,  142,  144,  145,  150,\n",
      "        150,  159,  159,  166,  167,  168,  170,  170,  178,  178,  191,\n",
      "        195,  202,  202,  211,  211,  226,  226,  237,  238,  239,  241,\n",
      "        242,  243,  245,  245,  252,  264,  268,  269,  273,  282,  284,\n",
      "        291,  294,  295,  296,  308,  309,  319,  322,  323,  326,  328,\n",
      "        329,  329,  330,  331,  345,  346,  346,  356,  356,  357,  361,\n",
      "        363,  363,  363,  385,  390,  393,  393,  397,  404,  418,  420,\n",
      "        422,  422,  423,  423,  424,  433,  436,  437,  438,  439,  441,\n",
      "        445,  446,  448,  448,  448,  449,  450,  455,  455,  456,  467,\n",
      "        468,  470,  478,  483,  484,  485,  486,  491,  492,  506,  508,\n",
      "        513,  516,  526,  528,  534,  534,  543,  543,  550,  552,  553,\n",
      "        554,  555,  558,  562,  562,  564,  565,  571,  577,  582,  586,\n",
      "        592,  596,  596,  597,  599,  599,  601,  610,  623,  626,  626,\n",
      "        632,  641,  642,  652,  652,  666,  667,  668,  669,  671,  672,\n",
      "        675,  683,  687,  687,  688,  691,  698,  718,  719,  734,  755,\n",
      "        759,  764,  774,  780,  780,  781,  783,  785,  786,  791,  792,\n",
      "        803,  806,  808,  831,  838,  868,  878,  884,  888,  895,  895,\n",
      "        899,  900,  912,  915,  917,  918,  918,  920,  920,  924,  931,\n",
      "        934,  943,  948,  963,  963,  965,  969,  977,  978,  985,  986,\n",
      "        988,  994,  994, 1003, 1004, 1013, 1015, 1016, 1018, 1026, 1028,\n",
      "       1036, 1039, 1044, 1049, 1052, 1055, 1060, 1060, 1060, 1066, 1070,\n",
      "       1071, 1072, 1073, 1073, 1088, 1098, 1098, 1103, 1103, 1106, 1114,\n",
      "       1123, 1123, 1131, 1134, 1151, 1151, 1151, 1159, 1162, 1162, 1163,\n",
      "       1163, 1164, 1165, 1176, 1182, 1188, 1190, 1193, 1195, 1203, 1206,\n",
      "       1206, 1216, 1216, 1216, 1217, 1218, 1222, 1226, 1247, 1250, 1250,\n",
      "       1250, 1253, 1266, 1272, 1284, 1285, 1308, 1320, 1325, 1325, 1325,\n",
      "       1326, 1332, 1336, 1339, 1350], dtype=int64), array([3, 9, 3, 4, 5, 6, 3, 4, 5, 6, 4, 9, 3, 4, 9, 3, 3, 4, 3, 4, 9, 3,\n",
      "       3, 5, 3, 9, 4, 9, 4, 9, 6, 9, 6, 9, 6, 6, 9, 4, 9, 6, 4, 4, 6, 6,\n",
      "       4, 4, 9, 3, 6, 3, 6, 9, 3, 3, 4, 9, 4, 9, 6, 6, 6, 3, 6, 6, 9, 3,\n",
      "       6, 4, 9, 4, 9, 4, 9, 3, 3, 3, 3, 3, 3, 4, 9, 4, 4, 4, 4, 6, 3, 3,\n",
      "       4, 9, 9, 9, 3, 6, 3, 4, 9, 9, 3, 3, 4, 9, 3, 3, 3, 5, 3, 4, 3, 3,\n",
      "       3, 6, 9, 3, 4, 4, 9, 3, 6, 9, 3, 4, 9, 4, 9, 3, 3, 5, 3, 9, 9, 9,\n",
      "       3, 4, 3, 6, 9, 3, 4, 5, 6, 6, 3, 3, 3, 4, 3, 3, 3, 3, 4, 4, 5, 9,\n",
      "       6, 3, 3, 3, 4, 9, 3, 4, 5, 6, 6, 4, 9, 3, 3, 6, 6, 3, 3, 4, 6, 5,\n",
      "       6, 4, 9, 3, 4, 9, 6, 3, 3, 6, 9, 4, 3, 6, 4, 9, 6, 6, 4, 4, 4, 4,\n",
      "       4, 6, 4, 9, 4, 3, 4, 4, 4, 9, 3, 4, 3, 3, 3, 4, 3, 3, 4, 3, 5, 5,\n",
      "       3, 3, 3, 3, 5, 4, 3, 3, 3, 4, 9, 3, 3, 3, 5, 3, 3, 6, 3, 6, 3, 3,\n",
      "       4, 4, 3, 5, 6, 3, 3, 4, 3, 5, 5, 9, 4, 9, 5, 3, 3, 3, 4, 4, 3, 4,\n",
      "       5, 4, 3, 5, 3, 3, 3, 5, 6, 4, 5, 3, 4, 4, 9, 3, 3, 9, 3, 5, 4, 3,\n",
      "       4, 9, 3, 4, 3, 4, 5, 9, 4, 9, 4, 9, 3, 4, 3, 3, 6, 9, 3, 9, 6, 3,\n",
      "       4, 3, 4, 5, 4, 3, 3, 3, 3, 3, 4, 5, 3, 6, 3, 3, 3, 3, 3, 3, 4, 5,\n",
      "       6, 4, 3, 3, 3], dtype=int64))\n"
     ]
    }
   ],
   "source": [
    "threshold = 3\n",
    "print(np.where(z > 3))"
   ]
  },
  {
   "cell_type": "code",
   "execution_count": 8,
   "metadata": {},
   "outputs": [
    {
     "data": {
      "text/plain": [
       "(1359, 12)"
      ]
     },
     "execution_count": 8,
     "metadata": {},
     "output_type": "execute_result"
    }
   ],
   "source": [
    "df.shape"
   ]
  },
  {
   "cell_type": "code",
   "execution_count": 9,
   "metadata": {},
   "outputs": [],
   "source": [
    "df = df[(z < 3).all(axis=1)]"
   ]
  },
  {
   "cell_type": "code",
   "execution_count": 10,
   "metadata": {},
   "outputs": [
    {
     "data": {
      "text/plain": [
       "(1092, 12)"
      ]
     },
     "execution_count": 10,
     "metadata": {},
     "output_type": "execute_result"
    }
   ],
   "source": [
    "df.shape"
   ]
  },
  {
   "cell_type": "code",
   "execution_count": 11,
   "metadata": {},
   "outputs": [
    {
     "data": {
      "text/plain": [
       "0    950\n",
       "1    142\n",
       "Name: quality, dtype: int64"
      ]
     },
     "execution_count": 11,
     "metadata": {},
     "output_type": "execute_result"
    }
   ],
   "source": [
    "df['quality'].value_counts()"
   ]
  },
  {
   "cell_type": "markdown",
   "metadata": {},
   "source": [
    "# Train Test Split"
   ]
  },
  {
   "cell_type": "code",
   "execution_count": 12,
   "metadata": {},
   "outputs": [],
   "source": [
    "X = df.drop('quality', axis = 1).values\n",
    "y = df['quality'].values.reshape(-1,1)"
   ]
  },
  {
   "cell_type": "code",
   "execution_count": 13,
   "metadata": {},
   "outputs": [
    {
     "name": "stdout",
     "output_type": "stream",
     "text": [
      "Shape of X_train:  (873, 11)\n",
      "Shape of X_test:  (219, 11)\n",
      "Shape of y_train:  (873, 1)\n",
      "Shape of y_test (219, 1)\n"
     ]
    }
   ],
   "source": [
    "from sklearn.model_selection import train_test_split\n",
    "X_train0, X_test, y_train0, y_test = train_test_split(X, y, test_size = 0.2, random_state = 42)\n",
    "\n",
    "print(\"Shape of X_train: \",X_train0.shape)\n",
    "print(\"Shape of X_test: \", X_test.shape)\n",
    "print(\"Shape of y_train: \",y_train0.shape)\n",
    "print(\"Shape of y_test\",y_test.shape)"
   ]
  },
  {
   "cell_type": "code",
   "execution_count": 14,
   "metadata": {},
   "outputs": [
    {
     "data": {
      "text/plain": [
       "0    753\n",
       "1    120\n",
       "dtype: int64"
      ]
     },
     "execution_count": 14,
     "metadata": {},
     "output_type": "execute_result"
    }
   ],
   "source": [
    "pd.DataFrame(y_train0).value_counts()"
   ]
  },
  {
   "cell_type": "markdown",
   "metadata": {},
   "source": [
    "# SMOTE for Balancing Data"
   ]
  },
  {
   "cell_type": "code",
   "execution_count": 15,
   "metadata": {},
   "outputs": [],
   "source": [
    "oversample = SMOTE(sampling_strategy=0.5, random_state=42)\n",
    "X_train, y_train = oversample.fit_resample(X_train0, y_train0)"
   ]
  },
  {
   "cell_type": "code",
   "execution_count": 16,
   "metadata": {},
   "outputs": [
    {
     "data": {
      "text/plain": [
       "{'k_neighbors': 5,\n",
       " 'n_jobs': None,\n",
       " 'random_state': 42,\n",
       " 'sampling_strategy': 0.5}"
      ]
     },
     "execution_count": 16,
     "metadata": {},
     "output_type": "execute_result"
    }
   ],
   "source": [
    "oversample.get_params()"
   ]
  },
  {
   "cell_type": "code",
   "execution_count": 17,
   "metadata": {},
   "outputs": [
    {
     "name": "stdout",
     "output_type": "stream",
     "text": [
      "Counter({0: 753, 1: 376})\n"
     ]
    }
   ],
   "source": [
    "from collections import Counter\n",
    "print(Counter(y_train))"
   ]
  },
  {
   "cell_type": "markdown",
   "metadata": {},
   "source": [
    "# 1. Logistic Regression"
   ]
  },
  {
   "cell_type": "code",
   "execution_count": 18,
   "metadata": {},
   "outputs": [
    {
     "data": {
      "text/plain": [
       "LogisticRegression(C=0.01, max_iter=1000, solver='liblinear')"
      ]
     },
     "execution_count": 18,
     "metadata": {},
     "output_type": "execute_result"
    }
   ],
   "source": [
    "from sklearn.linear_model import LogisticRegression\n",
    "classifier_lr = LogisticRegression(C=.01, fit_intercept=True, max_iter=1000, penalty = 'l2',solver='liblinear')\n",
    "classifier_lr.fit(X_train, y_train.ravel())"
   ]
  },
  {
   "cell_type": "code",
   "execution_count": 19,
   "metadata": {},
   "outputs": [
    {
     "name": "stdout",
     "output_type": "stream",
     "text": [
      "CV:  0.7927354965585053\n",
      "Training set:  0.7989371124889283\n",
      "Test set:  0.8949771689497716\n"
     ]
    }
   ],
   "source": [
    "# Predicting Cross Validation Score\n",
    "\n",
    "cv_lr = cross_val_score(estimator = classifier_lr, X = X_train, y = y_train.ravel(), cv = 5)\n",
    "print(\"CV: \", cv_lr.mean())\n",
    "\n",
    "y_pred_lr_train = classifier_lr.predict(X_train)\n",
    "accuracy_lr_train = accuracy_score(y_train, y_pred_lr_train)\n",
    "print(\"Training set: \", accuracy_lr_train)\n",
    "\n",
    "y_pred_lr_test = classifier_lr.predict(X_test)\n",
    "accuracy_lr_test = accuracy_score(y_test, y_pred_lr_test)\n",
    "print(\"Test set: \", accuracy_lr_test)"
   ]
  },
  {
   "cell_type": "code",
   "execution_count": 20,
   "metadata": {},
   "outputs": [
    {
     "name": "stdout",
     "output_type": "stream",
     "text": [
      "Training set accuracy : 0.8949771689497716\n",
      "Confusion matrix :\n",
      " [[182   8]\n",
      " [ 15  14]]\n",
      "Full Report :\n",
      "              precision    recall  f1-score   support\n",
      "\n",
      "           0       0.92      0.96      0.94       190\n",
      "           1       0.64      0.48      0.55        29\n",
      "\n",
      "    accuracy                           0.89       219\n",
      "   macro avg       0.78      0.72      0.74       219\n",
      "weighted avg       0.89      0.89      0.89       219\n",
      "\n",
      "roc_auc_score : 0.7203266787658803\n"
     ]
    }
   ],
   "source": [
    "print(\"Training set accuracy : {}\\nConfusion matrix :\\n {}\\nFull Report :\\n{}\\nroc_auc_score : {}\".format(accuracy_score(y_pred_lr_test,y_test),confusion_matrix(y_pred_lr_test,y_test),classification_report(y_pred_lr_test,y_test),roc_auc_score(y_pred_lr_test,y_test)))"
   ]
  },
  {
   "cell_type": "code",
   "execution_count": 21,
   "metadata": {},
   "outputs": [
    {
     "name": "stdout",
     "output_type": "stream",
     "text": [
      "No Skill: ROC AUC=0.500\n",
      "Logistic Regression: ROC AUC=0.868\n"
     ]
    },
    {
     "data": {
      "image/png": "[encoded data removed]",
      "text/plain": [
       "<Figure size 1080x432 with 1 Axes>"
      ]
     },
     "metadata": {
      "needs_background": "light"
     },
     "output_type": "display_data"
    }
   ],
   "source": [
    "########### ROC  AUC curve   ######\n",
    "# generate a no skill prediction (majority class)\n",
    "ns_probs = [0 for _ in range(len(y_test))]\n",
    "\n",
    "# predict probabilities\n",
    "lr_probs = classifier_lr.predict_proba(X_test)\n",
    "\n",
    "# keep probabilities for the positive outcome only\n",
    "lr_probs = lr_probs[:, 1]\n",
    "# calculate scores\n",
    "ns_auc = roc_auc_score(y_test, ns_probs)\n",
    "lr_auc = roc_auc_score(y_test, lr_probs)\n",
    "\n",
    "# summarize scores\n",
    "print('No Skill: ROC AUC=%.3f' % (ns_auc))\n",
    "print('Logistic Regression: ROC AUC=%.3f' % (lr_auc))\n",
    "\n",
    "# calculate roc curves\n",
    "ns_fpr, ns_tpr, _ = roc_curve(y_test, ns_probs)\n",
    "lr_fpr, lr_tpr, _ = roc_curve(y_test, lr_probs)\n",
    "plt.figure(figsize = (15,6))\n",
    "plt.plot(ns_fpr, ns_tpr, linestyle='--', label='No Skill')\n",
    "plt.plot(lr_fpr, lr_tpr, marker='.', label='Logistic')\n",
    "plt.xlabel('False Positive Rate')\n",
    "plt.ylabel('True Positive Rate')\n",
    "plt.legend()\n",
    "plt.title(\"ROC_AUC curve for test data\")\n",
    "plt.show()  "
   ]
  },
  {
   "cell_type": "markdown",
   "metadata": {},
   "source": [
    "# 2. Random Forest Classification"
   ]
  },
  {
   "cell_type": "code",
   "execution_count": 22,
   "metadata": {},
   "outputs": [],
   "source": [
    "rf_params = {'n_estimators' : [200,400,600,800,1000],\n",
    "             'bootstrap': [True, False],\n",
    "             'max_depth': [10, 20, 30, 40, 50, 60, 70, 80, 90, 100, None],\n",
    "             'max_features': ['auto', 'sqrt'],\n",
    "             'min_samples_leaf': [1, 2, 4],\n",
    "             'min_samples_split': [2, 5, 10]}"
   ]
  },
  {
   "cell_type": "code",
   "execution_count": 23,
   "metadata": {},
   "outputs": [
    {
     "name": "stdout",
     "output_type": "stream",
     "text": [
      "Fitting 5 folds for each of 100 candidates, totalling 500 fits\n"
     ]
    },
    {
     "name": "stderr",
     "output_type": "stream",
     "text": [
      "[Parallel(n_jobs=7)]: Using backend LokyBackend with 7 concurrent workers.\n",
      "[Parallel(n_jobs=7)]: Done  27 tasks      | elapsed:   12.7s\n",
      "[Parallel(n_jobs=7)]: Done 148 tasks      | elapsed:  1.1min\n",
      "[Parallel(n_jobs=7)]: Done 351 tasks      | elapsed:  2.5min\n",
      "[Parallel(n_jobs=7)]: Done 500 out of 500 | elapsed:  4.4min finished\n"
     ]
    },
    {
     "data": {
      "text/plain": [
       "RandomizedSearchCV(estimator=RandomForestClassifier(), n_iter=100, n_jobs=7,\n",
       "                   param_distributions={'bootstrap': [True, False],\n",
       "                                        'max_depth': [10, 20, 30, 40, 50, 60,\n",
       "                                                      70, 80, 90, 100, None],\n",
       "                                        'max_features': ['auto', 'sqrt'],\n",
       "                                        'min_samples_leaf': [1, 2, 4],\n",
       "                                        'min_samples_split': [2, 5, 10],\n",
       "                                        'n_estimators': [200, 400, 600, 800,\n",
       "                                                         1000]},\n",
       "                   random_state=48, scoring='roc_auc', verbose=2)"
      ]
     },
     "execution_count": 23,
     "metadata": {},
     "output_type": "execute_result"
    }
   ],
   "source": [
    "from sklearn.ensemble import RandomForestClassifier\n",
    "# Use the random grid to search for best hyperparameters\n",
    "# First create the base model to tune\n",
    "rf = RandomForestClassifier()\n",
    "# Random search of parameters, using 3 fold cross validation, \n",
    "# search across 100 different combinations, and use all available cores\n",
    "rf_random = RandomizedSearchCV(estimator = rf, param_distributions = rf_params, n_iter = 100, verbose=2, n_jobs = 7,scoring='roc_auc',random_state =  48)\n",
    "# Fit the random search model\n",
    "rf_random.fit(X_train,y_train)"
   ]
  },
  {
   "cell_type": "code",
   "execution_count": 24,
   "metadata": {},
   "outputs": [
    {
     "data": {
      "text/plain": [
       "{'n_estimators': 600,\n",
       " 'min_samples_split': 2,\n",
       " 'min_samples_leaf': 1,\n",
       " 'max_features': 'sqrt',\n",
       " 'max_depth': 90,\n",
       " 'bootstrap': False}"
      ]
     },
     "execution_count": 24,
     "metadata": {},
     "output_type": "execute_result"
    }
   ],
   "source": [
    "rf_random.best_params_"
   ]
  },
  {
   "cell_type": "code",
   "execution_count": 25,
   "metadata": {},
   "outputs": [
    {
     "data": {
      "text/plain": [
       "RandomForestClassifier(bootstrap=False, max_depth=90, max_features='sqrt',\n",
       "                       n_estimators=600, random_state=48)"
      ]
     },
     "execution_count": 25,
     "metadata": {},
     "output_type": "execute_result"
    }
   ],
   "source": [
    "rf_random2 = RandomForestClassifier(random_state =  48,\n",
    "                                   **rf_random.best_params_)\n",
    "\n",
    "rf_random2.fit(X_train, y_train)"
   ]
  },
  {
   "cell_type": "code",
   "execution_count": 26,
   "metadata": {},
   "outputs": [
    {
     "name": "stdout",
     "output_type": "stream",
     "text": [
      "Training set:  1.0\n",
      "Test set:  0.908675799086758\n"
     ]
    }
   ],
   "source": [
    "y_pred_rf_train = rf_random2.predict(X_train)\n",
    "accuracy_rf_train = accuracy_score(y_train, y_pred_rf_train)\n",
    "print(\"Training set: \", accuracy_rf_train)\n",
    "\n",
    "y_pred_rf_test = rf_random2.predict(X_test)\n",
    "accuracy_rf_test = accuracy_score(y_test, y_pred_rf_test)\n",
    "print(\"Test set: \", accuracy_rf_test)"
   ]
  },
  {
   "cell_type": "code",
   "execution_count": 27,
   "metadata": {},
   "outputs": [
    {
     "name": "stdout",
     "output_type": "stream",
     "text": [
      "Training set accuracy : 0.908675799086758\n",
      "Confusion matrix :\n",
      " [[190  13]\n",
      " [  7   9]]\n",
      "Full Report :\n",
      "              precision    recall  f1-score   support\n",
      "\n",
      "           0       0.96      0.94      0.95       203\n",
      "           1       0.41      0.56      0.47        16\n",
      "\n",
      "    accuracy                           0.91       219\n",
      "   macro avg       0.69      0.75      0.71       219\n",
      "weighted avg       0.92      0.91      0.92       219\n",
      "\n",
      "roc_auc_score : 0.7492302955665024\n"
     ]
    }
   ],
   "source": [
    "print(\"Training set accuracy : {}\\nConfusion matrix :\\n {}\\nFull Report :\\n{}\\nroc_auc_score : {}\".format(accuracy_score(y_pred_rf_test,y_test),confusion_matrix(y_pred_rf_test,y_test),classification_report(y_pred_rf_test,y_test),roc_auc_score(y_pred_rf_test,y_test)))"
   ]
  },
  {
   "cell_type": "code",
   "execution_count": 28,
   "metadata": {},
   "outputs": [
    {
     "name": "stdout",
     "output_type": "stream",
     "text": [
      "No Skill: ROC AUC=0.500\n",
      "Random Forest Classifier: ROC AUC=0.850\n"
     ]
    },
    {
     "data": {
      "image/png": "[encoded data removed]",
      "text/plain": [
       "<Figure size 1080x432 with 1 Axes>"
      ]
     },
     "metadata": {
      "needs_background": "light"
     },
     "output_type": "display_data"
    }
   ],
   "source": [
    "########### ROC  AUC curve   ######\n",
    "# generate a no skill prediction (majority class)\n",
    "ns_probs = [0 for _ in range(len(y_test))]\n",
    "\n",
    "# predict probabilities\n",
    "lr_probs = rf_random2.predict_proba(X_test)\n",
    "\n",
    "# keep probabilities for the positive outcome only\n",
    "lr_probs = lr_probs[:, 1]\n",
    "# calculate scores\n",
    "ns_auc = roc_auc_score(y_test, ns_probs)\n",
    "lr_auc = roc_auc_score(y_test, lr_probs)\n",
    "\n",
    "# summarize scores\n",
    "print('No Skill: ROC AUC=%.3f' % (ns_auc))\n",
    "print('Random Forest Classifier: ROC AUC=%.3f' % (lr_auc))\n",
    "\n",
    "# calculate roc curves\n",
    "ns_fpr, ns_tpr, _ = roc_curve(y_test, ns_probs)\n",
    "lr_fpr, lr_tpr, _ = roc_curve(y_test, lr_probs)\n",
    "plt.figure(figsize = (15,6))\n",
    "plt.plot(ns_fpr, ns_tpr, linestyle='--', label='No Skill')\n",
    "plt.plot(lr_fpr, lr_tpr, marker='.', label='Logistic')\n",
    "plt.xlabel('False Positive Rate')\n",
    "plt.ylabel('True Positive Rate')\n",
    "plt.legend()\n",
    "plt.title(\"ROC_AUC curve for test data\")\n",
    "plt.show()  "
   ]
  },
  {
   "cell_type": "markdown",
   "metadata": {},
   "source": [
    "# 3. Xgboost Classifier"
   ]
  },
  {
   "cell_type": "code",
   "execution_count": 29,
   "metadata": {},
   "outputs": [],
   "source": [
    "# ! pip3 install xgboost"
   ]
  },
  {
   "cell_type": "code",
   "execution_count": 30,
   "metadata": {},
   "outputs": [],
   "source": [
    "import xgboost as xgb"
   ]
  },
  {
   "cell_type": "code",
   "execution_count": 31,
   "metadata": {},
   "outputs": [],
   "source": [
    "wine_dmatrix = xgb.DMatrix(data=X_train,label=y_train.ravel())"
   ]
  },
  {
   "cell_type": "markdown",
   "metadata": {},
   "source": [
    "gbm_param_grid = {'learning_rate': [0.05,0.1,0.15,0.20,0.25],\n",
    "'max_depth': [3,4,5,6,8,10,12,15],\n",
    "'min_child_weight':[1,3,5,7],\n",
    "'gamma':[0.0,0.1,0.2,0.3,0.4],\n",
    "'colsample_bytree':[0.3,0.4,0.5,0.7],\n",
    "'n_estimators':[100,200,300],\n",
    "'random_state':range(39,50)}"
   ]
  },
  {
   "cell_type": "code",
   "execution_count": 32,
   "metadata": {},
   "outputs": [],
   "source": [
    "gbm_param_grid = {'learning_rate': [0.15,0.20,0.25],\n",
    "'max_depth': [3,4,5,6,8,10,12,15],\n",
    "'min_child_weight':[5,7,9],\n",
    "'gamma':[0.0,0.1,0.2,0.3,0.4],\n",
    "'colsample_bytree':[0.4,0.5,0.6],\n",
    "'n_estimators':[50,100,200]}"
   ]
  },
  {
   "cell_type": "code",
   "execution_count": 33,
   "metadata": {},
   "outputs": [],
   "source": [
    "gbm = xgb.XGBClassifier(use_label_encoder=False)"
   ]
  },
  {
   "cell_type": "code",
   "execution_count": 34,
   "metadata": {},
   "outputs": [
    {
     "name": "stdout",
     "output_type": "stream",
     "text": [
      "Fitting 5 folds for each of 50 candidates, totalling 250 fits\n"
     ]
    },
    {
     "name": "stderr",
     "output_type": "stream",
     "text": [
      "[Parallel(n_jobs=7)]: Using backend LokyBackend with 7 concurrent workers.\n",
      "[Parallel(n_jobs=7)]: Done  18 tasks      | elapsed:    4.1s\n",
      "[Parallel(n_jobs=7)]: Done 114 tasks      | elapsed:   11.2s\n"
     ]
    },
    {
     "name": "stdout",
     "output_type": "stream",
     "text": [
      "[04:01:25] WARNING: C:/Users/Administrator/workspace/xgboost-win64_release_1.3.0/src/learner.cc:1061: Starting in XGBoost 1.3.0, the default evaluation metric used with the objective 'binary:logistic' was changed from 'error' to 'logloss'. Explicitly set eval_metric if you'd like to restore the old behavior.\n",
      "Best parameters found:  {'n_estimators': 50, 'min_child_weight': 9, 'max_depth': 6, 'learning_rate': 0.15, 'gamma': 0.3, 'colsample_bytree': 0.6}\n",
      "Lowest RMSE found:  0.930765740604932\n"
     ]
    },
    {
     "name": "stderr",
     "output_type": "stream",
     "text": [
      "[Parallel(n_jobs=7)]: Done 250 out of 250 | elapsed:   22.4s finished\n"
     ]
    }
   ],
   "source": [
    "grid_mse = RandomizedSearchCV(gbm,param_distributions=gbm_param_grid,n_iter=50,scoring='roc_auc',n_jobs=7, cv=5, verbose=3, random_state=42)\n",
    "grid_mse.fit(X, y)\n",
    "print(\"Best parameters found: \",grid_mse.best_params_)\n",
    "print(\"Lowest RMSE found: \", np.sqrt(np.abs(grid_mse.best_score_)))"
   ]
  },
  {
   "cell_type": "code",
   "execution_count": 35,
   "metadata": {},
   "outputs": [
    {
     "data": {
      "text/plain": [
       "{'n_estimators': 50,\n",
       " 'min_child_weight': 9,\n",
       " 'max_depth': 6,\n",
       " 'learning_rate': 0.15,\n",
       " 'gamma': 0.3,\n",
       " 'colsample_bytree': 0.6}"
      ]
     },
     "execution_count": 35,
     "metadata": {},
     "output_type": "execute_result"
    }
   ],
   "source": [
    "grid_mse.best_params_"
   ]
  },
  {
   "cell_type": "code",
   "execution_count": 36,
   "metadata": {},
   "outputs": [],
   "source": [
    "gbm_best = xgb.XGBClassifier(**grid_mse.best_params_, use_label_encoder=False)"
   ]
  },
  {
   "cell_type": "code",
   "execution_count": 37,
   "metadata": {},
   "outputs": [
    {
     "name": "stdout",
     "output_type": "stream",
     "text": [
      "[04:01:25] WARNING: C:/Users/Administrator/workspace/xgboost-win64_release_1.3.0/src/learner.cc:1061: Starting in XGBoost 1.3.0, the default evaluation metric used with the objective 'binary:logistic' was changed from 'error' to 'logloss'. Explicitly set eval_metric if you'd like to restore the old behavior.\n"
     ]
    },
    {
     "data": {
      "text/plain": [
       "XGBClassifier(base_score=0.5, booster='gbtree', colsample_bylevel=1,\n",
       "              colsample_bynode=1, colsample_bytree=0.6, gamma=0.3, gpu_id=-1,\n",
       "              importance_type='gain', interaction_constraints='',\n",
       "              learning_rate=0.15, max_delta_step=0, max_depth=6,\n",
       "              min_child_weight=9, missing=nan, monotone_constraints='()',\n",
       "              n_estimators=50, n_jobs=8, num_parallel_tree=1, random_state=0,\n",
       "              reg_alpha=0, reg_lambda=1, scale_pos_weight=1, subsample=1,\n",
       "              tree_method='exact', use_label_encoder=False,\n",
       "              validate_parameters=1, verbosity=None)"
      ]
     },
     "execution_count": 37,
     "metadata": {},
     "output_type": "execute_result"
    }
   ],
   "source": [
    "gbm_best.fit(X_train,y_train)"
   ]
  },
  {
   "cell_type": "code",
   "execution_count": 38,
   "metadata": {},
   "outputs": [
    {
     "data": {
      "text/plain": [
       "{'objective': 'binary:logistic',\n",
       " 'use_label_encoder': False,\n",
       " 'base_score': 0.5,\n",
       " 'booster': 'gbtree',\n",
       " 'colsample_bylevel': 1,\n",
       " 'colsample_bynode': 1,\n",
       " 'colsample_bytree': 0.6,\n",
       " 'gamma': 0.3,\n",
       " 'gpu_id': -1,\n",
       " 'importance_type': 'gain',\n",
       " 'interaction_constraints': '',\n",
       " 'learning_rate': 0.15,\n",
       " 'max_delta_step': 0,\n",
       " 'max_depth': 6,\n",
       " 'min_child_weight': 9,\n",
       " 'missing': nan,\n",
       " 'monotone_constraints': '()',\n",
       " 'n_estimators': 50,\n",
       " 'n_jobs': 8,\n",
       " 'num_parallel_tree': 1,\n",
       " 'random_state': 0,\n",
       " 'reg_alpha': 0,\n",
       " 'reg_lambda': 1,\n",
       " 'scale_pos_weight': 1,\n",
       " 'subsample': 1,\n",
       " 'tree_method': 'exact',\n",
       " 'validate_parameters': 1,\n",
       " 'verbosity': None}"
      ]
     },
     "execution_count": 38,
     "metadata": {},
     "output_type": "execute_result"
    }
   ],
   "source": [
    "gbm_best.get_params()"
   ]
  },
  {
   "cell_type": "code",
   "execution_count": 39,
   "metadata": {},
   "outputs": [],
   "source": [
    "y_pred_xgb = gbm_best.predict(X_test)"
   ]
  },
  {
   "cell_type": "code",
   "execution_count": 40,
   "metadata": {},
   "outputs": [
    {
     "name": "stdout",
     "output_type": "stream",
     "text": [
      "Accuracy: 92.24%\n"
     ]
    }
   ],
   "source": [
    "accuracy = accuracy_score(y_test, y_pred_xgb)\n",
    "print(\"Accuracy: %.2f%%\" % (accuracy * 100.0))"
   ]
  },
  {
   "cell_type": "code",
   "execution_count": 41,
   "metadata": {},
   "outputs": [
    {
     "data": {
      "text/plain": [
       "array([[190,   7],\n",
       "       [ 10,  12]], dtype=int64)"
      ]
     },
     "execution_count": 41,
     "metadata": {},
     "output_type": "execute_result"
    }
   ],
   "source": [
    "confusion_matrix(y_test, y_pred_xgb)"
   ]
  },
  {
   "cell_type": "code",
   "execution_count": 42,
   "metadata": {},
   "outputs": [
    {
     "name": "stdout",
     "output_type": "stream",
     "text": [
      "Training set accuracy : 0.9223744292237442\n",
      "Confusion matrix :\n",
      " [[190  10]\n",
      " [  7  12]]\n",
      "Full Report :\n",
      "              precision    recall  f1-score   support\n",
      "\n",
      "           0       0.96      0.95      0.96       200\n",
      "           1       0.55      0.63      0.59        19\n",
      "\n",
      "    accuracy                           0.92       219\n",
      "   macro avg       0.75      0.79      0.77       219\n",
      "weighted avg       0.93      0.92      0.92       219\n",
      "\n",
      "roc_auc_score : 0.7907894736842105\n"
     ]
    }
   ],
   "source": [
    "print(\"Training set accuracy : {}\\nConfusion matrix :\\n {}\\nFull Report :\\n{}\\nroc_auc_score : {}\".format(accuracy_score(y_pred_xgb,y_test),confusion_matrix(y_pred_xgb,y_test),classification_report(y_pred_xgb,y_test),roc_auc_score(y_pred_xgb,y_test)))"
   ]
  },
  {
   "cell_type": "code",
   "execution_count": 43,
   "metadata": {
    "scrolled": true
   },
   "outputs": [
    {
     "data": {
      "image/png": "[encoded data removed]",
      "text/plain": [
       "<Figure size 1080x360 with 1 Axes>"
      ]
     },
     "metadata": {
      "needs_background": "light"
     },
     "output_type": "display_data"
    }
   ],
   "source": [
    "fpr, tpr, thresholds = roc_curve(y_test,y_pred_xgb)\n",
    "roc_auc = roc_auc_score(y_test,y_pred_xgb)\n",
    "plt.figure(figsize  = (15,5))\n",
    "plt.plot(fpr, tpr, label = 'Sensitivity = %0.3f'% roc_auc )\n",
    "plt.plot([0, 1], [0, 1],'r--')\n",
    "plt.xlabel('FALSE POSITIVE RATE')\n",
    "plt.ylabel('TRUE POSITIVE RATE')\n",
    "plt.title('ROC curve for test data')\n",
    "plt.legend(loc=\"lower right\")\n",
    "plt.show()"
   ]
  },
  {
   "cell_type": "code",
   "execution_count": 44,
   "metadata": {},
   "outputs": [
    {
     "name": "stdout",
     "output_type": "stream",
     "text": [
      "No Skill: ROC AUC=0.500\n",
      "XGBOOST: ROC AUC=0.887\n"
     ]
    },
    {
     "data": {
      "image/png": "[encoded data removed]",
      "text/plain": [
       "<Figure size 1080x432 with 1 Axes>"
      ]
     },
     "metadata": {
      "needs_background": "light"
     },
     "output_type": "display_data"
    }
   ],
   "source": [
    "########### ROC  AUC curve   ######\n",
    "# generate a no skill prediction (majority class)\n",
    "ns_probs = [0 for _ in range(len(y_test))]\n",
    "\n",
    "# predict probabilities\n",
    "lr_probs = gbm_best.predict_proba(X_test)\n",
    "\n",
    "# keep probabilities for the positive outcome only\n",
    "lr_probs = lr_probs[:, 1]\n",
    "# calculate scores\n",
    "ns_auc = roc_auc_score(y_test, ns_probs)\n",
    "lr_auc = roc_auc_score(y_test, lr_probs)\n",
    "\n",
    "# summarize scores\n",
    "print('No Skill: ROC AUC=%.3f' % (ns_auc))\n",
    "print('XGBOOST: ROC AUC=%.3f' % (lr_auc))\n",
    "\n",
    "# calculate roc curves\n",
    "ns_fpr, ns_tpr, _ = roc_curve(y_test, ns_probs)\n",
    "lr_fpr, lr_tpr, _ = roc_curve(y_test, lr_probs)\n",
    "plt.figure(figsize = (15,6))\n",
    "plt.plot(ns_fpr, ns_tpr, linestyle='--', label='No Skill')\n",
    "plt.plot(lr_fpr, lr_tpr, marker='.', label='XGB')\n",
    "plt.xlabel('False Positive Rate')\n",
    "plt.ylabel('True Positive Rate')\n",
    "plt.legend()\n",
    "plt.title(\"ROC_AUC curve for test data\")\n",
    "plt.show()  "
   ]
  },
  {
   "cell_type": "markdown",
   "metadata": {},
   "source": [
    "# 4. Ensembling"
   ]
  },
  {
   "cell_type": "code",
   "execution_count": 45,
   "metadata": {},
   "outputs": [],
   "source": [
    "from sklearn.ensemble import VotingClassifier\n",
    "from sklearn.model_selection import GridSearchCV"
   ]
  },
  {
   "cell_type": "code",
   "execution_count": 46,
   "metadata": {},
   "outputs": [],
   "source": [
    "#create a dictionary of our models\n",
    "estimators_dict=[(\"log_reg\",classifier_lr), (\"rf\",rf_random2), (\"xgb_best\",gbm_best)]\n",
    "params = {'weights':[[1,2,3],[2,1,3],[3,2,1]]}"
   ]
  },
  {
   "cell_type": "code",
   "execution_count": 47,
   "metadata": {},
   "outputs": [
    {
     "data": {
      "text/plain": [
       "GridSearchCV(estimator=VotingClassifier(estimators=[('log_reg',\n",
       "                                                     LogisticRegression(C=0.01,\n",
       "                                                                        max_iter=1000,\n",
       "                                                                        solver='liblinear')),\n",
       "                                                    ('rf',\n",
       "                                                     RandomForestClassifier(bootstrap=False,\n",
       "                                                                            max_depth=90,\n",
       "                                                                            max_features='sqrt',\n",
       "                                                                            n_estimators=600,\n",
       "                                                                            random_state=48)),\n",
       "                                                    ('xgb_best',\n",
       "                                                     XGBClassifier(base_score=0.5,\n",
       "                                                                   booster='gbtree',\n",
       "                                                                   colsample_bylevel=1,\n",
       "                                                                   colsample_bynode=1,\n",
       "                                                                   colsample_bytree...\n",
       "                                                                   max_depth=6,\n",
       "                                                                   min_child_weight=9,\n",
       "                                                                   missing=nan,\n",
       "                                                                   monotone_constraints='()',\n",
       "                                                                   n_estimators=50,\n",
       "                                                                   n_jobs=8,\n",
       "                                                                   num_parallel_tree=1,\n",
       "                                                                   random_state=0,\n",
       "                                                                   reg_alpha=0,\n",
       "                                                                   reg_lambda=1,\n",
       "                                                                   scale_pos_weight=1,\n",
       "                                                                   subsample=1,\n",
       "                                                                   tree_method='exact',\n",
       "                                                                   use_label_encoder=False,\n",
       "                                                                   validate_parameters=1,\n",
       "                                                                   verbosity=None))],\n",
       "                                        n_jobs=7, voting='soft'),\n",
       "             param_grid={'weights': [[1, 2, 3], [2, 1, 3], [3, 2, 1]]},\n",
       "             scoring='roc_auc')"
      ]
     },
     "execution_count": 47,
     "metadata": {},
     "output_type": "execute_result"
    }
   ],
   "source": [
    "ensemble = VotingClassifier(estimators = estimators_dict, voting='soft', n_jobs=7)\n",
    "grid_Search = GridSearchCV(param_grid = params, estimator=ensemble, scoring='roc_auc')\n",
    "\n",
    "#fit model to training data\n",
    "grid_Search.fit(X_train, y_train)"
   ]
  },
  {
   "cell_type": "code",
   "execution_count": 48,
   "metadata": {},
   "outputs": [
    {
     "data": {
      "text/plain": [
       "{'weights': [1, 2, 3]}"
      ]
     },
     "execution_count": 48,
     "metadata": {},
     "output_type": "execute_result"
    }
   ],
   "source": [
    "grid_Search.best_params_"
   ]
  },
  {
   "cell_type": "code",
   "execution_count": 49,
   "metadata": {},
   "outputs": [],
   "source": [
    "ensemble = VotingClassifier(estimators = estimators_dict, voting='soft', n_jobs=7, weights=[1,2,3])"
   ]
  },
  {
   "cell_type": "code",
   "execution_count": 50,
   "metadata": {},
   "outputs": [],
   "source": [
    "ensemble.fit(X_train, y_train)\n",
    "y_ensemble = ensemble.predict(X_test)"
   ]
  },
  {
   "cell_type": "code",
   "execution_count": 51,
   "metadata": {},
   "outputs": [
    {
     "data": {
      "text/plain": [
       "0.9269406392694064"
      ]
     },
     "execution_count": 51,
     "metadata": {},
     "output_type": "execute_result"
    }
   ],
   "source": [
    "#test our model on the test data\n",
    "ensemble.score(X_test, y_test)"
   ]
  },
  {
   "cell_type": "code",
   "execution_count": 52,
   "metadata": {},
   "outputs": [
    {
     "data": {
      "text/plain": [
       "array([[192,  11],\n",
       "       [  5,  11]], dtype=int64)"
      ]
     },
     "execution_count": 52,
     "metadata": {},
     "output_type": "execute_result"
    }
   ],
   "source": [
    "confusion_matrix(y_ensemble, y_test)"
   ]
  },
  {
   "cell_type": "code",
   "execution_count": 53,
   "metadata": {},
   "outputs": [
    {
     "name": "stdout",
     "output_type": "stream",
     "text": [
      "Training set accuracy : 0.9269406392694064\n",
      "Confusion matrix :\n",
      " [[192  11]\n",
      " [  5  11]]\n",
      "Full Report :\n",
      "              precision    recall  f1-score   support\n",
      "\n",
      "           0       0.97      0.95      0.96       203\n",
      "           1       0.50      0.69      0.58        16\n",
      "\n",
      "    accuracy                           0.93       219\n",
      "   macro avg       0.74      0.82      0.77       219\n",
      "weighted avg       0.94      0.93      0.93       219\n",
      "\n",
      "roc_auc_score : 0.8166564039408866\n"
     ]
    }
   ],
   "source": [
    "print(\"Training set accuracy : {}\\nConfusion matrix :\\n {}\\nFull Report :\\n{}\\nroc_auc_score : {}\".format(accuracy_score(y_ensemble,y_test),confusion_matrix(y_ensemble,y_test),classification_report(y_ensemble,y_test),roc_auc_score(y_ensemble,y_test)))"
   ]
  },
  {
   "cell_type": "code",
   "execution_count": 54,
   "metadata": {},
   "outputs": [
    {
     "name": "stdout",
     "output_type": "stream",
     "text": [
      "No Skill: ROC AUC=0.500\n",
      "Ensemble: ROC AUC=0.881\n"
     ]
    },
    {
     "data": {
      "image/png": "[encoded data removed]",
      "text/plain": [
       "<Figure size 1080x432 with 1 Axes>"
      ]
     },
     "metadata": {
      "needs_background": "light"
     },
     "output_type": "display_data"
    }
   ],
   "source": [
    "########### ROC  AUC curve   ######\n",
    "# generate a no skill prediction (majority class)\n",
    "ns_probs = [0 for _ in range(len(y_test))]\n",
    "\n",
    "# predict probabilities\n",
    "lr_probs = ensemble.predict_proba(X_test)\n",
    "\n",
    "# keep probabilities for the positive outcome only\n",
    "lr_probs = lr_probs[:, 1]\n",
    "# calculate scores\n",
    "ns_auc = roc_auc_score(y_test, ns_probs)\n",
    "lr_auc = roc_auc_score(y_test, lr_probs)\n",
    "\n",
    "# summarize scores\n",
    "print('No Skill: ROC AUC=%.3f' % (ns_auc))\n",
    "print('Ensemble: ROC AUC=%.3f' % (lr_auc))\n",
    "\n",
    "# calculate roc curves\n",
    "ns_fpr, ns_tpr, _ = roc_curve(y_test, ns_probs)\n",
    "lr_fpr, lr_tpr, _ = roc_curve(y_test, lr_probs)\n",
    "plt.figure(figsize = (15,6))\n",
    "plt.plot(ns_fpr, ns_tpr, linestyle='--', label='No Skill')\n",
    "plt.plot(lr_fpr, lr_tpr, marker='.', label='Ensemble')\n",
    "plt.xlabel('False Positive Rate')\n",
    "plt.ylabel('True Positive Rate')\n",
    "plt.legend()\n",
    "plt.title(\"ROC_AUC curve for test data\")\n",
    "plt.show() "
   ]
  },
  {
   "cell_type": "code",
   "execution_count": null,
   "metadata": {},
   "outputs": [],
   "source": []
  }
 ],
 "metadata": {
  "kernelspec": {
   "display_name": "Python 3",
   "language": "python",
   "name": "python3"
  },
  "language_info": {
   "codemirror_mode": {
    "name": "ipython",
    "version": 3
   },
   "file_extension": ".py",
   "mimetype": "text/x-python",
   "name": "python",
   "nbconvert_exporter": "python",
   "pygments_lexer": "ipython3",
   "version": "3.8.3"
  }
 },
 "nbformat": 4,
 "nbformat_minor": 4
}
