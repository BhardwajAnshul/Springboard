{
 "cells": [
  {
   "cell_type": "markdown",
   "metadata": {},
   "source": [
    "# Modeling"
   ]
  },
  {
   "cell_type": "code",
   "execution_count": 67,
   "metadata": {},
   "outputs": [],
   "source": [
    "import pandas as pd\n",
    "import numpy as np\n",
    "\n",
    "from sklearn.metrics import accuracy_score\n",
    "from sklearn.metrics import mean_squared_error\n",
    "from sklearn.model_selection import cross_val_score\n",
    "from sklearn.metrics import confusion_matrix\n",
    "\n",
    "from sklearn.metrics import accuracy_score,confusion_matrix,classification_report,roc_auc_score ,roc_curve,auc,f1_score, precision_recall_curve\n",
    "\n",
    "from imblearn.over_sampling import SMOTE\n",
    "\n",
    "import matplotlib.pyplot as plt"
   ]
  },
  {
   "cell_type": "code",
   "execution_count": 2,
   "metadata": {},
   "outputs": [],
   "source": [
    "df = pd.read_csv('winequality-red-scaled2.csv')"
   ]
  },
  {
   "cell_type": "code",
   "execution_count": 3,
   "metadata": {},
   "outputs": [
    {
     "data": {
      "text/html": [
       "<div>\n",
       "<style scoped>\n",
       "    .dataframe tbody tr th:only-of-type {\n",
       "        vertical-align: middle;\n",
       "    }\n",
       "\n",
       "    .dataframe tbody tr th {\n",
       "        vertical-align: top;\n",
       "    }\n",
       "\n",
       "    .dataframe thead th {\n",
       "        text-align: right;\n",
       "    }\n",
       "</style>\n",
       "<table border=\"1\" class=\"dataframe\">\n",
       "  <thead>\n",
       "    <tr style=\"text-align: right;\">\n",
       "      <th></th>\n",
       "      <th>fixed acidity</th>\n",
       "      <th>volatile acidity</th>\n",
       "      <th>citric acid</th>\n",
       "      <th>residual sugar</th>\n",
       "      <th>chlorides</th>\n",
       "      <th>free sulfur dioxide</th>\n",
       "      <th>total sulfur dioxide</th>\n",
       "      <th>density</th>\n",
       "      <th>pH</th>\n",
       "      <th>sulphates</th>\n",
       "      <th>quality</th>\n",
       "      <th>alcohol_low</th>\n",
       "      <th>alcohol_medium</th>\n",
       "      <th>alcohol_high</th>\n",
       "    </tr>\n",
       "  </thead>\n",
       "  <tbody>\n",
       "    <tr>\n",
       "      <th>0</th>\n",
       "      <td>-0.524431</td>\n",
       "      <td>0.932000</td>\n",
       "      <td>-1.393258</td>\n",
       "      <td>-0.461157</td>\n",
       "      <td>-0.245623</td>\n",
       "      <td>-0.468554</td>\n",
       "      <td>-0.384050</td>\n",
       "      <td>0.584003</td>\n",
       "      <td>1.291872</td>\n",
       "      <td>-0.578561</td>\n",
       "      <td>-0.395722</td>\n",
       "      <td>0.792177</td>\n",
       "      <td>-0.730657</td>\n",
       "      <td>-0.193403</td>\n",
       "    </tr>\n",
       "    <tr>\n",
       "      <th>1</th>\n",
       "      <td>-0.294063</td>\n",
       "      <td>1.915800</td>\n",
       "      <td>-1.393258</td>\n",
       "      <td>0.056665</td>\n",
       "      <td>0.200094</td>\n",
       "      <td>0.872003</td>\n",
       "      <td>0.604073</td>\n",
       "      <td>0.048737</td>\n",
       "      <td>-0.708395</td>\n",
       "      <td>0.124822</td>\n",
       "      <td>-0.395722</td>\n",
       "      <td>0.792177</td>\n",
       "      <td>-0.730657</td>\n",
       "      <td>-0.193403</td>\n",
       "    </tr>\n",
       "    <tr>\n",
       "      <th>2</th>\n",
       "      <td>-0.294063</td>\n",
       "      <td>1.259934</td>\n",
       "      <td>-1.188617</td>\n",
       "      <td>-0.165259</td>\n",
       "      <td>0.078535</td>\n",
       "      <td>-0.085537</td>\n",
       "      <td>0.214813</td>\n",
       "      <td>0.155790</td>\n",
       "      <td>-0.321247</td>\n",
       "      <td>-0.051024</td>\n",
       "      <td>-0.395722</td>\n",
       "      <td>0.792177</td>\n",
       "      <td>-0.730657</td>\n",
       "      <td>-0.193403</td>\n",
       "    </tr>\n",
       "    <tr>\n",
       "      <th>3</th>\n",
       "      <td>1.664067</td>\n",
       "      <td>-1.363534</td>\n",
       "      <td>1.471711</td>\n",
       "      <td>-0.461157</td>\n",
       "      <td>-0.265883</td>\n",
       "      <td>0.105971</td>\n",
       "      <td>0.394471</td>\n",
       "      <td>0.691057</td>\n",
       "      <td>-0.966495</td>\n",
       "      <td>-0.461331</td>\n",
       "      <td>-0.395722</td>\n",
       "      <td>0.792177</td>\n",
       "      <td>-0.730657</td>\n",
       "      <td>-0.193403</td>\n",
       "    </tr>\n",
       "    <tr>\n",
       "      <th>4</th>\n",
       "      <td>-0.524431</td>\n",
       "      <td>0.713378</td>\n",
       "      <td>-1.393258</td>\n",
       "      <td>-0.535132</td>\n",
       "      <td>-0.265883</td>\n",
       "      <td>-0.277045</td>\n",
       "      <td>-0.204391</td>\n",
       "      <td>0.584003</td>\n",
       "      <td>1.291872</td>\n",
       "      <td>-0.578561</td>\n",
       "      <td>-0.395722</td>\n",
       "      <td>0.792177</td>\n",
       "      <td>-0.730657</td>\n",
       "      <td>-0.193403</td>\n",
       "    </tr>\n",
       "  </tbody>\n",
       "</table>\n",
       "</div>"
      ],
      "text/plain": [
       "   fixed acidity  volatile acidity  citric acid  residual sugar  chlorides  \\\n",
       "0      -0.524431          0.932000    -1.393258       -0.461157  -0.245623   \n",
       "1      -0.294063          1.915800    -1.393258        0.056665   0.200094   \n",
       "2      -0.294063          1.259934    -1.188617       -0.165259   0.078535   \n",
       "3       1.664067         -1.363534     1.471711       -0.461157  -0.265883   \n",
       "4      -0.524431          0.713378    -1.393258       -0.535132  -0.265883   \n",
       "\n",
       "   free sulfur dioxide  total sulfur dioxide   density        pH  sulphates  \\\n",
       "0            -0.468554             -0.384050  0.584003  1.291872  -0.578561   \n",
       "1             0.872003              0.604073  0.048737 -0.708395   0.124822   \n",
       "2            -0.085537              0.214813  0.155790 -0.321247  -0.051024   \n",
       "3             0.105971              0.394471  0.691057 -0.966495  -0.461331   \n",
       "4            -0.277045             -0.204391  0.584003  1.291872  -0.578561   \n",
       "\n",
       "    quality  alcohol_low  alcohol_medium  alcohol_high  \n",
       "0 -0.395722     0.792177       -0.730657     -0.193403  \n",
       "1 -0.395722     0.792177       -0.730657     -0.193403  \n",
       "2 -0.395722     0.792177       -0.730657     -0.193403  \n",
       "3 -0.395722     0.792177       -0.730657     -0.193403  \n",
       "4 -0.395722     0.792177       -0.730657     -0.193403  "
      ]
     },
     "execution_count": 3,
     "metadata": {},
     "output_type": "execute_result"
    }
   ],
   "source": [
    "df.head()"
   ]
  },
  {
   "cell_type": "code",
   "execution_count": 4,
   "metadata": {},
   "outputs": [
    {
     "data": {
      "text/plain": [
       "-0.193403    1310\n",
       " 5.170560      49\n",
       "Name: alcohol_high, dtype: int64"
      ]
     },
     "execution_count": 4,
     "metadata": {},
     "output_type": "execute_result"
    }
   ],
   "source": [
    "df['alcohol_high'].value_counts()"
   ]
  },
  {
   "cell_type": "code",
   "execution_count": 5,
   "metadata": {},
   "outputs": [
    {
     "name": "stdout",
     "output_type": "stream",
     "text": [
      "<class 'pandas.core.frame.DataFrame'>\n",
      "RangeIndex: 1359 entries, 0 to 1358\n",
      "Data columns (total 14 columns):\n",
      " #   Column                Non-Null Count  Dtype  \n",
      "---  ------                --------------  -----  \n",
      " 0   fixed acidity         1359 non-null   float64\n",
      " 1   volatile acidity      1359 non-null   float64\n",
      " 2   citric acid           1359 non-null   float64\n",
      " 3   residual sugar        1359 non-null   float64\n",
      " 4   chlorides             1359 non-null   float64\n",
      " 5   free sulfur dioxide   1359 non-null   float64\n",
      " 6   total sulfur dioxide  1359 non-null   float64\n",
      " 7   density               1359 non-null   float64\n",
      " 8   pH                    1359 non-null   float64\n",
      " 9   sulphates             1359 non-null   float64\n",
      " 10  quality               1359 non-null   float64\n",
      " 11  alcohol_low           1359 non-null   float64\n",
      " 12  alcohol_medium        1359 non-null   float64\n",
      " 13  alcohol_high          1359 non-null   float64\n",
      "dtypes: float64(14)\n",
      "memory usage: 148.8 KB\n"
     ]
    }
   ],
   "source": [
    "df.info()"
   ]
  },
  {
   "cell_type": "code",
   "execution_count": 6,
   "metadata": {},
   "outputs": [],
   "source": [
    "from sklearn.preprocessing import LabelEncoder\n",
    "labelencoder_y = LabelEncoder()\n",
    "df['quality'] = labelencoder_y.fit_transform(df['quality'])"
   ]
  },
  {
   "cell_type": "markdown",
   "metadata": {},
   "source": [
    "# Train Test Split"
   ]
  },
  {
   "cell_type": "code",
   "execution_count": 13,
   "metadata": {},
   "outputs": [],
   "source": [
    "X = df.drop('quality', axis = 1).values\n",
    "y = df['quality'].values.reshape(-1,1)"
   ]
  },
  {
   "cell_type": "code",
   "execution_count": 14,
   "metadata": {},
   "outputs": [
    {
     "name": "stdout",
     "output_type": "stream",
     "text": [
      "Shape of X_train:  (1087, 13)\n",
      "Shape of X_test:  (272, 13)\n",
      "Shape of y_train:  (1087, 1)\n",
      "Shape of y_test (272, 1)\n"
     ]
    }
   ],
   "source": [
    "from sklearn.model_selection import train_test_split\n",
    "X_train, X_test, y_train, y_test = train_test_split(X, y, test_size = 0.2, random_state = 42)\n",
    "\n",
    "print(\"Shape of X_train: \",X_train.shape)\n",
    "print(\"Shape of X_test: \", X_test.shape)\n",
    "print(\"Shape of y_train: \",y_train.shape)\n",
    "print(\"Shape of y_test\",y_test.shape)"
   ]
  },
  {
   "cell_type": "code",
   "execution_count": 24,
   "metadata": {},
   "outputs": [
    {
     "data": {
      "text/plain": [
       "0    937\n",
       "1    150\n",
       "dtype: int64"
      ]
     },
     "execution_count": 24,
     "metadata": {},
     "output_type": "execute_result"
    }
   ],
   "source": [
    "pd.DataFrame(y_train).value_counts()"
   ]
  },
  {
   "cell_type": "markdown",
   "metadata": {},
   "source": [
    "# SMOTE for Balancing Data"
   ]
  },
  {
   "cell_type": "code",
   "execution_count": 25,
   "metadata": {},
   "outputs": [],
   "source": [
    "oversample = SMOTE(sampling_strategy=0.3)\n",
    "X_train, y_train = oversample.fit_resample(X_train, y_train)"
   ]
  },
  {
   "cell_type": "code",
   "execution_count": 26,
   "metadata": {},
   "outputs": [
    {
     "name": "stdout",
     "output_type": "stream",
     "text": [
      "Counter({0: 937, 1: 281})\n"
     ]
    }
   ],
   "source": [
    "from collections import Counter\n",
    "print(Counter(y_train))"
   ]
  },
  {
   "cell_type": "markdown",
   "metadata": {},
   "source": [
    "# 1. Logistic Regression"
   ]
  },
  {
   "cell_type": "code",
   "execution_count": 27,
   "metadata": {},
   "outputs": [
    {
     "data": {
      "text/plain": [
       "LogisticRegression(C=1, max_iter=1000, solver='liblinear')"
      ]
     },
     "execution_count": 27,
     "metadata": {},
     "output_type": "execute_result"
    }
   ],
   "source": [
    "from sklearn.linear_model import LogisticRegression\n",
    "classifier_lr = LogisticRegression(C=1, fit_intercept=True, max_iter=1000, penalty = 'l2',solver='liblinear')\n",
    "classifier_lr.fit(X_train, y_train.ravel())"
   ]
  },
  {
   "cell_type": "code",
   "execution_count": 28,
   "metadata": {},
   "outputs": [
    {
     "name": "stdout",
     "output_type": "stream",
     "text": [
      "CV:  0.8218669556970601\n",
      "Training set:  0.8251231527093597\n",
      "Test set:  0.8897058823529411\n"
     ]
    }
   ],
   "source": [
    "# Predicting Cross Validation Score\n",
    "\n",
    "cv_lr = cross_val_score(estimator = classifier_lr, X = X_train, y = y_train.ravel(), cv = 10)\n",
    "print(\"CV: \", cv_lr.mean())\n",
    "\n",
    "y_pred_lr_train = classifier_lr.predict(X_train)\n",
    "accuracy_lr_train = accuracy_score(y_train, y_pred_lr_train)\n",
    "print(\"Training set: \", accuracy_lr_train)\n",
    "\n",
    "y_pred_lr_test = classifier_lr.predict(X_test)\n",
    "accuracy_lr_test = accuracy_score(y_test, y_pred_lr_test)\n",
    "print(\"Test set: \", accuracy_lr_test)"
   ]
  },
  {
   "cell_type": "code",
   "execution_count": 29,
   "metadata": {},
   "outputs": [
    {
     "data": {
      "text/plain": [
       "array([[219,  19],\n",
       "       [ 11,  23]], dtype=int64)"
      ]
     },
     "execution_count": 29,
     "metadata": {},
     "output_type": "execute_result"
    }
   ],
   "source": [
    "confusion_matrix(y_test, y_pred_lr_test)"
   ]
  },
  {
   "cell_type": "code",
   "execution_count": 16,
   "metadata": {},
   "outputs": [],
   "source": [
    "tp_lr = confusion_matrix(y_test, y_pred_lr_test)[0,0]\n",
    "fp_lr = confusion_matrix(y_test, y_pred_lr_test)[0,1]\n",
    "tn_lr = confusion_matrix(y_test, y_pred_lr_test)[1,1]\n",
    "fn_lr = confusion_matrix(y_test, y_pred_lr_test)[1,0]"
   ]
  },
  {
   "cell_type": "markdown",
   "metadata": {},
   "source": [
    "# 2. Random Forest Classification"
   ]
  },
  {
   "cell_type": "code",
   "execution_count": 30,
   "metadata": {},
   "outputs": [
    {
     "data": {
      "text/plain": [
       "RandomForestClassifier(criterion='entropy', max_features=4, n_estimators=800,\n",
       "                       random_state=42)"
      ]
     },
     "execution_count": 30,
     "metadata": {},
     "output_type": "execute_result"
    }
   ],
   "source": [
    "# Fitting Random Forest Classification to the Training se\n",
    "from sklearn.ensemble import RandomForestClassifier\n",
    "classifier_rf = RandomForestClassifier(criterion = 'entropy', max_features = 4, n_estimators = 800, random_state=42)\n",
    "classifier_rf.fit(X_train, y_train.ravel())"
   ]
  },
  {
   "cell_type": "code",
   "execution_count": 31,
   "metadata": {},
   "outputs": [
    {
     "name": "stdout",
     "output_type": "stream",
     "text": [
      "CV:  0.8851239669421487\n",
      "Training set:  1.0\n",
      "Test set:  0.8897058823529411\n"
     ]
    }
   ],
   "source": [
    "cv_rf = cross_val_score(estimator = classifier_rf, X = X_train, y = y_train.ravel(), cv = 10)\n",
    "print(\"CV: \", cv_rf.mean())\n",
    "\n",
    "y_pred_rf_train = classifier_rf.predict(X_train)\n",
    "accuracy_rf_train = accuracy_score(y_train, y_pred_rf_train)\n",
    "print(\"Training set: \", accuracy_rf_train)\n",
    "\n",
    "y_pred_rf_test = classifier_rf.predict(X_test)\n",
    "accuracy_rf_test = accuracy_score(y_test, y_pred_rf_test)\n",
    "print(\"Test set: \", accuracy_rf_test)"
   ]
  },
  {
   "cell_type": "code",
   "execution_count": 32,
   "metadata": {},
   "outputs": [
    {
     "data": {
      "text/plain": [
       "array([[225,  13],\n",
       "       [ 17,  17]], dtype=int64)"
      ]
     },
     "execution_count": 32,
     "metadata": {},
     "output_type": "execute_result"
    }
   ],
   "source": [
    "confusion_matrix(y_test, y_pred_rf_test)"
   ]
  },
  {
   "cell_type": "code",
   "execution_count": 49,
   "metadata": {},
   "outputs": [
    {
     "name": "stdout",
     "output_type": "stream",
     "text": [
      "Training set accuracy : 0.8897058823529411\n",
      "Confusion matrix :\n",
      " [[225  17]\n",
      " [ 13  17]]\n",
      "Full Report :\n",
      "              precision    recall  f1-score   support\n",
      "\n",
      "           0       0.95      0.93      0.94       242\n",
      "           1       0.50      0.57      0.53        30\n",
      "\n",
      "    accuracy                           0.89       272\n",
      "   macro avg       0.72      0.75      0.73       272\n",
      "weighted avg       0.90      0.89      0.89       272\n",
      "\n",
      "roc_auc_score : 0.7482093663911845\n"
     ]
    }
   ],
   "source": [
    "print(\"Training set accuracy : {}\\nConfusion matrix :\\n {}\\nFull Report :\\n{}\\nroc_auc_score : {}\".format(accuracy_score(y_pred_rf_test,y_test),confusion_matrix(y_pred_rf_test,y_test),classification_report(y_pred_rf_test,y_test),roc_auc_score(y_pred_rf_test,y_test)))"
   ]
  },
  {
   "cell_type": "code",
   "execution_count": 20,
   "metadata": {},
   "outputs": [],
   "source": [
    "tp_rf = confusion_matrix(y_test, y_pred_rf_test)[0,0]\n",
    "fp_rf = confusion_matrix(y_test, y_pred_rf_test)[0,1]\n",
    "tn_rf = confusion_matrix(y_test, y_pred_rf_test)[1,1]\n",
    "fn_rf = confusion_matrix(y_test, y_pred_rf_test)[1,0]"
   ]
  },
  {
   "cell_type": "markdown",
   "metadata": {},
   "source": [
    "# 3. Xgboost Classifier"
   ]
  },
  {
   "cell_type": "code",
   "execution_count": 21,
   "metadata": {},
   "outputs": [],
   "source": [
    "# ! pip3 install xgboost"
   ]
  },
  {
   "cell_type": "code",
   "execution_count": 33,
   "metadata": {},
   "outputs": [],
   "source": [
    "import xgboost as xgb"
   ]
  },
  {
   "cell_type": "code",
   "execution_count": 34,
   "metadata": {},
   "outputs": [],
   "source": [
    "wine_dmatrix = xgb.DMatrix(data=X_train,label=y_train.ravel())"
   ]
  },
  {
   "cell_type": "code",
   "execution_count": 35,
   "metadata": {},
   "outputs": [],
   "source": [
    "import decimal\n",
    "\n",
    "def float_range(start, stop, step):\n",
    "  while start <= stop:\n",
    "    yield float(start)\n",
    "    start += decimal.Decimal(step)"
   ]
  },
  {
   "cell_type": "code",
   "execution_count": 36,
   "metadata": {},
   "outputs": [],
   "source": [
    "gbm_param_grid = {'learning_rate': [0.05,0.1,0.15,0.20,0.25],\n",
    "'max_depth': [3,4,5,6,8,10,12,15],\n",
    "'min_child_weight':[1,3,5,7],\n",
    "'gamma':[0.0,0.1,0.2,0.3,0.4],\n",
    "'colsample_bytree':[0.3,0.4,0.5,0.7],\n",
    "'n_estimators':[100,200,300]}"
   ]
  },
  {
   "cell_type": "code",
   "execution_count": 37,
   "metadata": {},
   "outputs": [],
   "source": [
    "from sklearn.model_selection import RandomizedSearchCV\n",
    "gbm = xgb.XGBClassifier(use_label_encoder=False)"
   ]
  },
  {
   "cell_type": "code",
   "execution_count": 38,
   "metadata": {},
   "outputs": [
    {
     "name": "stdout",
     "output_type": "stream",
     "text": [
      "Fitting 5 folds for each of 5 candidates, totalling 25 fits\n"
     ]
    },
    {
     "name": "stderr",
     "output_type": "stream",
     "text": [
      "[Parallel(n_jobs=-1)]: Using backend LokyBackend with 8 concurrent workers.\n",
      "[Parallel(n_jobs=-1)]: Done  19 out of  25 | elapsed:    5.4s remaining:    1.6s\n"
     ]
    },
    {
     "name": "stdout",
     "output_type": "stream",
     "text": [
      "[00:34:01] WARNING: C:/Users/Administrator/workspace/xgboost-win64_release_1.3.0/src/learner.cc:1061: Starting in XGBoost 1.3.0, the default evaluation metric used with the objective 'binary:logistic' was changed from 'error' to 'logloss'. Explicitly set eval_metric if you'd like to restore the old behavior.\n",
      "Best parameters found:  {'n_estimators': 100, 'min_child_weight': 3, 'max_depth': 3, 'learning_rate': 0.05, 'gamma': 0.1, 'colsample_bytree': 0.7}\n",
      "Lowest RMSE found:  0.9333083460057792\n"
     ]
    },
    {
     "name": "stderr",
     "output_type": "stream",
     "text": [
      "[Parallel(n_jobs=-1)]: Done  25 out of  25 | elapsed:    5.7s finished\n"
     ]
    }
   ],
   "source": [
    "grid_mse = RandomizedSearchCV(gbm,param_distributions=gbm_param_grid,n_iter=5,scoring='roc_auc',n_jobs=-1, cv=5, verbose=3)\n",
    "grid_mse.fit(X, y)\n",
    "print(\"Best parameters found: \",grid_mse.best_params_)\n",
    "print(\"Lowest RMSE found: \", np.sqrt(np.abs(grid_mse.best_score_)))"
   ]
  },
  {
   "cell_type": "code",
   "execution_count": 39,
   "metadata": {},
   "outputs": [],
   "source": [
    "gbm_best = xgb.XGBClassifier(**grid_mse.best_params_)"
   ]
  },
  {
   "cell_type": "code",
   "execution_count": 40,
   "metadata": {},
   "outputs": [
    {
     "name": "stdout",
     "output_type": "stream",
     "text": [
      "[00:34:07] WARNING: C:/Users/Administrator/workspace/xgboost-win64_release_1.3.0/src/learner.cc:1061: Starting in XGBoost 1.3.0, the default evaluation metric used with the objective 'binary:logistic' was changed from 'error' to 'logloss'. Explicitly set eval_metric if you'd like to restore the old behavior.\n"
     ]
    },
    {
     "name": "stderr",
     "output_type": "stream",
     "text": [
      "C:\\Users\\Anshu\\anaconda3\\lib\\site-packages\\xgboost\\sklearn.py:888: UserWarning: The use of label encoder in XGBClassifier is deprecated and will be removed in a future release. To remove this warning, do the following: 1) Pass option use_label_encoder=False when constructing XGBClassifier object; and 2) Encode your labels (y) as integers starting with 0, i.e. 0, 1, 2, ..., [num_class - 1].\n",
      "  warnings.warn(label_encoder_deprecation_msg, UserWarning)\n"
     ]
    },
    {
     "data": {
      "text/plain": [
       "XGBClassifier(base_score=0.5, booster='gbtree', colsample_bylevel=1,\n",
       "              colsample_bynode=1, colsample_bytree=0.7, gamma=0.1, gpu_id=-1,\n",
       "              importance_type='gain', interaction_constraints='',\n",
       "              learning_rate=0.05, max_delta_step=0, max_depth=3,\n",
       "              min_child_weight=3, missing=nan, monotone_constraints='()',\n",
       "              n_estimators=100, n_jobs=8, num_parallel_tree=1, random_state=0,\n",
       "              reg_alpha=0, reg_lambda=1, scale_pos_weight=1, subsample=1,\n",
       "              tree_method='exact', validate_parameters=1, verbosity=None)"
      ]
     },
     "execution_count": 40,
     "metadata": {},
     "output_type": "execute_result"
    }
   ],
   "source": [
    "gbm_best.fit(X_train,y_train)"
   ]
  },
  {
   "cell_type": "code",
   "execution_count": 41,
   "metadata": {},
   "outputs": [],
   "source": [
    "y_pred_xgb = gbm_best.predict(X_test)"
   ]
  },
  {
   "cell_type": "code",
   "execution_count": 42,
   "metadata": {},
   "outputs": [
    {
     "name": "stdout",
     "output_type": "stream",
     "text": [
      "Accuracy: 90.44%\n"
     ]
    }
   ],
   "source": [
    "accuracy = accuracy_score(y_test, y_pred_xgb)\n",
    "print(\"Accuracy: %.2f%%\" % (accuracy * 100.0))"
   ]
  },
  {
   "cell_type": "code",
   "execution_count": 43,
   "metadata": {},
   "outputs": [
    {
     "data": {
      "text/plain": [
       "array([[225,  13],\n",
       "       [ 13,  21]], dtype=int64)"
      ]
     },
     "execution_count": 43,
     "metadata": {},
     "output_type": "execute_result"
    }
   ],
   "source": [
    "confusion_matrix(y_test, y_pred_xgb)"
   ]
  },
  {
   "cell_type": "code",
   "execution_count": 48,
   "metadata": {},
   "outputs": [
    {
     "name": "stdout",
     "output_type": "stream",
     "text": [
      "Training set accuracy : 0.9044117647058824\n",
      "Confusion matrix :\n",
      " [[225  13]\n",
      " [ 13  21]]\n",
      "Full Report :\n",
      "              precision    recall  f1-score   support\n",
      "\n",
      "           0       0.95      0.95      0.95       238\n",
      "           1       0.62      0.62      0.62        34\n",
      "\n",
      "    accuracy                           0.90       272\n",
      "   macro avg       0.78      0.78      0.78       272\n",
      "weighted avg       0.90      0.90      0.90       272\n",
      "\n",
      "roc_auc_score : 0.7815126050420167\n"
     ]
    }
   ],
   "source": [
    "print(\"Training set accuracy : {}\\nConfusion matrix :\\n {}\\nFull Report :\\n{}\\nroc_auc_score : {}\".format(accuracy_score(y_pred_xgb,y_test),confusion_matrix(y_pred_xgb,y_test),classification_report(y_pred_xgb,y_test),roc_auc_score(y_pred_xgb,y_test)))"
   ]
  },
  {
   "cell_type": "code",
   "execution_count": 62,
   "metadata": {
    "scrolled": true
   },
   "outputs": [
    {
     "data": {
      "image/png": "[encoded data removed]",
      "text/plain": [
       "<Figure size 1080x432 with 1 Axes>"
      ]
     },
     "metadata": {
      "needs_background": "light"
     },
     "output_type": "display_data"
    }
   ],
   "source": [
    "fpr, tpr, thresholds = roc_curve(y_test,y_pred_xgb)\n",
    "roc_auc = roc_auc_score(y_test,y_pred_xgb)\n",
    "plt.figure(figsize  = (15,6))\n",
    "plt.plot(fpr, tpr, label = 'Sensitivity = %0.3f'% roc_auc )\n",
    "plt.plot([0, 1], [0, 1],'r--')\n",
    "plt.xlabel('FALSE POSITIVE RATE')\n",
    "plt.ylabel('TRUE POSITIVE RATE')\n",
    "plt.title('ROC curve for test data')\n",
    "plt.legend(loc=\"lower right\")\n",
    "plt.show()"
   ]
  },
  {
   "cell_type": "code",
   "execution_count": 65,
   "metadata": {},
   "outputs": [
    {
     "name": "stdout",
     "output_type": "stream",
     "text": [
      "No Skill: ROC AUC=0.500\n",
      "XGBOOST: ROC AUC=0.885\n"
     ]
    },
    {
     "data": {
      "image/png": "[encoded data removed]",
      "text/plain": [
       "<Figure size 1080x432 with 1 Axes>"
      ]
     },
     "metadata": {
      "needs_background": "light"
     },
     "output_type": "display_data"
    }
   ],
   "source": [
    "########### ROC  AUC curve   ######\n",
    "# generate a no skill prediction (majority class)\n",
    "ns_probs = [0 for _ in range(len(y_test))]\n",
    "\n",
    "# predict probabilities\n",
    "lr_probs = gbm_best.predict_proba(X_test)\n",
    "\n",
    "# keep probabilities for the positive outcome only\n",
    "lr_probs = lr_probs[:, 1]\n",
    "# calculate scores\n",
    "ns_auc = roc_auc_score(y_test, ns_probs)\n",
    "lr_auc = roc_auc_score(y_test, lr_probs)\n",
    "\n",
    "# summarize scores\n",
    "print('No Skill: ROC AUC=%.3f' % (ns_auc))\n",
    "print('XGBOOST: ROC AUC=%.3f' % (lr_auc))\n",
    "\n",
    "# calculate roc curves\n",
    "ns_fpr, ns_tpr, _ = roc_curve(y_test, ns_probs)\n",
    "lr_fpr, lr_tpr, _ = roc_curve(y_test, lr_probs)\n",
    "plt.figure(figsize = (15,6))\n",
    "plt.plot(ns_fpr, ns_tpr, linestyle='--', label='No Skill')\n",
    "plt.plot(lr_fpr, lr_tpr, marker='.', label='XGB')\n",
    "plt.xlabel('False Positive Rate')\n",
    "plt.ylabel('True Positive Rate')\n",
    "plt.legend()\n",
    "plt.title(\"ROC_AUC curve for test data\")\n",
    "plt.show()  "
   ]
  },
  {
   "cell_type": "code",
   "execution_count": 69,
   "metadata": {},
   "outputs": [
    {
     "name": "stdout",
     "output_type": "stream",
     "text": [
      "XGBOOST: f1=0.618 auc=0.543\n"
     ]
    },
    {
     "data": {
      "image/png": "[encoded data removed]",
      "text/plain": [
       "<Figure size 1080x432 with 1 Axes>"
      ]
     },
     "metadata": {
      "needs_background": "light"
     },
     "output_type": "display_data"
    }
   ],
   "source": [
    "# Precision Recall curve\n",
    "lr_precision, lr_recall, _ = precision_recall_curve(y_test, lr_probs)\n",
    "lr_f1, lr_auc = f1_score(y_test, y_pred_xgb), auc(lr_recall, lr_precision)\n",
    "no_skill = len(y_test[y_test==1]) / len(y_test)\n",
    "# summarize scores\n",
    "print('XGBOOST: f1=%.3f auc=%.3f' % (lr_f1, lr_auc))\n",
    "plt.figure(figsize=(15,6))\n",
    "plt.plot([0, 1], [no_skill, no_skill], linestyle='--', label='No Skill')\n",
    "plt.plot(lr_recall, lr_precision, marker='.', label='XGB')\n",
    "plt.xlabel('Recall')\n",
    "plt.ylabel('Precision')\n",
    "plt.legend()\n",
    "plt.show()"
   ]
  },
  {
   "cell_type": "code",
   "execution_count": null,
   "metadata": {},
   "outputs": [],
   "source": []
  }
 ],
 "metadata": {
  "kernelspec": {
   "display_name": "Python 3",
   "language": "python",
   "name": "python3"
  },
  "language_info": {
   "codemirror_mode": {
    "name": "ipython",
    "version": 3
   },
   "file_extension": ".py",
   "mimetype": "text/x-python",
   "name": "python",
   "nbconvert_exporter": "python",
   "pygments_lexer": "ipython3",
   "version": "3.8.3"
  }
 },
 "nbformat": 4,
 "nbformat_minor": 4
}
