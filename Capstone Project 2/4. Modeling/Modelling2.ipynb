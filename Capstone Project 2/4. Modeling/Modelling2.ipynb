{
 "cells": [
  {
   "cell_type": "markdown",
   "metadata": {},
   "source": [
    "# Modeling"
   ]
  },
  {
   "cell_type": "code",
<<<<<<< HEAD
   "execution_count": 38,
=======
   "execution_count": 3,
>>>>>>> parent of 872a944 (Update Modelling2.ipynb)
   "metadata": {},
   "outputs": [],
   "source": [
    "import pandas as pd\n",
    "import numpy as np\n",
    "\n",
    "from sklearn.metrics import accuracy_score\n",
    "from sklearn.metrics import mean_squared_error\n",
    "from sklearn.model_selection import cross_val_score\n",
    "from sklearn.metrics import confusion_matrix\n",
    "\n",
<<<<<<< HEAD
    "from sklearn.metrics import accuracy_score,confusion_matrix,classification_report,roc_auc_score ,roc_curve,auc,f1_score, precision_recall_curve\n",
    "\n",
    "from imblearn.over_sampling import SMOTE\n",
    "\n",
    "import matplotlib.pyplot as plt\n",
    "\n",
    "from tqdm import tqdm_notebook as tqdm "
=======
    "from imblearn.over_sampling import SMOTE"
>>>>>>> parent of 872a944 (Update Modelling2.ipynb)
   ]
  },
  {
   "cell_type": "code",
<<<<<<< HEAD
   "execution_count": 39,
=======
   "execution_count": 4,
>>>>>>> parent of 872a944 (Update Modelling2.ipynb)
   "metadata": {},
   "outputs": [],
   "source": [
    "df = pd.read_csv('winequality-red-scaled2.csv')"
   ]
  },
  {
   "cell_type": "code",
<<<<<<< HEAD
   "execution_count": 40,
=======
   "execution_count": 5,
>>>>>>> parent of 872a944 (Update Modelling2.ipynb)
   "metadata": {},
   "outputs": [
    {
     "data": {
      "text/html": [
       "<div>\n",
       "<style scoped>\n",
       "    .dataframe tbody tr th:only-of-type {\n",
       "        vertical-align: middle;\n",
       "    }\n",
       "\n",
       "    .dataframe tbody tr th {\n",
       "        vertical-align: top;\n",
       "    }\n",
       "\n",
       "    .dataframe thead th {\n",
       "        text-align: right;\n",
       "    }\n",
       "</style>\n",
       "<table border=\"1\" class=\"dataframe\">\n",
       "  <thead>\n",
       "    <tr style=\"text-align: right;\">\n",
       "      <th></th>\n",
       "      <th>fixed acidity</th>\n",
       "      <th>volatile acidity</th>\n",
       "      <th>citric acid</th>\n",
       "      <th>residual sugar</th>\n",
       "      <th>chlorides</th>\n",
       "      <th>free sulfur dioxide</th>\n",
       "      <th>total sulfur dioxide</th>\n",
       "      <th>density</th>\n",
       "      <th>pH</th>\n",
       "      <th>sulphates</th>\n",
       "      <th>quality</th>\n",
       "      <th>alcohol_low</th>\n",
       "      <th>alcohol_medium</th>\n",
       "      <th>alcohol_high</th>\n",
       "    </tr>\n",
       "  </thead>\n",
       "  <tbody>\n",
       "    <tr>\n",
       "      <th>0</th>\n",
       "      <td>-0.526823</td>\n",
       "      <td>0.967437</td>\n",
       "      <td>-1.396766</td>\n",
       "      <td>-0.468591</td>\n",
       "      <td>-0.286544</td>\n",
       "      <td>-0.472221</td>\n",
       "      <td>-0.389808</td>\n",
       "      <td>0.602517</td>\n",
       "      <td>1.336203</td>\n",
       "      <td>-0.586360</td>\n",
       "      <td>-0.395722</td>\n",
       "      <td>1.06463</td>\n",
       "      <td>-0.881176</td>\n",
       "      <td>-0.32246</td>\n",
       "    </tr>\n",
       "    <tr>\n",
       "      <th>1</th>\n",
       "      <td>-0.295502</td>\n",
       "      <td>1.980100</td>\n",
       "      <td>-1.396766</td>\n",
       "      <td>-0.085050</td>\n",
       "      <td>0.023186</td>\n",
       "      <td>0.885977</td>\n",
       "      <td>0.615217</td>\n",
       "      <td>0.052556</td>\n",
       "      <td>-0.727179</td>\n",
       "      <td>0.108276</td>\n",
       "      <td>-0.395722</td>\n",
       "      <td>1.06463</td>\n",
       "      <td>-0.881176</td>\n",
       "      <td>-0.32246</td>\n",
       "    </tr>\n",
       "    <tr>\n",
       "      <th>2</th>\n",
       "      <td>-0.295502</td>\n",
       "      <td>1.304992</td>\n",
       "      <td>-1.191446</td>\n",
       "      <td>-0.249425</td>\n",
       "      <td>-0.061286</td>\n",
       "      <td>-0.084165</td>\n",
       "      <td>0.219298</td>\n",
       "      <td>0.162548</td>\n",
       "      <td>-0.327815</td>\n",
       "      <td>-0.065383</td>\n",
       "      <td>-0.395722</td>\n",
       "      <td>1.06463</td>\n",
       "      <td>-0.881176</td>\n",
       "      <td>-0.32246</td>\n",
       "    </tr>\n",
       "    <tr>\n",
       "      <th>3</th>\n",
       "      <td>1.670732</td>\n",
       "      <td>-1.395443</td>\n",
       "      <td>1.477714</td>\n",
       "      <td>-0.468591</td>\n",
       "      <td>-0.300623</td>\n",
       "      <td>0.109864</td>\n",
       "      <td>0.402030</td>\n",
       "      <td>0.712509</td>\n",
       "      <td>-0.993422</td>\n",
       "      <td>-0.470587</td>\n",
       "      <td>-0.395722</td>\n",
       "      <td>1.06463</td>\n",
       "      <td>-0.881176</td>\n",
       "      <td>-0.32246</td>\n",
       "    </tr>\n",
       "    <tr>\n",
       "      <th>4</th>\n",
       "      <td>-0.526823</td>\n",
       "      <td>0.742401</td>\n",
       "      <td>-1.396766</td>\n",
       "      <td>-0.523383</td>\n",
       "      <td>-0.300623</td>\n",
       "      <td>-0.278193</td>\n",
       "      <td>-0.207076</td>\n",
       "      <td>0.602517</td>\n",
       "      <td>1.336203</td>\n",
       "      <td>-0.586360</td>\n",
       "      <td>-0.395722</td>\n",
       "      <td>1.06463</td>\n",
       "      <td>-0.881176</td>\n",
       "      <td>-0.32246</td>\n",
       "    </tr>\n",
       "  </tbody>\n",
       "</table>\n",
       "</div>"
      ],
      "text/plain": [
       "   fixed acidity  volatile acidity  citric acid  residual sugar  chlorides  \\\n",
       "0      -0.526823          0.967437    -1.396766       -0.468591  -0.286544   \n",
       "1      -0.295502          1.980100    -1.396766       -0.085050   0.023186   \n",
       "2      -0.295502          1.304992    -1.191446       -0.249425  -0.061286   \n",
       "3       1.670732         -1.395443     1.477714       -0.468591  -0.300623   \n",
       "4      -0.526823          0.742401    -1.396766       -0.523383  -0.300623   \n",
       "\n",
       "   free sulfur dioxide  total sulfur dioxide   density        pH  sulphates  \\\n",
       "0            -0.472221             -0.389808  0.602517  1.336203  -0.586360   \n",
       "1             0.885977              0.615217  0.052556 -0.727179   0.108276   \n",
       "2            -0.084165              0.219298  0.162548 -0.327815  -0.065383   \n",
       "3             0.109864              0.402030  0.712509 -0.993422  -0.470587   \n",
       "4            -0.278193             -0.207076  0.602517  1.336203  -0.586360   \n",
       "\n",
       "    quality  alcohol_low  alcohol_medium  alcohol_high  \n",
       "0 -0.395722      1.06463       -0.881176      -0.32246  \n",
       "1 -0.395722      1.06463       -0.881176      -0.32246  \n",
       "2 -0.395722      1.06463       -0.881176      -0.32246  \n",
       "3 -0.395722      1.06463       -0.881176      -0.32246  \n",
       "4 -0.395722      1.06463       -0.881176      -0.32246  "
      ]
     },
<<<<<<< HEAD
     "execution_count": 40,
=======
     "execution_count": 5,
>>>>>>> parent of 872a944 (Update Modelling2.ipynb)
     "metadata": {},
     "output_type": "execute_result"
    }
   ],
   "source": [
    "df.head()"
   ]
  },
  {
   "cell_type": "code",
<<<<<<< HEAD
   "execution_count": 41,
=======
   "execution_count": 6,
>>>>>>> parent of 872a944 (Update Modelling2.ipynb)
   "metadata": {},
   "outputs": [
    {
     "data": {
      "text/plain": [
       "-0.322460    1231\n",
       " 3.101159     128\n",
       "Name: alcohol_high, dtype: int64"
      ]
     },
<<<<<<< HEAD
     "execution_count": 41,
=======
     "execution_count": 6,
>>>>>>> parent of 872a944 (Update Modelling2.ipynb)
     "metadata": {},
     "output_type": "execute_result"
    }
   ],
   "source": [
    "df['alcohol_high'].value_counts()"
   ]
  },
  {
   "cell_type": "code",
<<<<<<< HEAD
   "execution_count": 42,
=======
   "execution_count": 7,
>>>>>>> parent of 872a944 (Update Modelling2.ipynb)
   "metadata": {},
   "outputs": [
    {
     "name": "stdout",
     "output_type": "stream",
     "text": [
      "<class 'pandas.core.frame.DataFrame'>\n",
      "RangeIndex: 1359 entries, 0 to 1358\n",
      "Data columns (total 14 columns):\n",
      " #   Column                Non-Null Count  Dtype  \n",
      "---  ------                --------------  -----  \n",
      " 0   fixed acidity         1359 non-null   float64\n",
      " 1   volatile acidity      1359 non-null   float64\n",
      " 2   citric acid           1359 non-null   float64\n",
      " 3   residual sugar        1359 non-null   float64\n",
      " 4   chlorides             1359 non-null   float64\n",
      " 5   free sulfur dioxide   1359 non-null   float64\n",
      " 6   total sulfur dioxide  1359 non-null   float64\n",
      " 7   density               1359 non-null   float64\n",
      " 8   pH                    1359 non-null   float64\n",
      " 9   sulphates             1359 non-null   float64\n",
      " 10  quality               1359 non-null   float64\n",
      " 11  alcohol_low           1359 non-null   float64\n",
      " 12  alcohol_medium        1359 non-null   float64\n",
      " 13  alcohol_high          1359 non-null   float64\n",
      "dtypes: float64(14)\n",
      "memory usage: 148.8 KB\n"
     ]
    }
   ],
   "source": [
    "df.info()"
   ]
  },
  {
   "cell_type": "code",
<<<<<<< HEAD
   "execution_count": 43,
   "metadata": {},
   "outputs": [
    {
     "data": {
      "text/html": [
       "<div>\n",
       "<style scoped>\n",
       "    .dataframe tbody tr th:only-of-type {\n",
       "        vertical-align: middle;\n",
       "    }\n",
       "\n",
       "    .dataframe tbody tr th {\n",
       "        vertical-align: top;\n",
       "    }\n",
       "\n",
       "    .dataframe thead th {\n",
       "        text-align: right;\n",
       "    }\n",
       "</style>\n",
       "<table border=\"1\" class=\"dataframe\">\n",
       "  <thead>\n",
       "    <tr style=\"text-align: right;\">\n",
       "      <th></th>\n",
       "      <th>fixed acidity</th>\n",
       "      <th>volatile acidity</th>\n",
       "      <th>citric acid</th>\n",
       "      <th>residual sugar</th>\n",
       "      <th>chlorides</th>\n",
       "      <th>free sulfur dioxide</th>\n",
       "      <th>total sulfur dioxide</th>\n",
       "      <th>density</th>\n",
       "      <th>pH</th>\n",
       "      <th>sulphates</th>\n",
       "      <th>quality</th>\n",
       "      <th>alcohol_low</th>\n",
       "      <th>alcohol_medium</th>\n",
       "      <th>alcohol_high</th>\n",
       "    </tr>\n",
       "  </thead>\n",
       "  <tbody>\n",
       "    <tr>\n",
       "      <th>0</th>\n",
       "      <td>-0.526823</td>\n",
       "      <td>0.967437</td>\n",
       "      <td>-1.396766</td>\n",
       "      <td>-0.468591</td>\n",
       "      <td>-0.286544</td>\n",
       "      <td>-0.472221</td>\n",
       "      <td>-0.389808</td>\n",
       "      <td>0.602517</td>\n",
       "      <td>1.336203</td>\n",
       "      <td>-0.586360</td>\n",
       "      <td>-0.395722</td>\n",
       "      <td>1.06463</td>\n",
       "      <td>-0.881176</td>\n",
       "      <td>-0.32246</td>\n",
       "    </tr>\n",
       "    <tr>\n",
       "      <th>1</th>\n",
       "      <td>-0.295502</td>\n",
       "      <td>1.980100</td>\n",
       "      <td>-1.396766</td>\n",
       "      <td>-0.085050</td>\n",
       "      <td>0.023186</td>\n",
       "      <td>0.885977</td>\n",
       "      <td>0.615217</td>\n",
       "      <td>0.052556</td>\n",
       "      <td>-0.727179</td>\n",
       "      <td>0.108276</td>\n",
       "      <td>-0.395722</td>\n",
       "      <td>1.06463</td>\n",
       "      <td>-0.881176</td>\n",
       "      <td>-0.32246</td>\n",
       "    </tr>\n",
       "    <tr>\n",
       "      <th>2</th>\n",
       "      <td>-0.295502</td>\n",
       "      <td>1.304992</td>\n",
       "      <td>-1.191446</td>\n",
       "      <td>-0.249425</td>\n",
       "      <td>-0.061286</td>\n",
       "      <td>-0.084165</td>\n",
       "      <td>0.219298</td>\n",
       "      <td>0.162548</td>\n",
       "      <td>-0.327815</td>\n",
       "      <td>-0.065383</td>\n",
       "      <td>-0.395722</td>\n",
       "      <td>1.06463</td>\n",
       "      <td>-0.881176</td>\n",
       "      <td>-0.32246</td>\n",
       "    </tr>\n",
       "    <tr>\n",
       "      <th>3</th>\n",
       "      <td>1.670732</td>\n",
       "      <td>-1.395443</td>\n",
       "      <td>1.477714</td>\n",
       "      <td>-0.468591</td>\n",
       "      <td>-0.300623</td>\n",
       "      <td>0.109864</td>\n",
       "      <td>0.402030</td>\n",
       "      <td>0.712509</td>\n",
       "      <td>-0.993422</td>\n",
       "      <td>-0.470587</td>\n",
       "      <td>-0.395722</td>\n",
       "      <td>1.06463</td>\n",
       "      <td>-0.881176</td>\n",
       "      <td>-0.32246</td>\n",
       "    </tr>\n",
       "    <tr>\n",
       "      <th>4</th>\n",
       "      <td>-0.526823</td>\n",
       "      <td>0.742401</td>\n",
       "      <td>-1.396766</td>\n",
       "      <td>-0.523383</td>\n",
       "      <td>-0.300623</td>\n",
       "      <td>-0.278193</td>\n",
       "      <td>-0.207076</td>\n",
       "      <td>0.602517</td>\n",
       "      <td>1.336203</td>\n",
       "      <td>-0.586360</td>\n",
       "      <td>-0.395722</td>\n",
       "      <td>1.06463</td>\n",
       "      <td>-0.881176</td>\n",
       "      <td>-0.32246</td>\n",
       "    </tr>\n",
       "  </tbody>\n",
       "</table>\n",
       "</div>"
      ],
      "text/plain": [
       "   fixed acidity  volatile acidity  citric acid  residual sugar  chlorides  \\\n",
       "0      -0.526823          0.967437    -1.396766       -0.468591  -0.286544   \n",
       "1      -0.295502          1.980100    -1.396766       -0.085050   0.023186   \n",
       "2      -0.295502          1.304992    -1.191446       -0.249425  -0.061286   \n",
       "3       1.670732         -1.395443     1.477714       -0.468591  -0.300623   \n",
       "4      -0.526823          0.742401    -1.396766       -0.523383  -0.300623   \n",
       "\n",
       "   free sulfur dioxide  total sulfur dioxide   density        pH  sulphates  \\\n",
       "0            -0.472221             -0.389808  0.602517  1.336203  -0.586360   \n",
       "1             0.885977              0.615217  0.052556 -0.727179   0.108276   \n",
       "2            -0.084165              0.219298  0.162548 -0.327815  -0.065383   \n",
       "3             0.109864              0.402030  0.712509 -0.993422  -0.470587   \n",
       "4            -0.278193             -0.207076  0.602517  1.336203  -0.586360   \n",
       "\n",
       "    quality  alcohol_low  alcohol_medium  alcohol_high  \n",
       "0 -0.395722      1.06463       -0.881176      -0.32246  \n",
       "1 -0.395722      1.06463       -0.881176      -0.32246  \n",
       "2 -0.395722      1.06463       -0.881176      -0.32246  \n",
       "3 -0.395722      1.06463       -0.881176      -0.32246  \n",
       "4 -0.395722      1.06463       -0.881176      -0.32246  "
      ]
     },
     "execution_count": 43,
     "metadata": {},
     "output_type": "execute_result"
    }
   ],
   "source": [
    "df.head()"
   ]
  },
  {
   "cell_type": "code",
   "execution_count": 44,
=======
   "execution_count": 8,
>>>>>>> parent of 872a944 (Update Modelling2.ipynb)
   "metadata": {},
   "outputs": [],
   "source": [
    "from sklearn.preprocessing import LabelEncoder\n",
    "labelencoder_y = LabelEncoder()\n",
    "df['quality'] = labelencoder_y.fit_transform(df['quality'])"
   ]
  },
  {
   "cell_type": "code",
   "execution_count": 11,
   "metadata": {},
   "outputs": [
    {
     "name": "stdout",
     "output_type": "stream",
     "text": [
      "Counter({0: 1175, 1: 1175})\n"
     ]
    }
   ],
   "source": [
    "from collections import Counter\n",
    "print(Counter(y))"
   ]
  },
  {
   "cell_type": "markdown",
   "metadata": {},
   "source": [
    "# Train Test Split"
   ]
  },
  {
   "cell_type": "code",
<<<<<<< HEAD
   "execution_count": 45,
=======
   "execution_count": 9,
>>>>>>> parent of 872a944 (Update Modelling2.ipynb)
   "metadata": {},
   "outputs": [],
   "source": [
    "X = df.drop('quality', axis = 1).values\n",
    "y = df['quality'].values.reshape(-1,1)"
   ]
  },
  {
   "cell_type": "code",
<<<<<<< HEAD
   "execution_count": 46,
=======
   "execution_count": 12,
>>>>>>> parent of 872a944 (Update Modelling2.ipynb)
   "metadata": {},
   "outputs": [
    {
     "name": "stdout",
     "output_type": "stream",
     "text": [
      "Shape of X_train:  (1880, 13)\n",
      "Shape of X_test:  (470, 13)\n",
      "Shape of y_train:  (1880,)\n",
      "Shape of y_test (470,)\n"
     ]
    }
   ],
   "source": [
    "from sklearn.model_selection import train_test_split\n",
    "X_train, X_test, y_train, y_test = train_test_split(X, y, test_size = 0.2, random_state = 42)\n",
    "\n",
    "print(\"Shape of X_train: \",X_train.shape)\n",
    "print(\"Shape of X_test: \", X_test.shape)\n",
    "print(\"Shape of y_train: \",y_train.shape)\n",
    "print(\"Shape of y_test\",y_test.shape)"
   ]
  },
  {
<<<<<<< HEAD
   "cell_type": "code",
   "execution_count": 47,
   "metadata": {},
   "outputs": [
    {
     "data": {
      "text/plain": [
       "0    937\n",
       "1    150\n",
       "dtype: int64"
      ]
     },
     "execution_count": 47,
     "metadata": {},
     "output_type": "execute_result"
    }
   ],
   "source": [
    "pd.DataFrame(y_train).value_counts()"
   ]
  },
  {
=======
>>>>>>> parent of 872a944 (Update Modelling2.ipynb)
   "cell_type": "markdown",
   "metadata": {},
   "source": [
    "# SMOTE for Balancing Data"
   ]
  },
  {
   "cell_type": "code",
<<<<<<< HEAD
   "execution_count": 48,
   "metadata": {},
   "outputs": [],
   "source": [
    "oversample = SMOTE(sampling_strategy=0.3)\n",
    "X_train, y_train = oversample.fit_resample(X_train, y_train)"
   ]
  },
  {
   "cell_type": "code",
   "execution_count": 49,
   "metadata": {},
   "outputs": [
    {
     "name": "stdout",
     "output_type": "stream",
     "text": [
      "Counter({0: 937, 1: 281})\n"
     ]
    }
   ],
   "source": [
    "from collections import Counter\n",
    "print(Counter(y_train))"
=======
   "execution_count": 10,
   "metadata": {},
   "outputs": [],
   "source": [
    "oversample = SMOTE()\n",
    "X, y = oversample.fit_resample(X, y)"
>>>>>>> parent of 872a944 (Update Modelling2.ipynb)
   ]
  },
  {
   "cell_type": "markdown",
   "metadata": {},
   "source": [
    "# 1. Logistic Regression"
   ]
  },
  {
   "cell_type": "code",
<<<<<<< HEAD
   "execution_count": 50,
=======
   "execution_count": 13,
>>>>>>> parent of 872a944 (Update Modelling2.ipynb)
   "metadata": {},
   "outputs": [
    {
     "data": {
      "text/plain": [
       "LogisticRegression(C=1, max_iter=1000, solver='liblinear')"
      ]
     },
<<<<<<< HEAD
     "execution_count": 50,
=======
     "execution_count": 13,
>>>>>>> parent of 872a944 (Update Modelling2.ipynb)
     "metadata": {},
     "output_type": "execute_result"
    }
   ],
   "source": [
    "from sklearn.linear_model import LogisticRegression\n",
    "classifier_lr = LogisticRegression(C=1, fit_intercept=True, max_iter=1000, penalty = 'l2',solver='liblinear')\n",
    "classifier_lr.fit(X_train, y_train.ravel())"
   ]
  },
  {
   "cell_type": "code",
<<<<<<< HEAD
   "execution_count": 51,
=======
   "execution_count": 14,
>>>>>>> parent of 872a944 (Update Modelling2.ipynb)
   "metadata": {},
   "outputs": [
    {
     "name": "stdout",
     "output_type": "stream",
     "text": [
<<<<<<< HEAD
      "CV:  0.8210201869665358\n",
      "Training set:  0.8300492610837439\n",
      "Test set:  0.8786764705882353\n"
=======
      "CV:  0.8069148936170214\n",
      "Training set:  0.8095744680851064\n",
      "Test set:  0.7808510638297872\n"
>>>>>>> parent of 872a944 (Update Modelling2.ipynb)
     ]
    }
   ],
   "source": [
    "# Predicting Cross Validation Score\n",
    "\n",
    "cv_lr = cross_val_score(estimator = classifier_lr, X = X_train, y = y_train.ravel(), cv = 10)\n",
    "print(\"CV: \", cv_lr.mean())\n",
    "\n",
    "y_pred_lr_train = classifier_lr.predict(X_train)\n",
    "accuracy_lr_train = accuracy_score(y_train, y_pred_lr_train)\n",
    "print(\"Training set: \", accuracy_lr_train)\n",
    "\n",
    "y_pred_lr_test = classifier_lr.predict(X_test)\n",
    "accuracy_lr_test = accuracy_score(y_test, y_pred_lr_test)\n",
    "print(\"Test set: \", accuracy_lr_test)"
   ]
  },
  {
   "cell_type": "code",
<<<<<<< HEAD
   "execution_count": 52,
=======
   "execution_count": 15,
>>>>>>> parent of 872a944 (Update Modelling2.ipynb)
   "metadata": {},
   "outputs": [
    {
     "data": {
      "text/plain": [
<<<<<<< HEAD
       "array([[218,  20],\n",
       "       [ 13,  21]], dtype=int64)"
      ]
     },
     "execution_count": 52,
=======
       "array([[172,  60],\n",
       "       [ 43, 195]], dtype=int64)"
      ]
     },
     "execution_count": 15,
>>>>>>> parent of 872a944 (Update Modelling2.ipynb)
     "metadata": {},
     "output_type": "execute_result"
    }
   ],
   "source": [
    "confusion_matrix(y_test, y_pred_lr_test)"
   ]
  },
  {
   "cell_type": "markdown",
   "metadata": {},
   "source": [
    "# 2. Random Forest Classification"
   ]
  },
  {
   "cell_type": "code",
<<<<<<< HEAD
   "execution_count": 53,
=======
   "execution_count": 17,
>>>>>>> parent of 872a944 (Update Modelling2.ipynb)
   "metadata": {},
   "outputs": [
    {
     "data": {
      "text/plain": [
       "RandomForestClassifier(criterion='entropy', max_features=4, n_estimators=800,\n",
       "                       random_state=42)"
      ]
     },
<<<<<<< HEAD
     "execution_count": 53,
=======
     "execution_count": 17,
>>>>>>> parent of 872a944 (Update Modelling2.ipynb)
     "metadata": {},
     "output_type": "execute_result"
    }
   ],
   "source": [
    "# Fitting Random Forest Classification to the Training se\n",
    "from sklearn.ensemble import RandomForestClassifier\n",
    "classifier_rf = RandomForestClassifier(criterion = 'entropy', max_features = 4, n_estimators = 800, random_state=42)\n",
    "classifier_rf.fit(X_train, y_train.ravel())"
   ]
  },
  {
   "cell_type": "code",
<<<<<<< HEAD
   "execution_count": 54,
=======
   "execution_count": 18,
>>>>>>> parent of 872a944 (Update Modelling2.ipynb)
   "metadata": {},
   "outputs": [
    {
     "name": "stdout",
     "output_type": "stream",
     "text": [
<<<<<<< HEAD
      "CV:  0.8867565370545997\n",
=======
      "CV:  0.9154255319148936\n",
>>>>>>> parent of 872a944 (Update Modelling2.ipynb)
      "Training set:  1.0\n",
      "Test set:  0.9340425531914893\n"
     ]
    }
   ],
   "source": [
    "cv_rf = cross_val_score(estimator = classifier_rf, X = X_train, y = y_train.ravel(), cv = 10)\n",
    "print(\"CV: \", cv_rf.mean())\n",
    "\n",
    "y_pred_rf_train = classifier_rf.predict(X_train)\n",
    "accuracy_rf_train = accuracy_score(y_train, y_pred_rf_train)\n",
    "print(\"Training set: \", accuracy_rf_train)\n",
    "\n",
    "y_pred_rf_test = classifier_rf.predict(X_test)\n",
    "accuracy_rf_test = accuracy_score(y_test, y_pred_rf_test)\n",
    "print(\"Test set: \", accuracy_rf_test)"
   ]
  },
  {
   "cell_type": "code",
<<<<<<< HEAD
   "execution_count": 55,
=======
   "execution_count": 19,
>>>>>>> parent of 872a944 (Update Modelling2.ipynb)
   "metadata": {},
   "outputs": [
    {
     "data": {
      "text/plain": [
<<<<<<< HEAD
       "array([[224,  14],\n",
       "       [ 16,  18]], dtype=int64)"
      ]
     },
     "execution_count": 55,
=======
       "array([[207,  25],\n",
       "       [  6, 232]], dtype=int64)"
      ]
     },
     "execution_count": 19,
>>>>>>> parent of 872a944 (Update Modelling2.ipynb)
     "metadata": {},
     "output_type": "execute_result"
    }
   ],
   "source": [
    "confusion_matrix(y_test, y_pred_rf_test)"
   ]
  },
  {
   "cell_type": "code",
<<<<<<< HEAD
   "execution_count": 56,
   "metadata": {},
   "outputs": [
    {
     "name": "stdout",
     "output_type": "stream",
     "text": [
      "Training set accuracy : 0.8897058823529411\n",
      "Confusion matrix :\n",
      " [[224  16]\n",
      " [ 14  18]]\n",
      "Full Report :\n",
      "              precision    recall  f1-score   support\n",
      "\n",
      "           0       0.94      0.93      0.94       240\n",
      "           1       0.53      0.56      0.55        32\n",
      "\n",
      "    accuracy                           0.89       272\n",
      "   macro avg       0.74      0.75      0.74       272\n",
      "weighted avg       0.89      0.89      0.89       272\n",
      "\n",
      "roc_auc_score : 0.7479166666666667\n"
     ]
    }
   ],
   "source": [
    "print(\"Training set accuracy : {}\\nConfusion matrix :\\n {}\\nFull Report :\\n{}\\nroc_auc_score : {}\".format(accuracy_score(y_pred_rf_test,y_test),confusion_matrix(y_pred_rf_test,y_test),classification_report(y_pred_rf_test,y_test),roc_auc_score(y_pred_rf_test,y_test)))"
=======
   "execution_count": 20,
   "metadata": {},
   "outputs": [],
   "source": [
    "tp_rf = confusion_matrix(y_test, y_pred_rf_test)[0,0]\n",
    "fp_rf = confusion_matrix(y_test, y_pred_rf_test)[0,1]\n",
    "tn_rf = confusion_matrix(y_test, y_pred_rf_test)[1,1]\n",
    "fn_rf = confusion_matrix(y_test, y_pred_rf_test)[1,0]"
>>>>>>> parent of 872a944 (Update Modelling2.ipynb)
   ]
  },
  {
   "cell_type": "markdown",
   "metadata": {},
   "source": [
    "# 3. Xgboost Classifier"
   ]
  },
  {
   "cell_type": "code",
   "execution_count": 57,
   "metadata": {},
   "outputs": [],
   "source": [
    "# ! pip3 install xgboost"
   ]
  },
  {
   "cell_type": "code",
<<<<<<< HEAD
   "execution_count": 58,
=======
   "execution_count": 22,
>>>>>>> parent of 872a944 (Update Modelling2.ipynb)
   "metadata": {},
   "outputs": [],
   "source": [
    "import xgboost as xgb"
   ]
  },
  {
   "cell_type": "code",
<<<<<<< HEAD
   "execution_count": 59,
=======
   "execution_count": 23,
>>>>>>> parent of 872a944 (Update Modelling2.ipynb)
   "metadata": {},
   "outputs": [],
   "source": [
    "wine_dmatrix = xgb.DMatrix(data=X_train,label=y_train.ravel())"
   ]
  },
  {
   "cell_type": "code",
<<<<<<< HEAD
   "execution_count": 60,
=======
   "execution_count": 24,
>>>>>>> parent of 872a944 (Update Modelling2.ipynb)
   "metadata": {},
   "outputs": [],
   "source": [
    "import decimal\n",
    "\n",
    "def float_range(start, stop, step):\n",
    "  while start <= stop:\n",
    "    yield float(start)\n",
    "    start += decimal.Decimal(step)"
   ]
  },
  {
   "cell_type": "code",
<<<<<<< HEAD
   "execution_count": 61,
=======
   "execution_count": 32,
>>>>>>> parent of 872a944 (Update Modelling2.ipynb)
   "metadata": {},
   "outputs": [],
   "source": [
    "gbm_param_grid = {'learning_rate': [0.05,0.1,0.15,0.20,0.25],\n",
    "'max_depth': [3,4,5,6,8,10,12,15],\n",
    "'min_child_weight':[1,3,5,7],\n",
    "'gamma':[0.0,0.1,0.2,0.3,0.4],\n",
    "'colsample_bytree':[0.3,0.4,0.5,0.7],\n",
    "'n_estimators':[100,200,300]}"
   ]
  },
  {
   "cell_type": "code",
<<<<<<< HEAD
   "execution_count": 62,
=======
   "execution_count": 33,
>>>>>>> parent of 872a944 (Update Modelling2.ipynb)
   "metadata": {},
   "outputs": [],
   "source": [
    "from sklearn.model_selection import RandomizedSearchCV\n",
    "gbm = xgb.XGBClassifier(use_label_encoder=False)"
   ]
  },
  {
   "cell_type": "code",
<<<<<<< HEAD
   "execution_count": 63,
=======
   "execution_count": 34,
>>>>>>> parent of 872a944 (Update Modelling2.ipynb)
   "metadata": {},
   "outputs": [
    {
     "name": "stdout",
     "output_type": "stream",
     "text": [
      "Fitting 5 folds for each of 5 candidates, totalling 25 fits\n"
     ]
    },
    {
     "name": "stderr",
     "output_type": "stream",
     "text": [
      "[Parallel(n_jobs=-1)]: Using backend LokyBackend with 8 concurrent workers.\n",
<<<<<<< HEAD
      "[Parallel(n_jobs=-1)]: Done  19 out of  25 | elapsed:    6.2s remaining:    1.9s\n",
      "[Parallel(n_jobs=-1)]: Done  25 out of  25 | elapsed:    6.4s finished\n"
=======
      "[Parallel(n_jobs=-1)]: Done  19 out of  25 | elapsed:    2.7s remaining:    0.8s\n",
      "[Parallel(n_jobs=-1)]: Done  25 out of  25 | elapsed:    2.9s finished\n"
>>>>>>> parent of 872a944 (Update Modelling2.ipynb)
     ]
    },
    {
     "name": "stdout",
     "output_type": "stream",
     "text": [
<<<<<<< HEAD
      "[04:46:09] WARNING: C:/Users/Administrator/workspace/xgboost-win64_release_1.3.0/src/learner.cc:1061: Starting in XGBoost 1.3.0, the default evaluation metric used with the objective 'binary:logistic' was changed from 'error' to 'logloss'. Explicitly set eval_metric if you'd like to restore the old behavior.\n",
      "Best parameters found:  {'n_estimators': 100, 'min_child_weight': 1, 'max_depth': 6, 'learning_rate': 0.1, 'gamma': 0.0, 'colsample_bytree': 0.4}\n",
      "Lowest RMSE found:  0.9238738575188359\n"
=======
      "[21:25:04] WARNING: C:/Users/Administrator/workspace/xgboost-win64_release_1.3.0/src/learner.cc:1061: Starting in XGBoost 1.3.0, the default evaluation metric used with the objective 'binary:logistic' was changed from 'error' to 'logloss'. Explicitly set eval_metric if you'd like to restore the old behavior.\n",
      "Best parameters found:  {'n_estimators': 200, 'min_child_weight': 1, 'max_depth': 12, 'learning_rate': 0.25, 'gamma': 0.2, 'colsample_bytree': 0.7}\n",
      "Lowest RMSE found:  0.9883852422274247\n"
>>>>>>> parent of 872a944 (Update Modelling2.ipynb)
     ]
    }
   ],
   "source": [
    "grid_mse = RandomizedSearchCV(gbm,param_distributions=gbm_param_grid,n_iter=5,scoring='roc_auc',n_jobs=-1, cv=5, verbose=3)\n",
    "grid_mse.fit(X, y)\n",
    "print(\"Best parameters found: \",grid_mse.best_params_)\n",
    "print(\"Lowest RMSE found: \", np.sqrt(np.abs(grid_mse.best_score_)))"
   ]
  },
  {
   "cell_type": "code",
<<<<<<< HEAD
   "execution_count": 64,
=======
   "execution_count": 35,
>>>>>>> parent of 872a944 (Update Modelling2.ipynb)
   "metadata": {},
   "outputs": [],
   "source": [
    "gbm_best = xgb.XGBClassifier(**grid_mse.best_params_)"
   ]
  },
  {
   "cell_type": "code",
<<<<<<< HEAD
   "execution_count": 65,
=======
   "execution_count": 36,
>>>>>>> parent of 872a944 (Update Modelling2.ipynb)
   "metadata": {},
   "outputs": [
    {
     "name": "stderr",
     "output_type": "stream",
     "text": [
<<<<<<< HEAD
      "[04:46:09] WARNING: C:/Users/Administrator/workspace/xgboost-win64_release_1.3.0/src/learner.cc:1061: Starting in XGBoost 1.3.0, the default evaluation metric used with the objective 'binary:logistic' was changed from 'error' to 'logloss'. Explicitly set eval_metric if you'd like to restore the old behavior.\n"
=======
      "C:\\Users\\Anshu\\anaconda3\\lib\\site-packages\\xgboost\\sklearn.py:888: UserWarning: The use of label encoder in XGBClassifier is deprecated and will be removed in a future release. To remove this warning, do the following: 1) Pass option use_label_encoder=False when constructing XGBClassifier object; and 2) Encode your labels (y) as integers starting with 0, i.e. 0, 1, 2, ..., [num_class - 1].\n",
      "  warnings.warn(label_encoder_deprecation_msg, UserWarning)\n"
>>>>>>> parent of 872a944 (Update Modelling2.ipynb)
     ]
    },
    {
     "name": "stdout",
     "output_type": "stream",
     "text": [
      "[21:25:09] WARNING: C:/Users/Administrator/workspace/xgboost-win64_release_1.3.0/src/learner.cc:1061: Starting in XGBoost 1.3.0, the default evaluation metric used with the objective 'binary:logistic' was changed from 'error' to 'logloss'. Explicitly set eval_metric if you'd like to restore the old behavior.\n"
     ]
    },
    {
     "data": {
      "text/plain": [
       "XGBClassifier(base_score=0.5, booster='gbtree', colsample_bylevel=1,\n",
<<<<<<< HEAD
       "              colsample_bynode=1, colsample_bytree=0.4, gamma=0.0, gpu_id=-1,\n",
       "              importance_type='gain', interaction_constraints='',\n",
       "              learning_rate=0.1, max_delta_step=0, max_depth=6,\n",
       "              min_child_weight=1, missing=nan, monotone_constraints='()',\n",
       "              n_estimators=100, n_jobs=8, num_parallel_tree=1, random_state=0,\n",
=======
       "              colsample_bynode=1, colsample_bytree=0.7, gamma=0.2, gpu_id=-1,\n",
       "              importance_type='gain', interaction_constraints='',\n",
       "              learning_rate=0.25, max_delta_step=0, max_depth=12,\n",
       "              min_child_weight=1, missing=nan, monotone_constraints='()',\n",
       "              n_estimators=200, n_jobs=8, num_parallel_tree=1, random_state=0,\n",
>>>>>>> parent of 872a944 (Update Modelling2.ipynb)
       "              reg_alpha=0, reg_lambda=1, scale_pos_weight=1, subsample=1,\n",
       "              tree_method='exact', validate_parameters=1, verbosity=None)"
      ]
     },
<<<<<<< HEAD
     "execution_count": 65,
=======
     "execution_count": 36,
>>>>>>> parent of 872a944 (Update Modelling2.ipynb)
     "metadata": {},
     "output_type": "execute_result"
    }
   ],
   "source": [
    "gbm_best.fit(X_train,y_train)"
   ]
  },
  {
   "cell_type": "code",
<<<<<<< HEAD
   "execution_count": 66,
=======
   "execution_count": 37,
>>>>>>> parent of 872a944 (Update Modelling2.ipynb)
   "metadata": {},
   "outputs": [],
   "source": [
    "y_pred_xgb = gbm_best.predict(X_test)"
   ]
  },
  {
   "cell_type": "code",
<<<<<<< HEAD
   "execution_count": 67,
=======
   "execution_count": 38,
>>>>>>> parent of 872a944 (Update Modelling2.ipynb)
   "metadata": {},
   "outputs": [
    {
     "name": "stdout",
     "output_type": "stream",
     "text": [
<<<<<<< HEAD
      "Accuracy: 88.97%\n"
=======
      "Accuracy: 93.40%\n"
>>>>>>> parent of 872a944 (Update Modelling2.ipynb)
     ]
    }
   ],
   "source": [
    "accuracy = accuracy_score(y_test, y_pred_xgb)\n",
    "print(\"Accuracy: %.2f%%\" % (accuracy * 100.0))"
   ]
  },
  {
   "cell_type": "code",
<<<<<<< HEAD
   "execution_count": 68,
   "metadata": {},
   "outputs": [
    {
     "data": {
      "text/plain": [
       "array([[227,  11],\n",
       "       [ 19,  15]], dtype=int64)"
      ]
     },
     "execution_count": 68,
     "metadata": {},
     "output_type": "execute_result"
    }
   ],
   "source": [
    "confusion_matrix(y_test, y_pred_xgb)"
   ]
  },
  {
   "cell_type": "code",
   "execution_count": 69,
   "metadata": {},
   "outputs": [
    {
     "name": "stdout",
     "output_type": "stream",
     "text": [
      "Training set accuracy : 0.8897058823529411\n",
      "Confusion matrix :\n",
      " [[227  19]\n",
      " [ 11  15]]\n",
      "Full Report :\n",
      "              precision    recall  f1-score   support\n",
      "\n",
      "           0       0.95      0.92      0.94       246\n",
      "           1       0.44      0.58      0.50        26\n",
      "\n",
      "    accuracy                           0.89       272\n",
      "   macro avg       0.70      0.75      0.72       272\n",
      "weighted avg       0.90      0.89      0.90       272\n",
      "\n",
      "roc_auc_score : 0.7498436522826767\n"
     ]
    }
   ],
   "source": [
    "print(\"Training set accuracy : {}\\nConfusion matrix :\\n {}\\nFull Report :\\n{}\\nroc_auc_score : {}\".format(accuracy_score(y_pred_xgb,y_test),confusion_matrix(y_pred_xgb,y_test),classification_report(y_pred_xgb,y_test),roc_auc_score(y_pred_xgb,y_test)))"
   ]
  },
  {
   "cell_type": "code",
   "execution_count": 70,
   "metadata": {
    "scrolled": true
   },
   "outputs": [
    {
     "data": {
      "image/png": "iVBORw0KGgoAAAANSUhEUgAAA3gAAAGDCAYAAAB5pLK9AAAABHNCSVQICAgIfAhkiAAAAAlwSFlzAAALEgAACxIB0t1+/AAAADh0RVh0U29mdHdhcmUAbWF0cGxvdGxpYiB2ZXJzaW9uMy4yLjIsIGh0dHA6Ly9tYXRwbG90bGliLm9yZy+WH4yJAAAgAElEQVR4nOzdd3ic1Zn+8e9R79Iry0WypJFt3I2LZsAQAwZCC6GDMSVUUxI2yebaJAvJstmUX9omkMCGDctiIJAAgRRKQkJI2JBKEkkuGBuMDRrJcrdm1OvM+f1xBlk2tpCLNNLo/lyXLjTzjt55ZAzW43POcxtrLSIiIiIiIjL6JcW7ABERERERETk61OCJiIiIiIgkCDV4IiIiIiIiCUINnoiIiIiISIJQgyciIiIiIpIg1OCJiIiIiIgkCDV4IiIig2Cch40xIWPM3+Ndz5EyxvzeGHNTvOsQEZGjSw2eiIgclDGm1hjTYYxpNcZsN8Y8YozJ2e81HzDGvGyMaTHGNBljnjfGzNnvNXnGmO8aY+pi99oUe1w0vN/RETkJOBMotdYef6Q3M8ZUGGOsMSblKNzrEWPM/zvS+wxw/1pjzBlDdX8RETl61OCJiMj7Od9amwMsBBYBn3v3gjHmROA3wLNACTAFWAP82RgzNfaaNOB3wFzgHCAP+ACwBzjiRulgjkbjtB8fUGutbRsBtYiIiByQGjwRERkUa+124EVco/eu/wQetdbeY61tsdY2WmvvBF4Fvhh7zbVAOXCxtXa9tTZqrd1prf2KtfaFA72XMWauMeYlY0yjMWaHMebzsef3WakyxpxqjNnS73GtMeZ2Y8xaoM0Yc6cx5if73fseY8y9sc/zjTErjTHbjDENxpj/Z4xJPkA9K4AHgRNjK5Bfij1/c2w1stEY85wxpqTf11hjzD8ZY94C3jrAt/mH2D/DsXueGPu6G40xG2JbQV80xvhizxtjzHeMMTtjK6VrjTHzjDG3AFcD/xq7z/MH+TU90xjzRuxrvweYftemxVZh9xhjdhtjfmSMKYhdeyz27+/52P3/Nfb807FV3SZjzB+MMXMP9L4iIjK81OCJiMigGGNKgQ8Bm2KPs3ArcU8f4OVP4bYzApwB/Npa2zrI98kFfgv8GrcqeAxuBXCwrgQ+DBQAjwHnGmPyYvdOBi4HHo+99gdAb+w9FgFnAe85l2atXQl8FPirtTbHWvsfxpjTga/H7lcMBIEn9/vSi4DFwBze65TYPwti9/yrMeYi4PPAJcB44I/AE7HXnRX7mhmx7205sMda+wDwI+A/Y/c5f/83im2F/SlwJ1AEbAaW9H9J7HspAWYDZcQadGvtNUAdsZVca+1/xr7mV8B0YAJQE6tBRETiTA2eiIi8n2eMMS1APbAT+I/Y84W4P0e2HeBrtuEaCYBxB3nNwZwHbLfW3mWt7YytDP7tEL7+XmttvbW2w1obxDUfF8WunQ60W2tfNcZMxDWsn7LWtllrdwLfAa4Y5PtcDTxkra2x1nbhtq6eaIyp6Pear8dWNTsGec9bY1+zwVrbC3wNWBhbxesBcoFZgIm9ZrC/rucC6621P7HW9gDfBba/e9Fau8la+5K1tstauwu4G1g60A2ttQ/F/t104ZrBBcaY/EHWIyIiQ0QNnoiIvJ+LrLW5wKm45uLdxi0ERHGrV/srBnbHPt9zkNccTBluhelw1e/3+HHcqh7AVexdvfMBqcA2Y0zYGBMG/ge3IjUYJbhVOwBiK5R7gMkD1PJ+fMA9/eppxK2uTbbWvgx8D7gP2GGMeeDdlclB1tpXi7XW9n9sjJlgjHkytk21Gfghe/89v4cxJtkY8w1jzObY62tjl0bT0BwRkYSkBk9ERAbFWvsK8Ajw7djjNuCvwLIDvPxy9m6r/C1wtjEme5BvVQ9MO8i1NiCr3+NJByp1v8dPA6fGtphezN4Grx7oAoqstQWxjzxr7WDPkm3FNWQAxL6/cUDDALUMVOe7Nd3ar54Ca22mtfYvANbae621ftzAmhnAZwfxPuBWUMv61Wr6P8Ztz7TAfGttHvAR+p3RO8D9rwIuxG2/zQcq3r31+9QhIiJDTA2eiIgciu8CZxpj3h20cgdwnTHmk8aYXGOMFxuCciLwpdhrHsM1Lj81xswyxiQZY8YZYz5vjDn3AO/xC2CSMeZTxpj02H0Xx66txp2pKzTGTAI+9X4Fx7Yc/h54GHjHWrsh9vw23ATQu4yLcUiKDRsZcGtiP48DNxhjFhpj0nHbKf9mra0d5Nfvwq2ATu333P3A594dWBIbArMs9vlxxpjFxphUXKPbCURiX7djv/vs75fAXGPMJcZN9Pwk+zbHuUArbuDLZPY2ju/a//65uOZ4D67h/trgvmURERlqavBERGTQYs3So8C/xx7/CTgbNxRkG27L4iLgJGvtW7HXdOFWet4AXgKagb/jtvO952ydtbYFN6DlfNw5sbeA02KXH8PFMNTimrMfD7L0x2M1PL7f89cCacB63JbTnzDI7aTW2t/hfh1+ivvepzH483tYa9uBr+IiJcLGmBOstT8Hvgk8Gdv6uA53ThBcvMT/xuoM4pqrb8eurQTmxO7zzAHeazdupfUbsa+bDvy530u+BFQCTbhm8Gf73eLrwJ2x+38G93sgiFutXI+bmioiIiOAcdvwRUREREREZLTTCp6IiIiIiEiCUIMnIiIiIiKSINTgiYiIiIiIJAg1eCIiIiIiIglCDZ6IiIiIiEiCSIl3AYeqqKjIVlRUxLsMERERERGRuKiurt5trR1/oGujrsGrqKigqqoq3mWIiIiIiIjEhTEmeLBr2qIpIiIiIiKSINTgiYiIiIiIJAg1eCIiIiIiIglCDZ6IiIiIiEiCUIMnIiIiIiKSINTgiYiIiIiIJAg1eCIiIiIiIglCDZ6IiIiIiEiCUIMnIiIiIiKSIIaswTPGPGSM2WmMWXeQ68YYc68xZpMxZq0xpnKoahERERERERkLhnIF7xHgnAGufwiYHvu4Bfj+ENYiIiIiIiKS8IaswbPW/gFoHOAlFwKPWudVoMAYUzxU9YiIiIiIiAxGNGrZ/M52Xtm4K96lHLJ4nsGbDNT3e7wl9tx7GGNuMcZUGWOqdu0afb/IIiIiIiIycnV0R3j17T18/6UN3PvJb/OHOR+gYO5M/vWxV4lGbbzLOyQpcXxvc4DnDvirZ619AHgAIBAIjK5fYRERERERGVG2N3VSHQzFPhrZ88bbXFX9PJe99jsmtIVoLiiiYfk1PHHtIsyBupYRLJ4N3hagrN/jUmBrnGoREREREZEE1BuJ8sb2FmrqQlTVuqauIdxBek8XXrSb8lk+bj0mnavv/zm9Z58Dt95C3rnnkpcSz1bp8MWz6ueAjxtjngQWA03W2m1xrEdEREREREa55s4eVtWF+1bnVteFaeuOADAhN52L2MFFG3/NzN89B5cvJ/nWB8CeAFcsJW3SpDhXf+SGrMEzxjwBnAoUGWO2AP8BpAJYa+8HXgDOBTYB7cANQ1WLiIiIiIgkHmstdY3tVAdDVAVD1ARDvLmjBWshycCsSXlc6i/F7/M46S8vULjyfkxNDaSnw2WXwbXXuBsZAwnQ3MEQNnjW2ivf57oF/mmo3l9ERERERBJLV2+EdQ3N1ARDVAUbqQ6G2d3aBUBuegoLywv40Lxi/D6PhWX55KyqghPmugbuwTUQicD3vgdXXQWeF+fvZmiMzo2lIiIiIiKS8Ha3dlHTNwwlxNqGJrp7owCUF2Zx8vQi/D4Pv89jxsRckpMMbN8Ojz4EK1fCxo3wxz/CSSfBXXdBWhqjbmrKIVKDJyIiIiIicReNWjbtanXbLWtD1NSFeGd3GwCpyYZ5k/O57kQffp9Hpc9jQm7GvjfYtg1uuw1+8Qvo7YWTT4bPfx4WLXLX09OH+TuKDzV4IiIiIiIy7Nq7e1ldH6a6NkR1nTs/19zZC0BhdhqV5R7LjyvD7/M4dnI+GanJ773JO+9AMAinngqFhbBpE/zLv8CNN8LMmcP7DY0QavBERERERGTIbQ139MueC7F+WzORWIj49Ak5fHh+MZXlHoGKQirGZWEOtpWysxOeeQYefBB+9zuYNg3eesut0K1dm/BbMN+PGjwRERERETmqeiNRNmxriQ1CcatzW5s6AchMTWZBWT4fWzrNbbcs98jPSh3cjR96CD77WWhshIoK+PKX4frr9zZ1Y7y5AzV4IiIiIiJyhJrae6ipD7ntlsEQq+vDdPS47Lni/Az8Po+bY8NQZhfnkZqcNLgbNzfDj38MZ50FPp+LMjjrLFixAk4/HZIGeZ8xRA2eiIiIiIgMmrWW2j3tVNU2UlPnGrqNO1oBSE4yzC7OZflxZVT6PAI+j5KCzEN9A/jrX90WzB//GNrb4TvfgU99Cs49133IQanBExERERGRg+rsibCuoYmq2Nm5mmCIPW3dAORmpOD3eZw/vwS/z2NBWQHZ6UfQYvT2QiAAa9ZATg5cfTXcdBMcd9xR+m4Snxo8ERERERHps6ulKzYIxZ2fW9fQTHfEZc9VjMvi1JkT8Ps8AhUex4zPISnpCM69RSLw29/Cn//sztOlpMCFF8InPwmXX+6aPDkkxlob7xoOSSAQsFVVVfEuQ0RERERk1ItELW/tbHG5c8EQVcEQdY3tAKQlJzG/NL8vd87v8yjKOUpZcsEgPPyw+6irg/Hj4c03wfOOzv0TnDGm2lobONA1reCJiIiIiIwRrV29rKkPUxXLnlsVDNHS5bLninLS8Ps8PnJCOX5fIfMm55GecoDsuSP1zDNwySXu87POgrvuggsugLS0o/9eY5AaPBERERGRBGStpWG/7LkN25qJWpcmMGNCLucvLMFf7rZblhcOkD13JNavh5Ur3dm6K6+EpUvhC1+AG25wkzHlqFKDJyIiIiKSAHoiUdZvbaYq+O52y0Z2NHcBkJWWzKLyAj5+2jH4KwpZWFZAfuYgs+cOR2srPPWUm4T5179Caircfru75nnwxS8O3XuPcWrwRERERERGoXB7d9/KXFUwxNotYTp73DCUyQWZLJ4yDn/s7NysSbmkDDZ77mi44AL4v/+D2bPdFsxrrnHn7GTIaciKiIiIiMgIZ63l7d1tfUHiVcFGNu9qAyAlyTC3JC+WO1dIpa+A4vxDzJ47Env2wA9/6D5+8xu3QvfKK27V7sQT3X5QOao0ZEVEREREZBTp7Imwpj5MdZ3bblkdDBFq7wEgPzMVv8/jkspSlz1XWkBm2hAMQxlINAovv+y2YP7859DdDccfD1u3ugZv6dLhrUf6qMETEREREYmznc2dfUHiVcEQrzc00Rt1O+2mjs/mjNkT+7LnphYdYfbckYhEIDkZNm+GM8+EwkL46EdhxQqYPz8+Nck+1OCJiIiIiAyjSNTyxvbmvpW5qmCILaEOANJTklhQWsBNJ08lEMufK8yOc3xATw88/7ybhJmbC08+CdOnw4svwimnQEZGfOuTfajBExEREREZQi2dPayqC/cNRFlVF6KtOwLA+Nx0Aj6P6z9Qgd/nMbckn7SUYRyGMpCNG90WzB/8AHbuhJISuPXWvdfPOit+tclBqcETERERETlKrLXUN3ZQXdfoVudqQ7y5owUby56bNSmPiysnE/AV4vd5lHqZQ5M9d7ja2iA9HVJS4LHH4O674fzz4aab4Oyz3fMyommKpoiIiIjIYerujbJua5PLnasNUV0XYleLy57LSU9hUXlBX1TBwrICcjOGMHvucFkL1dVuC+bjj7vG7oILYPdu6O2FSZPiXaHsR1M0RURERESOgsa2vdlz1cFG1mxporvXZc+VFWayZNo4/BWF+Ms9Zk7KJTlew1AGo7sbHnjAbcNcswYyM2HZMqiocNeLiuJanhweNXgiIiIiIgcQjVo272rtG4RSEwzx9m6XPZeabJhbks81J/gIxFboJuSNgmEj1sI778DUqW675d13u1iD//5vuPJKKCiId4VyhNTgiYiIiIgAHd0RVteHqakLUVXbSE1dmKYOlz3nZbnsuWWBMvw+j/ml+WSkDnP23JHYutUNS1m5EpqaYMsWd9bu73/XSl2CUYMnIiIiImPStqaOvkEoNXUh1m9t7sueO2ZCDufMnYS/wq3OTS3KHlnDUAarpga+9CX45S9dht3SpfDFL7qJL6DmLgGpwRMRERGRhNcbifLG9pZ9tls2hF32XEaqy567delU/D6PynKPgqw4Z88diU2bIC0NysvdVMy//x0++1m48UaXXycJTQ2eiIiIiCScpo4eVtW5Rq4qGGJ1fZj2WPbcxLx0Ar5CVpw0Bb/PY05JHqnJIyR77nB1dMDPfuYGpvz+93DbbXDffXDSSVBXB6kjcHqnDAk1eCIiIiIyqllrCe5p32d1buNOlz2XZGB2cR7L/KVUxoahTC4YYdlzR+pzn4P774dw2A1P+epX4brr3DVj1NyNMWrwRERERGRU6eqNsK6hyeXOBd35ud2t3QDkpqewyOfx4fnFfdlz2ekJ9iNvUxP84hdw1VWugWtrg3PPhRUr4NRTIWmUr0bKEUmw3+0iIiIikmh2t3b1y54L8dqWJrojLnvONy6LU2aMx+/zCPgKmT4hh6SRnD13uKyFP/3JbcF8+mm3JXPOHFi0CO69N97VyQiiBk9ERERERoxo1PLWznez5xqpCYao3dMOQFpyEvMm53H9kgoqy912y/G56XGueBhs2AAXXQQbN0JuLlx7Ldx0EyxcGO/KZARSgyciIiIicdPW1cua+jBVwb3bLVs6ewEYl52G3+dx5fHl+H0e8yaPsuy5wxWJwIsvQne3a+wqKtzZus99DpYtg+zseFcoI5gaPBEREREZNg1hlz1XXdtIdV2IDdtaiMSy52ZMzOG8+SWx7ZYevnFZiTUM5f288w48/LD72LIFlixxDV5mJvzqV/GuTkYJNXgiIiIiMiR6IlE2bGt2w1BikQXbmjoByExNZmFZAbedOo1Kn0dlmUd+1hie9njnnW76pTFwzjlwzz1w3nnxrkpGITV4IiIiInJUhNu7WVUXpirYSHUwxJr6Jjp6XPZcSX4GgYpC/OUFBCoKmTUpl5TRnj13JF57DVauhE9/GsrK4OST4UtfguuvdwHlIodJDZ6IiIiIHDJrLe/sbuvLnasKhti0sxWA5CTD3JI8lh9Xhj+WPVdSkBnnikeAlhZ48kk3CfPvf3f5dEuWuAbv7LPdh8gRUoMnIiIiIu+rsyfCa/tlzzW2uey5vIwU/D6PixaW4PcVsqAsn6w0/Zi5j9ZW18g1Nbl4g7vvhmuugaKieFcmCUb/5YmIiIjIe+xs6XQrc7Hzc+samuiJuGEoU4qyOX3WhL5hKNPGJ2j23JHYtQsee8xFG9x/P+TkwFe+AscdB4sXu7N2IkNADZ6IiIjIGBeJWjbuaOm33bKR+sYOANJSklhQms+NJ03BH8ueG5czBrLnDkc0Cr/9rduC+cwz0NMDJ54InZ2QkQGf+ES8K5QxQA2eiIiIyBjT2tXLqjq31bI6GGJ1XZiWLpc9V5STTsDnce0JFfgrPOaW5JGeMgay546G//kfuO02GDcO/umfYMUKmDcv3lXJGKMGT0RERCSBWWvZEuroa+aqgiHe3N5M1LpdgjMn5nLBwhICFR7+8kLKCjPHVvbc4eruhueec5Mwr7rKnadbtsw1dxdeCOla5ZT4UIMnIiIikkC6e6Os39ZMVW0jNXXuDN3Oli4AstOSWVTu8fHTpxPweSwsLyAvYwxnzx2ODRtcU/foo+6cXWkpRFwUBEVFcPnl8a1Pxjw1eCIiIiKjWKit263O1YWorg2xZkuYrt4oAKVeJidOG0fA51Hp85g5cYxnzx2u3l5Iif3YfPXVLsPuggvgppvgrLMgWVtYZeRQgyciIiIySlhr2byrjepYkHhVMMTbu9oASEkyzJ2cz9WLfW67pc9jYl5GnCsexayFqio3MOW55+DNNyEvz63elZTAxInxrlDkgNTgiYiIiIxQHd0R1mwJ952fq6kLEW7vAaAgKxV/ucellaUEfB7zSwvITNNK0hELh932y5UrYe1ayMx02y5bW12Dt2hRvCsUGZAaPBEREZERYkdzZ1+QeHWwkde3NtMbddlz08Znc9aciQR8hVT6PKaNz9YwlKMlGoWWFsjPhy1b4J//GQIBl193xRXueZFRQg2eiIiISBz0RqK8sb2lbxBKdTBEQ9hlz6WnJLGgrICbT5lKwOexqNyjMDstzhUnoIYGeOQRt1p34onwox+5WIM33oCZM+NdnchhUYMnIiIiMgyaO3tYVRfuW51bXRemrdtNX5yQm06gwnNh4j6POcV5pKVoGMqQ+c1v4L/+C154wa3enXYaXHTR3utq7mQUU4MnIiIicpRZa6lrbO87O1cdDPHmjhashSQDsyblcUllKYEKj8pyj1JP2XND7q23YOpUN/Hy5ZehuhruuANuvBGmTYt3dSJHjbHWxruGQxIIBGxVVVW8yxARERHp09UbYV1DMzXBEFXBRqqDYXa3uuy5nPQUFpUXEPAV4vd5LCjLJ1fZc8OjvR1++lM3CfMPf4Bf/QrOOcedt8vM3Bt9IDLKGGOqrbWBA10b0t/VxphzgHuAZOBBa+039rueD/wQKI/V8m1r7cNDWZOIiIjIkdrT2rXP6tzahia6Y9lz5YVZnDy9CL/PRRXMmJhLcpJW54ZVczN87nPuTF1Tk1uh+/rX907AzM2Nb30iQ2jIGjxjTDJwH3AmsAX4hzHmOWvt+n4v+ydgvbX2fGPMeOBNY8yPrLXdQ1WXiIiIyKGIRi2bdrW63LlaF1Xwzm6XPZeabJg3OZ/rTvThj4WJT8hV9lxchMNuOMoJJ0B2Nrz0Epx/PqxYAUuXgrbAyhgxlCt4xwObrLVvAxhjngQuBPo3eBbINW7TeQ7QCPQOYU0iIiIiA2rv7mV1fTi23TJETTBEc6f78aQwO43Kco/lx5Xh93kcOzmfjFRlz8WNtW7r5cqV8PTTe2MOUlJg/XptwZQxaSh/108G6vs93gIs3u813wOeA7YCucBya210CGsSERER2cfWcMc+2y3Xb2smEsuemz4hhw/PL6ay3G23nFKk7LkR4/nn4dOfdsNT8vLghhvgppv2NnVq7mSMGsrf+Qf6v9/+E13OBlYDpwPTgJeMMX+01jbvcyNjbgFuASgvLx+CUkVERGQs6I1E2bCthepgY9/q3NamTgAyU5NZUJbPx5ZOc9styz3yszQMZcTo7YVf/xpmz3Zn6rKzYdIkuPNOuOwyyMqKd4UiI8JQNnhbgLJ+j0txK3X93QB8w7pRnpuMMe8As4C/93+RtfYB4AFwUzSHrGIRERFJKE3tPdTUh6iOBYmvrg/T0eOy54rzM/D7PG6ODUOZXZxHarKy50aczZvhoYdcIPnWrS7a4Otfh9NPdx8iso+hbPD+AUw3xkwBGoArgKv2e00d8EHgj8aYicBM4O0hrElEREQSlLWW2j3tfUHi1cEQG3e0ApCcZJhdnMvy48qo9HkEfB4lBZlxrlgGZC1ceKHbipmUBB/6EHzve3DeefGuTGREG7IGz1rba4z5OPAiLibhIWvt68aYj8au3w98BXjEGPMabkvn7dba3UNVk4iIiCSOzp4I6xqaqIqdnasJhtjT5gZx52ak4Pd5nD+/JJY9V0B2us5kjXhr18ILL7hVOmNg/nxYvBiuuw5KS+NdnciooKBzERERGRV2tXTtszq3rqGZ7oibzVYxLgt/LEg8UOFxzPgckpQ9Nzo0N8OTT7ow8n/8A9LSYONG8PniXZnIiBW3oHMRERGRwxGJWt7a2eIautoQ1XUhgnvaAUhLTuLY0nxuWFJBZez8XFFOepwrlsPypz/B2WdDezsceyzccw9cfTWMGxfvykRGLTV4IiIiEnetXb2sqQ9TFWvmVgVDtHS57LminDT8Po+rF5fj93nMm5xPeoqy50alnTvh0UehuNg1cosWwfXXu49AQGHkIkeBGjwREREZVtZaGvbLntuwrZmodT/fz5iQy/kLS/CXu+2W5YVZyp4bzSIReOkltwXz2Wdd3MF117kGLzsb7rsv3hWKJBQ1eCIiIjKkeiJR1m9t7sudqwo2sqO5C4CstGQWlRfw8dOOwV9RyMKyAvIzlT2XUD7yEXfGrqgIPvlJWLEC5syJd1UiCUsNnoiIiBxV4fZuaupCbrtlMMSaLWE6e9wwlMkFmSyeMg5/7OzcrEm5pCh7LnF0dblVuocfdtl1xcVw661w6aVwwQVugIqIDCk1eCIiInLYrLW8vbutL0i8ui7Epp0uey4lyTC3JI8rjy8n4Cuk0ldAcb6y5xLS66/DypXufN2ePVBe7gLKi4vh1FPjXZ3ImKIGT0RERAatsyfC2i1NVAUbqYmdnwu19wCQn5mK3+dx8aLJLnuutIDMNA1DSXg7dri8uuRkuOgiuOkm+OAH3WMRGXZq8EREROSgdjZ39gWJVwVDvN7QRG/UZehOHZ/NGbMn9mXPTS1S9lzCsxb+9je3WtfUBE89BRMnwo9/DEuXwvjx8a5QZMxTgyciIiKAy557c3tLX5B4VTDEllAHAOkpSSwoLeCmk6cS8HlU+jwKs3WeaszYvRsee8w1dq+/7qZfXnUVRKOQlASXXRbvCkUkRg2eiIjIGNXS2cOqujDVwRA1dSFW1YVpjWXPjc9NJ+DzuP4DFfh9HnNL8klL0TCUMSUadR8pKa6xu+MOWLwY/vd/YflyyM2Nd4UicgBq8ERERMYAay1bQh1Uvbs6VxvizR0t2Fj23KxJeVy0qISArxC/z6PUy1T23FhVXw+PPOKmYH71q26lbsUKOPdcOPbYeFcnIu9DDZ6IiEgC6u6Nsm5rU98glKpgiF0tLnsuJz2FReUFnD13EoEKj4VlBeRmKHtuTItG4ZlnXBj5iy+6x2ec4aZggsuwKyqKb40iMihq8ERERBJAY1u3iykIhqgONrJ2SxNdvS57rqwwkyXTxuGvKMRf7jFzUi7JGoYi4M7WFRW5ZdwvfAHCYfi3f4MbboApU+JdnYgcBjV4IiIio0w0atm8q7VfQxfi7d1tAKQmG+aW5PORE3x9w1Am5mXEuWIZUdra4Omn3bm6NWtg61bIyYFf/hJKS4je3hsAACAASURBVBVvIDLKqcETEREZ4Tq6I6yuD1NTF6KqtpGaujBNHS57zsty2XPLAmX4fR7zS/PJSNUP6HIAmzfDt74Fjz8OLS0wYwb8+7+76AMAny++9YnIUaEGT0REZITZ3tTZNwylOhhi/dbmvuy5YybkcM7cSfgrPPw+j6lF2RqGIgfX2Ajt7W5lrrkZHn0Uli1zYeQnneS2ZopIQlGDJyIiEke9kShvbG/pG4RSEwzREHbZcxmpLnvu1qVT8fs8FpV5eMqek/cTjcLvf++2YP70p3DFFW4q5qJFsGOH4g1EEpwaPBERkWHU1NHDqjrXyFUFQ6yuD9PeHQFgYl46AV8hK06agt/nMackj9RkZc/JIbjvPrj7bnj7bSgogJtvdqt171JzJ5Lw1OCJiIgMEWstwT3t+6zObdzpsueSDMwuzmOZv5RKn9tuOblA2XNyiHp64KWX4JxzICnJNXbl5fDlL8Mll0BmZrwrFJFhpgZPRETkKOnqjbCuoakvSLymLsTu1m4ActNTWOTz+PD8Yvw+lz2Xna4/huUwvfWWCyJ/5BHYvh1+9zs4/XQ3RCVJq74iY5n+ZBERETlMu1u79okqeG1LE90Rlz3nG5fFKTPG44+tzk2foOw5OQoaGuDqq+GVV1ycwYc/DCtWwCmnuOtq7kTGPDV4IiIigxCNWt7a2RrbbtlITTBE7Z52ANKSk5g3OY/rl1RQWe4auvG56XGuWBLGqlWusTvvPJgwAXp74Wtfg+uug5KSeFcnIiOMGjwREZEDaOvqZU19mKrY6lxNXYiWzl4AxmWnUenzuPL4cvw+j3mTlT0nR1k4DE88AQ8+CDU1cMwxbrUuNRX+9Kd4VyciI5gaPBEREaAh3OG2WtY2Ul0XYsO2FiKx7LkZE3M4b34Jfp9HwOfhG5elYSgydL73PfjsZ6GzExYsgP/6L7ctU7/nRGQQ1OCJiMiY0xOJsmFb8z7TLbc1dQKQmZrMwrICbjt1GpU+j8oyj/ys1DhXLAlt+3b4wQ/g0kvdSt2cOXD99S7eoLJSjZ2IHBI1eCIikvDC7d2sqgtTFWykOhhiTX0THT0ue64kP4NARSH+8gICFYXMmpRLirLnZKj19sKLL7otmM8/D5EI5OS4Bu/0092HiMhhUIMnIiIJxVrLO7vb9plu+dbOVgCSkwxzivNYflxZ33TLkgLlhMkw6+2FWbNg82Y3NOVf/sVNwpw5M96ViUgCUIMnIiKjWmdPhNcamqiq3TsMpbHNZc/lZaRQ6fO4cGEJlbHsuaw0/dEnw6yzE555Bv7yF7j3XkhJgY99DKZMcZMx09LiXaGIJBD9KSciIqPKzpZOamJB4tV1IdY1NNETccNQphRlc/qsCX3DUKaNzyFJ2XMSL6+95rZgPvYYhEJQUQFf+hJ4Hnz60/GuTkQSlBo8EREZsSJRy8YdLX2DUKqCjdQ3dgCQlpLEgtJ8bjxpCv5Y9ty4HGXPyQjxk5/AsmVude7ii93AlNNPVxC5iAw5NXgiIjJitHb1srrfMJTVdWFaulz2XFFOOgGfx7UnVOCv8Jhbkkd6irLnZASwFv76V7dat2SJO0931lnwne/ARz4CRUXxrlBExhA1eCIiEhfWWraEOvYZhvLG9mai1k2FnzkxlwsWvps9V0hZYaay52Rk2bXLbb988EHYsMFNwZw+3V3Ly4NPfSq+9YnImKQGT0REhkV3b5T125qpqm2kps6dodvZ0gVAdloyi8o9Pn76dAI+j4XlBeRlKHtORiBr9+bSXX45/P73cOKJsHKle5yTE9fyRETU4ImIyJAItXW7lbm6UCx7LkxXbxSAyQWZnDhtXF9UwcyJyp6TES4YhIcfhh/9yE3DHD8evvlNyM6GuXPjXZ2ISB81eCIicsSstWze1UZ17OxcVTDE27vaAEhJMsydnM/Vi30EKjwqyz0m5WfEuWKRQejuhueec1swf/Mb99yZZ0Jjo2vwjj8+vvWJiBzAQRs8Y8xT1trLY59/01p7e79rv7HWnjUcBYqIyMjT0R1hzZawy52LrdKF23sAKMhKxV/ucWllKQGfx/zSAjLTNAxFRpHOTsjIgC1b3CTMsjL4whfghhvA54t3dSIiAxpoBW96v8/PBG7v93j80JQjIiIj0Y7mzr4g8epgI69vbaY36rLnpo3P5qw5Ewn4Cqn0eUwbn61hKDL6tLbCU0+5s3RFRfDsszB1Krz6KgQCkKy/pBCR0WGgBs8e5jURERnFeiNR3tzR0jfZsqo2REPYZc+lpySxoKyAm0+ZSsDnsajcozA7Lc4VixyBVavg+9+HJ55wTd6sWW7V7l2LF8evNhGRwzBQg5dljFkEJAGZsc9N7CNzOIoTEZGh19zZw6q6cN/q3Oq6MG3dEQAm5KYTqPC4YUkFgYpC5hTnkZaiYSgyyu3ZA7m5LoT8F79wg1Muv9yFkX/gA3unZIqIjELG2gMvxhlj/m+gL7TWnjYkFb2PQCBgq6qq4vHWIiKjnrWW+saOviDx6mCIN3e0YC0kGZg1Kc/lzsWGoZR6yp6TBBGNwssvu4EpP/+5a+ouuwzCYUhKcrl1IiKjhDGm2lobONC1gVbwPmetfXWIahIRkWHQ1RthXUMzNcFQrKkLs7vVZc/lpKewqLyAD80rxu/zWFCWT66y5yTRdHXBt77lztbV1oLnwa23wvz57npBQVzLExE52gZq8P4bqByuQkRE5Mjtae3amz1XG2JtQxPdsey58sIsTp5e1Jc9N2NiLslJWp2TBNTTAxs2uCYuLQ1++EM3MOVrX4OLL3YTMkVEEtRADZ7+1BcRGcGiUcumXa19Wy2rgyHe2e2y51KTDfMm53PdiT78PrfdckKefqiVBLdxo1upe+QRl2G3dStkZkJ1tQskFxEZAwZq8KYYY5472EVr7QVDUI+IiBxEe3cvq+vDse2WLn+uubMXgMLsNCrLPZYfV4bf53Hs5HwyUjXWXcaIv/wF7rgD/vhHF2dw3nluYEpqbMuxmjsRGUMGavB2AXcNVyEiIrKvreGOfVbn1m9rJhLLnps+IYdzjy3u2245pUjZczKGWAs1NZCfD8cc45q6bdvgG9+Aa6+F4uJ4VygiEjcDNXgt1tpXhq0SEZExrDcSZcO2FqqDjX2rc1ubOgHISE1iYVkBH1s6rW+7ZX6WhqHIGBQKweOPu0mYq1e7YSn33w/HH++2Z+ovOUREBmzwavd/whiTDVwMXGmt/fBQFSUikuia2nuoqXeNXFVtiNX1YTp6XPbcpLwM/BUeN8dW52YX55GarOw5GeM+8QnX2HV2QmUl3HcfXHWVu6bGTkSkz0EbPGvtJQDGmDTgXOAq4Bzgp8D9w1KdiEgCsNZSu6e9L0i8Ohhi445WAJKTDLOLc1l+XBmVPo+Az6OkIDPOFYuMANu2wc9+Brfd5hq43Fy48UZYscI1eCIickAHbfCMMWcCVwJnA/8HPAYcb629YZhqExEZlTp7IqxraKK63zCUPW3dAORmpFBZ7nH+/JJY9lwB2ekDbaYQGUN6e+FXv3Irdb/8JUQisGQJLFzoIg5EROR9DfRTxYvAH4GTrLXvABhj7hmWqkRERpFdLV37rM6ta2imO+Ky5yrGZbF05ngCvkL8Po/pE3JIUvacyHu9/jqceaZbuZs4ET7zGbdiN2NGvCsTERlVBmrw/MAVwG+NMW8DTwKauS0iY1okanlrZ4tr6GpdoHhwTzsAaclJHFuazw1LKqiMnZ8rykmPc8UiI1Rnp9uCCe4s3fTpsHQpLF8OH/7w3ogDERE5JMZa+/4vMmYJbrvmpcBq4OfW2gcG8XXnAPfgGsMHrbXfOMBrTgW+C6QCu621Swe6ZyAQsFVVVe9bs4jI0dDa1cua+jBVsWZuVTBES5fLnivKSeuLKfD7POZNzic9RX8PJjKgNWvcFswf/chNxTztNHj55XhXJSIyqhhjqq21gQNdG9TBD2vtn4E/G2M+CZwB3AwM2OAZY5KB+4AzgS3AP4wxz1lr1/d7TQHw38A51to6Y8yEwdQjIjIUrLU07Jc9t2FbM1HrZjzMmJDL+QtL8Jd7BCo8yguzlD0ncig+/Wm4+25IS4NLL3Vh5KeeGu+qREQSyoANnjFmMlAMrLXWdgNFwKnAkkHc+3hgk7X27di9ngQuBNb3e81VwM+stXUA1tqdh/oNiIgcrp5IlPVbm/dp6LY3u+y5rLRkFpUX8PHTjqHS57Go3CM/U1vGRAbNWvjzn91q3Re+AFOnwgUXgM8HV18N48bFu0IRkYQ00BTNTwH/BmwC0mMDVu4GHsWdz3s/k4H6fo+3AIv3e80MINUY83sgF7jHWvvoAWq5BbgFoLy8fBBvLSLyXuH2bmrqXO5cdTDEmi1hOnvcMJTJBZkcP6Wwb7vlrEm5pCh7TuTQ7dgBjz4KK1fCm2+6eIOLL3YN3tKl7kNERIbMQCt4twAzrbWNxphyXKN3irX21UHe+0D7lvY/8JeCaxY/CGQCfzXGvGqt3bjPF7nzfg+AO4M3yPcXkTHMWsvbu9vcIJSgOz+3aefe7Lm5JXlceXx5X0NXnK/sOZEj1trqGrn2djjpJLjjDli2DLKz412ZiMiYMVCD12mtbQSInY/beAjNHbgVu7J+j0uBrQd4zW5rbRvQZoz5A7AA2IiIyCHo7ImwdksTVcFGamLbLUPtPQDkZ6bi93lcvGgyfp/H/NJ8stKUPSdyxGpr4aGH4K234IknICcHvv99OP54mDUr3tWJiIxJA/2EU2qMubff4wn9H1trP/k+9/4HMN0YMwVowEUuXLXfa54FvmeMSQHScFs4vzPY4kVk7NrZ3NkXJF4dDPH61iZ6Im6Bf+r4bM6YPRG/zw1DmVqk7DmRo6arC5591p2t++1v3XNnn+1iDzIy4Npr41ufiMgYN1CD99n9Hlcfyo2ttb3GmI/jAtOTgYesta8bYz4au36/tXaDMebXwFogiotSWHco7yMiiS8Stby5vaUvSLy6LkR9YwcA6SlJLCgtYMVJUwn4PCp9HoXZaXGuWCQB2dg42Ycegttuc8NSvvhFuP560Pl4EZERY1A5eCOJcvBEEl9LZw+rY9lzNXUhVtWFaY1lz43PTSfQL3tubkk+aSkahiIyJFpa4Mc/dqt1K1bAzTdDOAz/+Ad88IOQpP/2RETi4Yhz8EREhoq1li2hDqpiq3NVtSHe3NHSt1gwa1IeFy0qcdstfYWUepnKnhMZaq++6pq6J5+EtjaYMwfy8ty1ggI488z41iciIgelBk9EhlV3b5TXtzb15c5VBUPsaukCICc9hUXlBZw9dxKBCo+FZQXkZih7TmRYtLdDVpb7/J//GV5/Ha64wq3cnXCC+xsXEREZ8dTgiciQamzr7hck3sjaLU109brsubLCTJZMG4e/ohB/ucfMSbkkaxiKyPCJRt2glJUr4de/dlMxPc/l2JWUuAw7EREZVQYKOn/KWnt57PNvWmtv73ftN9bas4ajQBEZPaJRy9u7W/uCxKuDId7e3QZAarJhbkk+HznB1zcMZWJeRpwrFhmjdu6E++93A1OCQRg3zq3U9bhoEWbOjG99IiJy2AZawZve7/Mzgdv7PR4/NOWIyGjS0R1hdX2Ymrq9DV1Th/sB0cty2XPLAmV92XMZqclxrlhkDOvuhlAIJk50g1K++EU44wz4z/+ECy+E9PR4VygiIkfBQA3eQOM1R9foTRE5KrY3dfYNQ6kOhli/tZneqPvfwTETcjhn7iT8FW665dSibA1DERkJNmxwWzAffRSWLoWnn4YZM6ChAYqL412diIgcZQM1eFnGmEVAEpAZ+9zEPjKHozgRiZ/eSJQ3trf0DUKpCYZoCLvsuYxUlz13yylTCVR4LCrz8JQ9JzKy/OxncPfd8Oc/Q0oKXHAB3HTT3utq7kREEtJADd524O4DfP7uYxFJIE0dPayqc41cVTDE6vow7d0RACbmpRPwFbLipCn4fR5zSvJITVb+lciIYi1UV8PCha6hW70adu+Gb30LrrnGbc0UEZGEd9Cgc2NMqrW2Z5jreV8KOhc5ctZa6hrb3TCUuhDVtSE27nTZc0kGZhfn9QWJ+30ekwuUPScyYjU2wg9/6LZhrl0Lzz7rVuu6uiAtTfEGIiIJ6HCDzhuMMc8CjwO/twfrBEVkxOvqjbCuoakvSLymLsTu1m4ActNTWOTz+PD8Yvw+lz2Xna4EFZERLxyG225zWzG7uiAQcJMxly511zU0RURkTBrop7jZwGXAF4DHjDE/AZ6w1v5tWCoTkcO2u7WL6uDe7ZavbWmiO+Ky53zjsjhl+vi+YSjTJyh7TmTUaGhwQ1POOAPy8mDjRrjlFhdxsGBBvKsTEZER4KBbNPd5kTElwDLgCmAC8KS19t+GuLYD0hZNkX1Fo5a3drbGhqE0UhMMUbunHYC05CTmTc4jUFFIZblHpa+ACbnKnhMZVXp64Je/dFswX3jBZdZt3erO2VmrLZgiImPQ4W7R7GOt3WqMWQmEgH8BbgLi0uCJjHVtXb2sqQ/vnW5ZF6KlsxeAcdlpVPo8rjy+HL/PY95kZc+JjGpPPw2f+ATs2OGmXt5xB9x4o2vuQM2diIi8x4ANnjEmAzgfuBJYAvwa+Bzwm6EvTUQAGsIdLneutpHquhAbtrUQiWXPzZiYw3nzS/D7PAI+D9+4LA1DERnN2tvhpz915+lmz4aSEjjhBBdvcM45exs7ERGRgzjonxTGmMeBM4A/4AatXGWt7RyuwkTGop5IlA3bmvfJntvW5P6zy0xNZmFZAbedOo1Kn0dlmUd+VmqcKxaRo6Kmxm3B/NGPoKkJ7rwTvvIVWLLEfYiIiAzSQH8V+CJwq7W2ZbiKERlrmtp7qKkL9Z2fW1PfREePy54ryc8gUFGIv7wAv6+Q2cW5pCh7TiSxWAunnQavvAIZGXDZZW617pRT4l2ZiIiMUgM1eEXAzQfb7mWtvfuAF0TkgKy1vLO7zW23jH28tbMVgOQkw5ziPJYfV9aXPVdSkBnnikXkqLMW/vAHNyzlG99wZ+g+9CFYtgyuugo8L94ViojIKDdQg5czbFWIJKDOngivNTS5MPHYMJTGNpc9l5eRQqXP48KFJVTGsuey0nS2RiRhbd8OP/iB24b51lsu4uC228Dng9tvj3d1IiKSQAb6iXKPtfZ7w1aJyCi3s6XT5c7VhqiuC7GuoYmeiBuGMqUom9NnTegbhjJtfA5Jyp4TGRteeQU++EGIRNzWyzvvdFsxs7LiXZmIiCSggRq8GwE1eCIHEIlaNu5o2We7ZV1jLHsuJYkFpfnceNIU/OVuu+W4nPQ4Vywiw2bzZnjoIbc6d8stsHixW6W79lqYOTPe1YmISILTnjCRQWjt6mV1XZiqYCPVwRCr68K0dLnsuaKcdAI+j2tO8OGv8Jhbkkd6irLnRMaUzk74+c/hwQfh5ZchKQk++lF3LSMDvvrV+NYnIiJjxkAN3nxjTPMBnjeAtdbmDVFNInFlrWVLqIOaulDf+bk3tjcTtW4ewsyJuVyw8N3suULKCjOVPScy1n3kIy6/rqLCxRtcfz2Ulsa7KhERGYMGavBes9YuGrZKROKkuzfK+m3NVNU29kUW7GjuAiA7LZlF5R4fP306fp/HovIC8jKUPScypjU3wxNPwMMPw9NPQ1kZfOYz8LGPuciDJMWZiIhI/GiLpow5obZutzoXOzu3pj5MV28UgMkFmZwwdVxfVMHMicqeExFcvMFf/uK2YD71FLS3w7x5sHWra/BOOCHeFYqIiAADN3hPD1sVIkPEWsvmXW1Ux87OVQdDbN7VBkBKkmHu5HyuXuwjUOFRWe4xKT8jzhWLyIgSjboVuZ07YelSyMyEq692YeTHHef2bYuIiIwgAzV4xcaYew920Vr7ySGoR+SIdHRHWLslTFUwRE3QxRWE23sAKMhKxV/ucUllKQGfx/zSAjLTNAxFRPYTicBLL7nVurY2+NWvYOJE988TT4QcxcSKiMjINVCDVzVsVYgcph3NnX2DUKrrQrze0ERv1GXPTRufzVlzJsa2WxYytShb2XMicnB1dS6I/OGHob4eiorcsJR3V/HOPDPeFYqIiLyvgzZ41tof7P+cMcYDwtZaO6RViRxAbyTKm/2y56pqQzSEOwBIT0liQVkBN58ylYDPY1G5R2F2WpwrFpERr8sNVCI93U3B/MpX4Kyz4O674YILIE3/HxERkdHloA2eMeYLwFPW2jeMMenAr4CFQK8x5ipr7W+Hq0gZm5o7e1hVF441dI2srgvT1h0BYEJuOoEKjxuWVBCoKGROcR5pKRqGIiKD9PrrbrXu0Ufh2992K3U33ACXXOICykVEREapgbZoLge+Evv8Olz+3XhgBvADQA2eHDXWWuobO/qCxKuDId7c0YK1kGRg1qQ8d3YuNgyl1FP2nIgcomjUbb988EF49VVITYULL4RZs9z1ggL3ISIiMooN1OB199uKeTbwpLU2AmwwxiheQY5IV2+E17c2Ux07P1cVDLG71W2VyklPYVF5AefMm0TAV8iCsnxylT0nIofDWqithSlT3Dm6++6Dzk646y645hoYPz7eFYqIiBxVAzVqXcaYecAO4DTgM/2uZQ1pVZJw9rR29Q1Cqa4Nsbahie5Y9lx5YRYnTy/qy56bMTGXZA1DEZEjsXs3/PCHbrXunXdg2zbIy4MXX3TDU7QDQEREEtRADd4/Az/Bbcv8jrX2HQBjzLnAqmGoTUapaNSyaVdr31bL6mCId3a77LnUZMO8yflce8Le7LkJecqeE5GjZMMG+NKX4Oc/h+5uOP54+O53ISX2x51W7EREJMENNEXzb8CsAzz/AvDCUBYlo0t7dy+r68PUxLZa1gRDNHf2AlCYnUZlucfy48rw+zyOnZxPRqqy50TkKNqyxU3DnDZtb4bdxz4GK1bAscfGuzoREZFhNeBZutgWzc8CcwELrAe+ba19bRhqkxFqW1PH3uy5YIj125qJxLLnpk/I4dxji/u2W04pytYwFBE5+np64Pnn3STMX/8ali+Hxx+HefPcdkzFG4iIyBg1UEzChcC3ga8Dd+GmaPqBnxljPmOtfXZ4SpR46o1E2bCthepgI9V1YaprG9na1AlARmoSC8sK+NjSafh9brtlfpaGoYjIEPvmN11O3c6dUFICn/+8izh4l5o7EREZwwZawfsycKa1trbfc2uMMS8Dz8Y+JME0dfRQU+e2WVbVhlhdH6ajx2XPTcrLwF/hcXNsdW52cR6pycqeE5Eh1tYGzz7rVumSk6G1FT7wAbjpJjj77L3n60RERGTABi91v+YOAGttrTFGyzQJwFpL7Z72viDx6mCIjTtaAUhOMswuzmX5cWVUxhq6yQWZca5YRMYMa6G62k3BfPxxaGmBCRPgjDPgy1/WFEwREZGDGKjB6zHGlFtr6/o/aYzxAb1DW5YMhc6eCOsamvpy52qCIfa0dQOQm5FCZbnH+fNL8Ps8FpQVkJ2uvxUXkTior4fzz4c1ayAzE5YtcwNTTj7ZXVdzJyIiclAD/QT/H8BvjTFfA6pxQ1aOA+4Abh+G2uQI7Wpx2XM1dSGqahtZ19BMd8Rlz1WMy2LpzPEEfIX4fR7TJ+SQpOw5EYmHaBReecWdqVu+3J2rKy2FW2+FK6+EgoJ4VygiIjJqGGvtwS8aswD4NG6KpgHWAXdZa9cMT3nvFQgEbFVVVbzefsTb3drFN371Bv+obSS4px2AtOQkji3NJ+Dz+rZbFuWkx7lSERnztm6FH/zATcLcvBlmzYL167VCJyIi8j6MMdXW2sCBrr3fHrytwL3AJmtt+KhXJkfdT6u38JPqLZw1ZyJXLy7H7/OYNzmf9BRlz4nICHLXXXD77S637tRT4YtfhEsvVXMnIiJyhAaKSbgJ+BqwGZhijLnFWvvcsFUmh+VPm3YzY2IOD1x7wIZeRCQ+Nm1yK3XXXANz5sAJJ/z/9u47vsr67v/465MECEtQQBmRPQRkKGHIKNStRSku1k9l6U2t29tWb613611bvW9aulSqiCgqiBMHFrVCmyDIUJCClYQhBFBywp5Z398f3wAxhJBAzrnOOXk/H488PNc41/VOuITzyXfB/ffD2LHQrl3Q6UREROJGWS14dwOdnXPZZtYaeBlQgRfFDuYVsHj9dkb1bhF0FBEROHAA3nzTz4Q5fz4kJEDr1r7A69fPf4mIiEilKqvAy3XOZQM459aZmQZtRbmlG3ZwKL+Q/u0aBB1FRKq6/HzfMrd5sy/qHnsMbr4ZmjULOpmIiEhcK6vASzGzPx1v2zl3Z/hiyclIy8ymWqLRu5UKPBGJsF27/Hp1CxfCiy/6xccfecQXeQMH+tY7ERERCbuyCrz7S2wvC2cQOXXpGSHOa3661q8TkchwDtLTfRfM117zXTK7doUdO+D00+HWW4NOKCIiUuUctxJwzr0QySByarbvy2XVlt3cd0n7oKOISFUxaxYMHw5168JNN8H48dCjh2bCFBERCZCaeuLEgswQAP3bNQw4iYjEpYICmDvXt9ZdeCHcfjsMHgzPPw/XXw+1awedUERERAANiogT6Rkh6iYn0TWlftBRRCSerF8Pv/gFtGgBP/qR75JZWOiP1a4No0eruBMREYkiYS3wzOxyM/vazDLN7IEyzutpZgVmdl0488Qr5xzpmSH6tmlAYoK6RonIKSooOPr6llv8DJhdu8Ibb0BWFtypObZERESi1XELPDObVez1EyWOfXiiC5tZIvAkcAXQCRhhZp2Oc94TwNzyx5bi1of2sXnnAfq3axR0FBGJZStXwt13+6UMtm71+yZNgm++gTlz4JproHr1YDOKiIhImcpqwWtX7PUlJY6Vp5LoBWQ659Y553KBmcCQUs67A3gD2FaOa0opDo+/G9BW4+9EpIL27fPj6vr08a10Tz/tlzXYv98f79IFzj472IwiIiJSbmUVeO4kjx3WDNhUbDurYi5Y0AAAIABJREFUaN8RZtYMGApMLutCZnarmS01s6XZ2dnluHXVkpYRIuX0mrRoUCvoKCISC5zz69YBbN/ulzPYu9e31m3eDK++Cm3aBJtRRERETkpZs2jWMrPz8EVgzaLXVvRVsxzXLm0wWMnC8A/Az51zBVbGtNrOuWeAZwBSU1PLU1xWGfkFhSxcm8Pgbk0o62coIkJ2Nkyf7lvsWrSADz7wrXOrV0OHDlreQEREJA6UVeB9C/y+lNeHt08kCyjerycF2FLinFRgZlFh0hC40szynXNvl+P6AqzI2sWeQ/n0U/dMETme9HT405/g7bchL893x7zhhqPHzzknuGwiIiJSqcpa6HzQKV57CdDOzFoBm4HhwMgS92h1+LWZTQPeU3FXMekZIcygXxsVeCJSzMaNcOaZkJwMCxbAJ5/4tevGjYPOnYNOJyIiImFy3ALPzK4pscsBIWC5c27PiS7snMs3s9vxs2MmAlOdc6vMbELR8TLH3Un5pGdmc27TepxeWzPbiVR5ubnwzju+C+aHH8JLL8HIkb6wu/tuqFEj6IQiIiISZmV10byqlH1nAF3NbJxz7pMTXdw5NweYU2JfqYWdc270ia4n37f3UD5fbNzJLT9oHXQUEQnSwYPw8MPwwgsQCvlxdY88AgMG+ONaiFxERKTKKKuL5pjS9ptZC2AW0DtcoaR8PluXQ36h0/IIIlXRvn2wYgX07etb5j75xC9vMH48XHIJJCYGnVBEREQCUFYLXqmcc9+YWbVwhJGKScsIkVwtgfNbnB50FBGJBOdgyRJ47jmYMcNvf/utb6FbvBiSKvxXuoiIiMSZstbBK5WZdQAOhSGLVFB6ZoieLc8guZp+Uy8S9+bPh27doHdvP7buuutg7lyoVbT+pYo7ERERoexJVt7l2HXrzgCaAP8vnKHkxLbuOkDmtr3ckJoSdBQRCYfCQpg3Dxo39rNe1qvnZ8T8619h+HA47bSgE4qIiEgUKutXvhNLbDsgB8hwzuWGL5KUx4LMHAD6t20UcBIRqVRZWTBtGkydCuvXw623+qLuvPN8N0wRERGRMpQ1yco/SttvZolmNso593L4YsmJpGdk07BOdc5pXDfoKCJSWUaPhunTfevdhRfCY4/B0KFBpxIREZEYctwxeGZ2mpk9aGZ/MbNLzbsDWAfcELmIUpJzjvTMHPq1bUhCggUdR0RO1po1vogrLPTbHTrAgw/C2rXw97/DiBG+W6aIiIhIOZXVRXM6sANYCIwH7geqA0Occ8sjkE2O49/f7iG09xD9tTyCSOzZvx9ef90vRp6W5pczGDzYT6Dy4INBpxMREZEYV1aB19o51wXAzKYAIaC5c25PRJLJcaVnhADo304FnkhMWbkS+veH3buhbVt4/HG4+WY/kYqIiIhIJSirwMs7/MI5V2Bm61XcRYe0zBBtGtWmSb2aQUcRkbLs2AGvvALVqvnJUjp2hFGj/CyYAwaAqYu1iIiIVK6yCrzuZra76LUBNYu2DXDOOc3RHYBD+QUsXp/D8J7Ng44iIqVxDv7xD98F84034OBBuOoqX+AlJcFTTwWdUEREROJYWQXeCufceRFLIuWy7JsdHMwr1Pg7kWh1++2+iKtXD8aOhXHj4Pzzg04lIiIiVcRxZ9Hk2EXOJQqkZ4RITDD6tGkQdBQRyc+Hd9+FIUPg66/9vhtv9EsdbNkCTz6p4k5EREQiqqwWvDPN7N7jHXTO/T4MeeQE0jNDnHd2ferUKOuPTkTCau1avxD588/D1q1w1lmwbp1f5qBPH/8lIiIiEoCyqoREoA5+zJ1EgR37clm5eRd3XdQu6CgiVdfevdClCxw6BFdeCePH+/9WqxZ0MhEREZEyC7ytzrlHI5ZETmjhuhycgwFaHkEkclas8BOmZGbCBx9AnTp+ZsyePaFZs6DTiYiIiHxPWQWeWu6iTFpGiLo1kuiWUj/oKCLxbdcumDHDF3bLlkH16nDttb7VrkYN+PGPg04oIiIiUqqyJlm5KGIppFzSM7Pp06YBSYll/bGJyElxDvKKlv+cNQt+8hPIzYU//tFPmPLKK764ExEREYlix60UnHPbIxlEyvZNzj42bT+g7pkile277+D//s8vQv7MM37f8OGweLHvnnnnndBAs9aKiIhIbNBUjDEiLSMEQD+tfydSOT74wHfBfOcdv9xBv37QooU/VreuH2MnIiIiEmNU4MWI9IwQTesl07ph7aCjiMSunJyjrXG/+Y1fu+6uu/xi5B07BptNREREpBKowIsBBYWOT9eGuPzcxphp7huRCjl0CN5+G557Dv75T9i0CRo1gpdfhsaN/QQqIiIiInFCBV4MWLl5F7sP5tO/XaOgo4jEjs2bYeJEmD7dt9w1bw7/9V+QmOiPN28ebD4RERGRMFCBFwPSM7IB6NdGEz2IlGnPHti+3Y+lO3QInn4arr7aL0Z+0UVHizsRERGROKUCLwakZYTo3PQ0GtTRFO0ix3AOFi3yXTBnzvSF3OzZ0Lo1bNsGp50WdEIRERGRiFGBF+X2Hcrn8407GNuvVdBRRKLPiy/CE0/A6tVQuzYMGwa33HL0uIo7ERERqWJU4EW5xRu2k1fg6K/170SgsBD+/ncYONBPjrJxo1/S4NlnfXFXt27QCUVEREQCddyFziU6pGeEqJ6UQM+WZwQdRSQ4mzbBo4/6bpeXXurXrgN48EHfPXP8eBV3IiIiIqgFL+qlZ4To1fIMkqtpcgipgnbsgJEjYe5cP9bukkt8l8yrrvLHNWmKiIiIyPeowIti23Yf5Ovv9jD0/GZBRxGJnH//G776CoYOhfr1IS8PHn4YxoyBVhqLKiIiIlIWFXhRLD0zBED/thp/J3Fu3z547TWYMgUWLPALkV91FSQlwccfB51OREREJGZoDF4US88IcUbt6nRqopkAJY69/DI0aeJb6LKz4X//F1au9MWdiIiIiFSIPkFFKecc6Zkh+rZpQEKCBR1HpPJs3+6Luh/8ALp1g/bt4Zpr/EQp/fqB6XkXEREROVkq8KJUxra9bNtziAFaHkHiQWEhzJ/vu2C++SYcOgS/+pUv8Hr2hGnTgk4oIiIiEhdU4EWptIyi8XftGgWcROQUOQe9e8PSpX7SlFtugXHjoHv3oJOJiIiIxB0VeFEqPSOb1g1r06x+zaCjiFRMXh7MmeO/Jk/2XS5Hj4a77/ZdMWvqmRYREREJFxV4USg3v5DP1m/n2vNTgo4iUn4ZGfDcc7675Xff+YlTHnoImjeHn/406HQiIiIiVYIKvCj0xcYd7M8toL/G30ms+OQTuOgiv/D4j37kJ0y54grNhCkiIiISYfr0FYXSM0MkJhgXtGkQdBSR0n3xhZ8wpV073/Wyf3+/vMGoUdC0adDpRERERKosrYMXhdIyQnRLqcdpydWCjiJy1M6d8PTT0KMHnH++7465das/Vr063H+/ijsRERGRgKnAizK79ufxZdZOzZ4p0cG5o6/Hj4fbboOCAvjzn31x98QTwWUTERERkWOowIsyC9eFKHRo/TsJ1rff+uKtY0dYv97ve/hhv9TBF1/A7bfD6acHm1FEREREjqExeFEmLSNE7eqJdD+7ftBRpKrJz4e5c/3Yunff9S11AwbAjh3QqpXWrRMRERGJASrwosyCzBB9WjegWqIaVyVCDh2CGjX8GLuhQ33L3L33+sXIO3QIOp2IiIiIVIAKvCiyaft+NuTs5+a+LYOOIvHu4EF46y0/UUpeHvzjH9CwIaSl+QlUqmmCHxEREZFYpGaiKJKeGQI0/k7C6Kuv4K67/GyXI0fC2rVwySVQWOiP9+6t4k5EREQkhqkFL4qkZ4RofFoybRrVCTqKxJPdu/2C47Vq+QXJJ0/2XTHHj4cLL4QE/Z5HREREJF7ok12UKCh0LFgbon+7hphZ0HEk1jkHn34KY8dCkybw0kt+/803w+bNMHMmXHyxijsRERGROKMWvCixestudu7Po39bdc+UU1BYCJMm+Zkw//1vqFMHRo2CPn388Tp1/JeIiIiIxCUVeFEiLTMbgH4q8KSiCgpg1Sro2tW3yL32GpxxBkydCtdfr4JOREREpAoJa4FnZpcDfwQSgSnOucdLHB8F/Lxocy/wE+fcinBmilbpGSHOaVyXRnVrBB1FYsU338Dzz/tCbts22LrVL3Hw979D7dpBpxMRERGRAIRtAI6ZJQJPAlcAnYARZtapxGnrgYHOua7A/wDPhCtPNDuQW8DSDTs0e6aUz4oVcPnlfvHxRx+Fjh1h+vSjRZ2KOxEREZEqK5wteL2ATOfcOgAzmwkMAVYfPsE592mx8xcBKWHME7UWb9hObkEh/ds1CjqKRKvVRf/bdOoENWv68XWPPAJjxkCLFsFmExEREZGoEc4Crxmwqdh2FtC7jPPHAR+EMU/USs/IpnpiAr1anhF0FIkme/fCrFl+wpSFC/14ulmzoH17WLdOM2CKiIiIyDHCWeCVNte/K/VEsx/iC7z+xzl+K3ArQPPmzSsrX9RIz8yhR4vTqVk9MegoEi1+8Qv4wx98kdexI0ycCDfeePS4ijsRERERKUU4PyVmAWcX204BtpQ8ycy6AlOAIc65nNIu5Jx7xjmX6pxLbdQovroxZu85xFdbd9Nf4++qtpwceOopyMvz27Vr+xa7BQv8DJn33QdnnhlsRhERERGJeuFswVsCtDOzVsBmYDgwsvgJZtYceBO40Tm3JoxZotana0MAmmClKioshE8+8V0w33oLcnPhnHPgwgvhgQeCTiciIiIiMShsBZ5zLt/Mbgfm4pdJmOqcW2VmE4qOTwYeARoAT5kZQL5zLjVcmaJRWkaI+rWq0blpvaCjSCRt3AgDB8KGDX7Nup/8BMaNgy5dgk4mIiIiIjEsrOvgOefmAHNK7Jtc7PV4YHw4M0Qz5xzpGSH6tWlIYkJpQxYlbuTlwXvvwfbtvpBLSYH+/eHxx2HIEEhODjqhiIiIiMSBsBZ4Ura12fv4dvdB+rVV98y49fXX8Nxz8MILfjHybt1g7Fg/Scr06UGnExEREZE4o6n4ApSekQ1o/F3c+s1v/Ji6SZOgXz94/31YtgxMrbUiIiIiEh5qwQtQemaIFg1qcfYZtYKOIqfKOV+8Pfcc/Md/QPfucOmlkJQEN90EjRsHnVBEREREqgAVeAHJKyhk0brtDOneNOgocip27ICXX/YzYa5YATVrQp8+vsBLTfVfIiIiIiIRogIvIMs37WTvoXx1z4xl+fnQoQNkZ8P55/t17EaMgPr1g04mIiIiIlWUCryApGWESDC4oLUKvJixZYufLGXRInj7bd/98o9/9OPszjsv6HQiIiIiIirwgrIgM0SXlPrUq1Ut6ChSlvx8mDPHd8GcMwcKCmDQINi1y7fUjRgRdEIRERERkSM0i2YAdh/MY/mmnQzQ8gjRyzn/3zff9OvULVkC998Pa9bAvHnqhikiIiIiUUkteAFYtDaHgkJHf42/iy4HDviCbsoUuOIK+NnP4OqrYfZsv11Nra0iIiIiEt1U4AUgPTNEreqJnN/89KCjCMDy5b6oe/ll2LkTWreGBg38seRkX+SJiIiIiMQAFXgBSM8I0bvVGVRPUg/ZwBw44Jc0AHjwQd/t8tprYfx4GDgQEvRnIyIiIiKxRwVehG3eeYB1oX2M7N086ChVj3OQnu5b6958E1avhrPPhj//Gc44w3+JiIiIiMQwFXgRtiAjBMCAdo0CTlKF7NwJzzwDzz3nJ0mpWxdGjTo6kUrbtsHmExERERGpJOqHFmFpmSHOrFuD9mfVCTpKfMvPh2+/9a8PHICHHoIzz4Rp02DrVpg8GZqrFVVERERE4ota8CKosNCxIDPEoPaNMLOg48Sn9eth6lR4/nno0AH+/ndo0gS++QaaNg06nYiIiIhIWKnAi6DVW3ezfV+ulkcIh7lzYeJE+PhjP0HKZZfBLbccPa7iTkRERESqABV4EZSe6cff9dcC55Vj5Uq/pEHt2vDVV5CRAY8+CqNH+8lTRERERESqGI3Bi6AFmSHan1WHM09LDjpK7NqzB559Fnr3hq5d4bXX/P6f/ATWrYNf/ELFnYiIiIhUWSrwIuRgXgGL12+nf1vNnnlSDh6EceP8eLpbb4V9+2DSJBg82B+vUUNr14mIiIhIlacumhGydMMODuUXMkDj78ovOxuWLYPLL4fkZMjMhBEj/GLkvXqBJqoREREREfkeFXgRkpaZTbVEo3drLaZdpoICP1HKlCkwezZUqwbffQd16sD8+SrqRERERETKoD5tEZKeEeL85qdTq7pq6uP68EM/acrll8O8eXD77bB4sS/uQMWdiIiIiMgJqMCLgO37clm1Zbe6Z5aUmwuvvw6ff+63mzXza9e9+ips3gy//z107hxsRhERERGRGKICLwIWFC2P0E/LI3irV8N99/mC7vrrfXdM8MXchx/CDTf4SVNERERERKRC1F8wAtIzQpyWnETXlPpBRwnetdfCm29CUhIMGeInTLnkkqBTiYiIiIjEBRV4YeacIz0zRN82DUlMqGJjyJyDJUtg1ix44glITIRBg+CCC+Cmm+DMM4NOKCIiIiISV1Tghdn60D427zzATwa1CTpK5GzfDi+95LterlwJtWrBzTdDly5wxx1BpxMRERERiVsagxdm6UXj76rMBCsrVkDTpnDXXX7tur/+FbZu9cWdiIiIiIiElVrwwiw9I0TK6TVpfkatoKOER1YWTJsGtWvDPffAuefCvffCsGHQrVvQ6UREREREqhQVeGGUX1DIwrU5DO7WBIunNdzy8uD9930XzA8+gMJCGD7cH0tMhN/8Jth8IiIiIiJVlLpohtGKrF3sOZRP/7aNgo5Sue64A4YO9evXPfAAZGbCjBlBpxIRERERqfJU4IVRekYIM+jbpkHQUU7e/v0wfToMHAj/+pffN2ECvPsubNwIjz0GbarQBDIiIiIiIlFMBV4YpWdm06VZPU6vXT3oKBX3+edw223QpIlf0mDLFvj2W3+se3cYPNivZSciIiIiIlFDn9DDZO+hfL7YuJNbf9A66CjlV1gICQmwdy8MGOC3r7vOL0b+gx9API0jFBERERGJQyrwwuSzdTnkFzr6t43y5RGcg3/+00+Ysm4dLFgAderAO+/A+efD6acHnVBERERERMpJBV6YpGWESK6WQI+WUVogffutX97guef8JCn16sHIkXDoENSoARddFHRCERERERGpII3BC5P0zBC9WjWgRlJi0FGOys+Hgwf967/9DR580C9K/uKLfozdU0/54k5ERERERGKSCrww2LrrAJnb9jIgWrpnrl0LDz0ELVr4Ig7ghhvg66/hH/+AG2+EWnG6ELuIiIiISBWiLpphkJ4RAqB/u4ALvJkz4dln4ZNP/OQpV1zhZ8AEX9C1bx9sPhERERERqVQq8MJgQWaIhnWqc07jupG/+Tff+JY68MXd+vXw61/D6NHQrFnk84iIiIiISMSowKtkzjnSM3Po17YhFqllBXbvhhkz/EyYX3wBmzb59etmzoQGDXzrnYiIiIiIxD198q9k//52D6G9hyKzPMKGDTBmjC/mJkzwE6j8/vdQu7Y/3qiRijsRERERkSpELXiV7PD4uwHtGoXnBtu2wY4d0KEDJCbCW2/BqFF+MfKePbUYuYiIiIhIFaYCr5KlZYZoe2YdGtdLrryLFhTAhx/6Netmz4aLL4YPPoCzz4bvvtPSBiIiIiIiAqiLZqU6lF/A4vU5lds98+mnoWVLuPJKv6TBXXf5bpiHqbgTEREREZEiasGrRMu+2cHBvEIGnMryCIcOwTvvwODBULMm7NsHnTvDpElw9dVQvXrlBRYRERERkbiiAq8SpWeESEowerduUPE3r1rlu2C++CLk5MCrr/rFyO+7D/7zPys/rIiIiIhErby8PLKysjh48GDQUSRAycnJpKSkUK1atXK/RwVeJUrPDHFe8/rUqVGBH+uOHb775aJFUK0a/PjHMG6cH2cHmjRFREREpArKysqibt26tGzZMnJLb0lUcc6Rk5NDVlYWrVq1Kvf7NAavkuzYl8vKzbvo3/YEs2c654u56dP9dv36fgHy3/8eNm+GWbPgssv8DJkiIiIiUiUdPHiQBg0aqLirwsyMBg0aVLgVVy14leTTtTk4B/2PN/4uFIKXXvKLka9aBY0bw4gRkJQEr78e2bAiIiIiEvVU3MnJPANqwask6Zkh6tZIoltKvWMPTp3qW+nuuQfq1IFnn4U1a3xxJyIiIiIShR577DE6d+5M165d6d69O5999lmlXr9v374AbNiwgVdeeeXI/qVLl3LnnXeW+d7Jkyfz4osvAjBt2jS2bNlSqdlK+u1vf0vbtm3p0KEDc+fOPe55f/7zn+nQoQOdO3fmZz/7GQC5ubmMGTOGLl260K1bN+bPnw/Anj176N69+5Gvhg0bcvfdd59y1rBWGGZ2OfBHIBGY4px7vMRxKzp+JbAfGO2c+zycmcIlPTObPm0akJSYAJs2wbRpvqtlr16Qmgq33ebH1p17btBRRURERETKtHDhQt577z0+//xzatSoQSgUIjc3t1Lv8emnnwJHC7yRI0cCkJqaSmpqapnvnTBhwpHX06ZN49xzz6Vp06aVmu+w1atXM3PmTFatWsWWLVu4+OKLWbNmDYklhlTNmzeP2bNn8+WXX1KjRg22bdsGwLPPPgvAypUr2bZtG1dccQVLliyhbt26LF++/Mj7e/TowTXXXHPKecPWgmdmicCTwBVAJ2CEmXUqcdoVQLuir1uBp8OVJ5y+ydnHt9m7GbV5qZ8wpWVLeOQRKKrO6drVL3Og4k5EREREYsDWrVtp2LAhNYrWXG7YsOGRAmrZsmUMHDiQHj16cNlll7F161YABg0axM9//nN69epF+/btSUtLA2DVqlX06tWL7t2707VrVzIyMgCoU6cOAA888ABpaWl0796dSZMmMX/+fAYPHkxhYSEtW7Zk586dR3K1bduW7777jl/+8pdMnDiR119/naVLlzJq1Ci6d+/O+++/z9ChQ4+c/9FHH51y0TR79myGDx9OjRo1aNWqFW3btmXx4sXHnPf000/zwAMPHPmZnXnmmYAvEC+66KIj++rXr8/SpUu/996MjAy2bdvGgAEDTikrhLcFrxeQ6ZxbB2BmM4EhwOpi5wwBXnTOOWCRmdU3sybOua1hzFXp0tZk8960u+gQ2ui7Yj70EIwZAxWY7UZEREREpDS/encVq7fsrtRrdmp6Gv99VefjHr/00kt59NFHad++PRdffDHDhg1j4MCB5OXlcccddzB79mwaNWrEq6++ykMPPcTUqVMByM/PZ/HixcyZM4df/epXfPzxx0yePJm77rqLUaNGkZubS0FBwffu9fjjjzNx4kTee+89gCNdGBMSEhgyZAhvvfUWY8aM4bPPPqNly5acddZZR9573XXX8Ze//IWJEyeSmpqKc4777ruP7OxsGjVqxPPPP8+YMWOO+f7uuece5s2bd8z+4cOH88ADD3xv3+bNm+nTp8+R7ZSUFDZv3nzMe9esWUNaWhoPPfQQycnJTJw4kZ49e9KtW7cjReKmTZtYtmwZmzZtolevXkfeO2PGDIYNG1Yp4y7DWeA1AzYV284CepfjnGbA9wo8M7sV38JH8+bNKz3oqapZPYn5Q8bQfmhP7PLLNQOmiIiIiMS0OnXqsGzZMtLS0pg3bx7Dhg3j8ccfJzU1lX/9619ccsklABQUFNCkSZMj7zvcWtajRw82bNgAwAUXXMBjjz1GVlYW11xzDe3atSt3jmHDhvHoo48yZswYZs6cybBhw8o838y48cYbeemllxgzZgwLFy48MlavuEmTJpU7g2+LOvY+JeXn57Njxw4WLVrEkiVLuOGGG1i3bh1jx47lq6++IjU1lRYtWtC3b1+SSszFMXPmTKYfnmX/FIWzwCut/Cz50ynPOTjnngGeAUhNTT32Jxywa3ukwJRfBh1DREREROJQWS1t4ZSYmMigQYMYNGgQXbp04YUXXqBHjx507tyZhQsXlvqew90TExMTyc/PB2DkyJH07t2b999/n8suu4wpU6Zw4YUXlivDBRdcQGZmJtnZ2bz99ts8/PDDJ3zPmDFjuOqqq0hOTub6668/ppiCirXgpaSksGnT0TaprKysUsf7paSkcM0112Bm9OrVi4SEBEKhEI0aNfpeQdm3b9/vFbkrVqwgPz+fHj16nPB7K49wFnhZwNnFtlOAktPblOccERERERGJoK+//pqEhIQjhcjy5ctp0aIFHTp0IDs7m4ULF3LBBReQl5fHmjVr6Nz5+EXounXraN26NXfeeSfr1q3jyy+//F6BV7duXfbs2VPqe82MoUOHcu+999KxY0caNGhwzDkl39+0aVOaNm3Kr3/9az766KNSr1uRFryrr76akSNHcu+997JlyxYyMjK+173ysB//+Md88sknDBo0iDVr1pCbm0vDhg3Zv38/zjlq167NRx99RFJSEp06HZ2aZMaMGYwYMaLceU4knAXeEqCdmbUCNgPDgZElznkHuL1ofF5vYFesjb8TEREREYk3e/fu5Y477mDnzp0kJSXRtm1bnnnmGapXr87rr7/OnXfeya5du8jPz+fuu+8us8B79dVXeemll6hWrRqNGzfmkUce+d7xrl27kpSURLdu3Rg9ejTnnXfe944PGzaMnj17Mm3atFKvP3r0aCZMmEDNmjVZuHAhNWvWZNSoUWRnZ3+vkDpZnTt35oYbbqBTp04kJSXx5JNPHplBc/z48UyYMIHU1FTGjh3L2LFjOffcc6levTovvPACZsa2bdu47LLLSEhIoFmzZsd0xZw1axZz5sw55ZyHWWl9Sivt4mZXAn/AL5Mw1Tn3mJlNAHDOTS5aJuEvwOX4ZRLGOOeWHveC+C6aJWedERERERGJJ1999RUdO3YMOkbMuv322znvvPMYN25c0FFOWWnPgplCOyZJAAAJNklEQVQtc86VupZEWNfBc87NAeaU2De52GsH/DScGUREREREpOro0aMHtWvX5ne/+13QUQIR1gJPREREREQkkpYtWxZ0hECFbaFzERERERERiSwVeCIiIiIiUSicc2VIbDiZZ0AFnoiIiIhIlElOTiYnJ0dFXhXmnCMnJ4fk5OQKvU9j8EREREREokxKSgpZWVlkZ2cHHUUClJycTEpKSoXeowJPRERERCTKVKtWjVatWgUdQ2KQumiKiIiIiIjECRV4IiIiIiIicUIFnoiIiIiISJywWJuZx8yygW+CzlGKhkAo6BASt/R8SbjpGZNw0vMl4aTnS8IpWp+vFs65RqUdiLkCL1qZ2VLnXGrQOSQ+6fmScNMzJuGk50vCSc+XhFMsPl/qoikiIiIiIhInVOCJiIiIiIjECRV4leeZoANIXNPzJeGmZ0zCSc+XhJOeLwmnmHu+NAZPREREREQkTqgFT0REREREJE6owKsgM7vczL42s0wze6CU42Zmfyo6/qWZnR9ETolN5Xi+RhU9V1+a2adm1i2InBKbTvR8FTuvp5kVmNl1kcwnsa08z5eZDTKz5Wa2ysz+EemMEtvK8W9kPTN718xWFD1jY4LIKbHHzKaa2TYz+9dxjsfU53sVeBVgZonAk8AVQCdghJl1KnHaFUC7oq9bgacjGlJiVjmfr/XAQOdcV+B/iMF+4RKMcj5fh897Apgb2YQSy8rzfJlZfeAp4GrnXGfg+ogHlZhVzr/Dfgqsds51AwYBvzOz6hENKrFqGnB5Gcdj6vO9CryK6QVkOufWOedygZnAkBLnDAFedN4ioL6ZNYl0UIlJJ3y+nHOfOud2FG0uAlIinFFiV3n+/gK4A3gD2BbJcBLzyvN8jQTedM5tBHDO6RmTiijPM+aAumZmQB1gO5Af2ZgSi5xz/8Q/L8cTU5/vVeBVTDNgU7HtrKJ9FT1HpDQVfXbGAR+ENZHEkxM+X2bWDBgKTI5gLokP5fn7qz1wupnNN7NlZnZTxNJJPCjPM/YXoCOwBVgJ3OWcK4xMPIlzMfX5PinoADHGStlXchrS8pwjUppyPztm9kN8gdc/rIkknpTn+foD8HPnXIH/BbhIuZXn+UoCegAXATWBhWa2yDm3JtzhJC6U5xm7DFgOXAi0AT4yszTn3O5wh5O4F1Of71XgVUwWcHax7RT8b4kqeo5Iacr17JhZV2AKcIVzLidC2ST2lef5SgVmFhV3DYErzSzfOfd2ZCJKDCvvv48h59w+YJ+Z/RPoBqjAk/IozzM2Bnjc+TXAMs1sPXAOsDgyESWOxdTne3XRrJglQDsza1U0aHc48E6Jc94BbiqabacPsMs5tzXSQSUmnfD5MrPmwJvAjfqtt1TQCZ8v51wr51xL51xL4HXgNhV3Uk7l+fdxNjDAzJLMrBbQG/gqwjkldpXnGduIbyHGzM4COgDrIppS4lVMfb5XC14FOOfyzex2/OxyicBU59wqM5tQdHwyMAe4EsgE9uN/myRyQuV8vh4BGgBPFbWy5DvnUoPKLLGjnM+XyEkpz/PlnPvKzP4GfAkUAlOcc6VOSS5SUjn/DvsfYJqZrcR3qfu5cy4UWGiJGWY2Az/zakMzywL+G6gGsfn53nwrtoiIiIiIiMQ6ddEUERERERGJEyrwRERERERE4oQKPBERERERkTihAk9ERERERCROqMATERERERGJEyrwREQk7MyswMyWF/tqWbT/HjM7aGb1ip07yMzeK+Uag83sCzNbYWarzew/ivb/0sw2l7h+/RLvbWlmB4qOrTazyWaWUHSss5l9YmZrzCzDzH5hReuQmNlZZvZesXvOKXa9f5nZZcXuudfMvi56/eLh76Po3KzD9yuWabmZ9TrJ/C+aWbVix5PMLGRmvy3afqjYtYr/7O8sz/1ERCR2qcATEZFIOOCc617sa0PR/hH4BYyHlvXmomLmGeAq51w34DxgfrFTJpW4/s5SLrPWOdcd6Ap0An5sZjXxC9g+7pxrD3QD+gK3Fb3nUeAj51w351wn4IHiF3TOzT18T2ApMKpo+6Zi52wANgEDin0/5wB1nXOLTyJ/FyAFuKHYsUuBr4EbzMycc48Vy1X8Z/+nCtxPRERikAo8EREJhJm1AeoAD+MLvbLUBZKAHADn3CHn3Ncnc1/nXD7wKdAWGAkscM59WHRsP3A7Rwu5JkBWsfd+eTL3BGYAw4ttDy/aV2HOuQJgMdCs2O4RwB+BjUCfk8woIiJxQAWeiIhEQs1i3QHfKto3Al/kpAEdzOzM473ZObcd39L2jZnNMLNRJbo83lPs+vPKCmJmtYCLgJVAZ2BZiXutBeqY2WnAk8BzZjavqNtj04p920fMwrcYJhVtDwNmnmT+ZKA38Lei7ZpF3897+J/niYrlCt1PRERiiwo8ERGJhOLdBA93xxwOzHTOFQJvAteXdQHn3Hh8IbMY+E9garHDxbsc/vA4l2hjZsuBBcD7zrkPAAPc8W/p5gKtgWeBc4AvzKzRCb/bYy/0LbAKuMjMugN5zrl/nWT+HGBjsdbEwcC8otbHN4ChZpZ4gkjluZ+IiMSgpBOfIiIiUrnMrCvQDvioaD6T6sA6fIvZcTnnVgIrzWw6sB4YXYHbHh7DVtwq4AclsrUG9jrn9hTdczvwCvBK0eQvP6BEq185He6m+R0n1z1zrXOuu5k1Aeab2dXOuXfwLXb9zGxD0XkNgB8CH5/EPUREJMapBU9ERIIwAvilc65l0VdToJmZtSjtZDOrY2aDiu3qDnxTCTleBvqb2cVF96kJ/An436LtC4u6dGJmdYE2+HFuJ+MN4EqO7Z5ZIc65rfgxgg8WdSPtDzQ//LMEfkr5ummKiEgcUoEnIiJBGA68VWLfWxydiOSioqUFsswsCz9r5s8OL0MA/Irvt94VH1N2ZBmGE3HOHQCGAA+b2df4cXlLgL8UndIDWGpmXwILgSnOuSUV/F4P32snsAj4zjm3vsThiuZ/G6gF3AV84pw7VOzYbOBqM6tRxvtP6uclIiLRz5w73tADERERERERiSVqwRMREREREYkTKvBERERERETihAo8ERERERGROKECT0REREREJE6owBMREREREYkTKvBERERERETihAo8ERERERGROKECT0REREREJE78f7+32Gd48L7fAAAAAElFTkSuQmCC\n",
      "text/plain": [
       "<Figure size 1080x432 with 1 Axes>"
      ]
     },
     "metadata": {
      "needs_background": "light"
     },
     "output_type": "display_data"
    }
   ],
   "source": [
    "fpr, tpr, thresholds = roc_curve(y_test,y_pred_xgb)\n",
    "roc_auc = roc_auc_score(y_test,y_pred_xgb)\n",
    "plt.figure(figsize  = (15,6))\n",
    "plt.plot(fpr, tpr, label = 'Sensitivity = %0.3f'% roc_auc )\n",
    "plt.plot([0, 1], [0, 1],'r--')\n",
    "plt.xlabel('FALSE POSITIVE RATE')\n",
    "plt.ylabel('TRUE POSITIVE RATE')\n",
    "plt.title('ROC curve for test data')\n",
    "plt.legend(loc=\"lower right\")\n",
    "plt.show()"
   ]
  },
  {
   "cell_type": "code",
   "execution_count": 71,
   "metadata": {},
   "outputs": [
    {
     "name": "stdout",
     "output_type": "stream",
     "text": [
      "No Skill: ROC AUC=0.500\n",
      "XGBOOST: ROC AUC=0.867\n"
     ]
    },
    {
     "data": {
      "image/png": "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\n",
      "text/plain": [
       "<Figure size 1080x432 with 1 Axes>"
      ]
     },
     "metadata": {
      "needs_background": "light"
     },
     "output_type": "display_data"
    }
   ],
   "source": [
    "########### ROC  AUC curve   ######\n",
    "# generate a no skill prediction (majority class)\n",
    "ns_probs = [0 for _ in range(len(y_test))]\n",
    "\n",
    "# predict probabilities\n",
    "lr_probs = gbm_best.predict_proba(X_test)\n",
    "\n",
    "# keep probabilities for the positive outcome only\n",
    "lr_probs = lr_probs[:, 1]\n",
    "# calculate scores\n",
    "ns_auc = roc_auc_score(y_test, ns_probs)\n",
    "lr_auc = roc_auc_score(y_test, lr_probs)\n",
    "\n",
    "# summarize scores\n",
    "print('No Skill: ROC AUC=%.3f' % (ns_auc))\n",
    "print('XGBOOST: ROC AUC=%.3f' % (lr_auc))\n",
    "\n",
    "# calculate roc curves\n",
    "ns_fpr, ns_tpr, _ = roc_curve(y_test, ns_probs)\n",
    "lr_fpr, lr_tpr, _ = roc_curve(y_test, lr_probs)\n",
    "plt.figure(figsize = (15,6))\n",
    "plt.plot(ns_fpr, ns_tpr, linestyle='--', label='No Skill')\n",
    "plt.plot(lr_fpr, lr_tpr, marker='.', label='XGB')\n",
    "plt.xlabel('False Positive Rate')\n",
    "plt.ylabel('True Positive Rate')\n",
    "plt.legend()\n",
    "plt.title(\"ROC_AUC curve for test data\")\n",
    "plt.show()  "
   ]
  },
  {
   "cell_type": "code",
   "execution_count": 72,
   "metadata": {},
   "outputs": [
    {
     "name": "stdout",
     "output_type": "stream",
     "text": [
      "XGBOOST: f1=0.500 auc=0.529\n"
     ]
    },
    {
     "data": {
      "image/png": "iVBORw0KGgoAAAANSUhEUgAAA3gAAAFzCAYAAABsNqukAAAABHNCSVQICAgIfAhkiAAAAAlwSFlzAAALEgAACxIB0t1+/AAAADh0RVh0U29mdHdhcmUAbWF0cGxvdGxpYiB2ZXJzaW9uMy4yLjIsIGh0dHA6Ly9tYXRwbG90bGliLm9yZy+WH4yJAAAgAElEQVR4nOzdd5yU5b3//9fFLlUpUkTK4iJiQQIqK5aIjdjbMSbR6DFoksOJiWknzZyTE/Xk9z0nOaYYNYnHqMFUTTEGjS3NiHWFqEixAAKLqDRBpO/u9fvjmmULCwwws7Mz+3o+HvO45577nns+u7kx896rhRgjkiRJkqTi16nQBUiSJEmScsOAJ0mSJEklwoAnSZIkSSXCgCdJkiRJJcKAJ0mSJEklwoAnSZIkSSWivNAF7Kr+/fvHysrKQpchSZIkSQUxY8aMFTHGAa0dK7qAV1lZyfTp0wtdhiRJkiQVRAhh0faO2UVTkiRJkkqEAU+SJEmSSoQBT5IkSZJKRNGNwZMkSZJUGrZs2cKSJUvYuHFjoUtpl7p168bQoUPp3Llz1u8x4EmSJEkqiCVLltCzZ08qKysJIRS6nHYlxsjKlStZsmQJw4cPz/p9dtGUJEmSVBAbN26kX79+hrtWhBDo16/fLrduGvAkSZIkFYzhbvt253djwJMkSZLUYYUQ+MIXvrB1/9vf/jbXXntt1u9/6623OOeccxg7diyjRo3irLPOAuDRRx/lnHPO2eb8qVOn8s1vfhOAa6+9lm9/+9sAXH755fz2t7/dg58kMeBJkiRJ6rC6du3KPffcw4oVK3br/V//+tc59dRTeeGFF5gzZ87W8LY95513HldfffVufVY28hbwQgh3hBCWhRBmbed4CCHcGEKYF0KYGUI4Ml+1SJIkSVJrysvLmTx5Mt/73ve2ObZo0SImTpzImDFjmDhxIosXL97mnDfeeIOhQ4du3R8zZsw25zz77LMcccQRLFiwgClTpnDVVVfl9odoIp+zaE4BbgZ+up3jZwIjM4+jgR9ltsWnphoWToPKCVAxvjiuXWzXzfe1JUmSVHAX/d9T27x2zphBXHZsJRs213H5T6q3Of6BcUP5YFUFq9Zt5sqfz2h27O5/PTarz/3Upz7FmDFj+PKXv9zs9auuuoqPfOQjTJo0iTvuuIPPfOYz3Hvvvdu896KLLuLmm2/mfe97H1dccQWDBw/eevzJJ5/k05/+NH/4wx8YNmwYjz32WFY17a68BbwY42MhhModnHI+8NMYYwSeDiH0CSEMijG+ka+a8qKmGu48B2q3QFk5TLwGBhycm2svfxn+ch3U1eb22sV23abXrq+Dsi4waaohT5IkSTnRq1cvPvKRj3DjjTfSvXv3ra8/9dRT3HPPPQBcdtll2wRAgNNPP50FCxbw0EMP8eCDD3LEEUcwa1bqxDh37lwmT57MI4880iz05VMh18EbAtQ02V+SeW2bgBdCmAxMBhg2bFibFJe1hdOgdjMQoW4zPPIf+fmcfF272K7bcO2F0wx4kiRJJWZHLW7du5Tt8Hjfvbpk3WLXms997nMceeSRXHHFFds9Z3uzWvbt25dLLrmESy65hHPOOYfHHnuMfv36MWjQIDZu3Mhzzz3XIQJea7+d2NqJMcZbgVsBqqqqWj2nYConQHnXFDo6dYazroeBh+Xm2m/Nhge+BPVbcnvtYrtuw7Xv+wwQUgte5YTcXFeSJEkihbQPfehD3H777Xz0ox8F4LjjjuOuu+7isssu4xe/+AXHH3/8Nu/761//yjHHHEOPHj1Yu3Yt8+fPZ9iwYaxbt44+ffpw++23c9ppp7HXXntx0kkn5f3nKGTAWwJUNNkfCiwtUC27r2I8TLovP2PDhlbBvofm/trFdt2Ga9/3Oah8L0z8uq13kiRJyrkvfOEL3HzzzVv3b7zxRj760Y9y/fXXM2DAAH7yk59s854ZM2Zw1VVXUV5eTn19PR//+Mc56qijePTRRwEYOHAg9913H2eeeSZ33HFH3n+GkIbA5eniaQze/THG0a0cOxu4CjiLNLnKjTHGnX5rr6qqitOnT89xpSoK1/WF4z8PE/+z0JVIkiQpB+bOncuhhx5a6DLatdZ+RyGEGTHGqtbOz1sLXgjhV8BJQP8QwhLgGqAzQIzxFuABUribB6wHtt/ZVZIkSZK0U/mcRfPDOzkegU/l6/MlSZIkqaPJ20LnkiRJkqS2ZcCTJEmSpBJhwJMkSZKkEmHAkyRJkqQSYcCTJEmS1CHV1NQwfPhwVq1aBcDbb7/N8OHDWbRoEa+++irnnHMOI0aMYNy4cZx88sk89thjAEyZMoUBAwZw+OGHc9hhh/GBD3yA9evXF/JH2cqAJ0mSJKlDqqio4Morr+Tqq68G4Oqrr2by5MkMHDiQs88+m8mTJzN//nxmzJjBTTfdxIIFC7a+96KLLuL5559n9uzZdOnShbvvvrtQP0YzeVsmQZIkSZJyrqYaFk6DyglQMX6PL/f5z3+ecePGccMNN/D4449z00038bOf/Yxjjz2W8847b+t5o0ePZvTo0du8v7a2lnXr1rHPPvvscS25YMCTJEmSVHgPXg1vvrjjcza9A2/NglgPoRMMHA1de23//P3eA2d+c4eX7Ny5M9dffz1nnHEGjzzyCF26dGH27NkceeSRO3zf3XffzeOPP84bb7zBQQcdxLnnnrvj2tuIXTQlSZIkFYeNa1K4g7TduCYnl33wwQcZNGgQs2bNavX4BRdcwOjRo3n/+9+/9bWGLppvvvkm73nPe7j++utzUsuesgVPkiRJUuHtpKUNSN0z7zwP6jZDWRe48LY97qb5/PPP86c//Ymnn36a448/nosvvpjDDjts64QqAL///e+ZPn06X/ziF7d5fwiBc889l5tuumnrWL5CsgVPkiRJUnGoGA+TpsIp/5G2exjuYoxceeWV3HDDDQwbNowvfelLfPGLX+SSSy7hiSeeYOrUqVvP3dEsmY8//jgjRozYo1pyxRY8SZIkScWjYnxOJlcB+PGPf8ywYcM49dRTAfjkJz/JlClTqK6u5v777+ff/u3f+NznPsfAgQPp2bMnX/va17a+t2EMXn19PUOHDmXKlCk5qWlPhRhjoWvYJVVVVXH69OmFLkOFcF1fOP7zMPE/C12JJEmScmDu3LkceuihhS6jXWvtdxRCmBFjrGrtfLtoSpIkSVKJMOBJkiRJUokw4EmSJElSiTDgSZIkSSqYYpsTpC3tzu/GgCdJkiSpILp168bKlSsNea2IMbJy5Uq6deu2S+9zmQRJkiRJBTF06FCWLFnC8uXLC11Ku9StWzeGDh26S+8x4EmSJEkqiM6dOzN8+PBCl1FS7KIpSZIkSSXCgCdJkiRJJcKAJ0mSJEklwoAnSZIkSSXCgCdJkiRJJcKAJ0mSJEklwoAnSZIkSSXCgCdJkiRJJcKAJ0mSJEklwoAnSZIkSSXCgCdJkiRJJcKAJ0mSJEklwoAnSZIkSSXCgCdJkiRJJcKAJ0mSJEklwoAnSZIkSSXCgCdJkiRJJcKAJ0mSJEklwoAnSZIkSSXCgCdJkiRJJcKAJ0mSJEklwoAnSZIkSSXCgCdJkiRJJcKAJ0mSJEklwoAnSZIkSSXCgCdJkiRJJcKAJ0mSJEklwoAnSZIkSSXCgCdJkiRJJcKAJ9VUw7TvpK0kSZJUxMoLXYBUUC/9EX59GdTXQ3k3mDQVKsYXuipJkiRpt9iCp45p7Zvw4Ffg7sugvg6IULcZFk4rdGWSJEnSbrMFTx3L2rfgiRtg+h1QtwVGngqvPgKxHsq6QOWEQlcoSZIk7TYDnjqGd5enYPfs7amlbuzFcMIXoe8B8MuLYeHjcNk9ds+UJElSUTPgqbStWwFPfB+evQ1qN8KYi+CEL0G/EY3n7D0Auu5tuJMkSVLRM+CpNK1bCU/eCNU/htoNMPoDcOKXof/IQlcmSZIk5Y0BT6Vl/Sp46mZ45v9g8zoYfSGc+BUYcFChK5MkSZLyzoCn0rDhbXjqB/D0LbD5XTjsn+DEq2HfQwpdmSRJktRmDHgqbhtWw9M/gqd/CJvegVHnp2A3cFShK5MkSZLaXF4DXgjhDOD7QBlwW4zxmy2O9wZ+DgzL1PLtGONP8lmTSsTGNam17ukfpOeHnAMnfRX2G13oyiRJkqSCyVvACyGUAT8ATgWWAM+GEKbGGOc0Oe1TwJwY47khhAHAyyGEX8QYN+erLhWxGOG1x+C+z8Lse2Hjajj4bDjpahg0ptDVSZIkSQWXzxa88cC8GOMCgBDCXcD5QNOAF4GeIYQA7A2sAmrzWJOKVU01UA9LqtOj4mg481sw+IhCVyZJkiS1G53yeO0hQE2T/SWZ15q6GTgUWAq8CHw2xljf8kIhhMkhhOkhhOnLly/PV71qzxZOa3weOsFBpxvuJEmSpBbyGfBCK6/FFvunA88Dg4HDgZtDCL22eVOMt8YYq2KMVQMGDMh9pWr/KidAeXcIZVDWNe1LkiRJaiafXTSXABVN9oeSWuqaugL4ZowxAvNCCK8BhwDVeaxLxahiPEyamlryKiekfUmSJEnN5DPgPQuMDCEMB14HLgYuaXHOYmAiMC2EMBA4GFiQx5pUzCrGG+wkSZKkHchbwIsx1oYQrgIeJi2TcEeMcXYI4ROZ47cA3wCmhBBeJHXp/EqMcUW+apIkSZKkUpbXdfBijA8AD7R47ZYmz5cCp+WzBkmSJEnqKPI5yYokSZIkqQ0Z8CRJkiSpRBjwJEmSJKlEGPAkSZIkqUQY8CRJkiSpRBjwJEmSJKlEGPAkSZIkqUQY8CRJkiSpRBjwJEmSJKlEGPCkfKqphmnfSVtJkiQpz8oLXYBUsmbdA/f8C8QIZV1g0lSoGF/oqiRJklTCbMGTcu3dZfDHL8LvPgb1tRDroG4zLJxW6MokSZJU4mzBk3Jl01p46gfw5E2wZQMMGgtLn4PQKbXgVU4odIWSJEkqcQY8aU/VbYEZU+Dv34J1y2HU+XDK12H9SrjjNBj7YRh3ud0zJUmSlHcGPGl3xQhz7oW//BesWgD7vxc+fBcMrUrHF69M29EXGu4kSZLUJgx40u547TH40zWw9B+w7yi45Dcw8lQIodCVSZIkqQMz4Em74s1Z8OdrYd6foNdQ+KcfwZiLoFNZoSuTJEmSDHhSVlYvhr/+P5h5N3TrDad+A8ZPhs7dCl2ZJEmStJUBT9qR9avSQuXVtwIB3vsZOP7z0H2fQlcmSZIkbcOAJ7VmywZ45haY9j3YvBbGXgInfxV6Dy10ZZIkSdJ2GfCkpupq4YVfwt/+B9YuhYPOgInXwMBRha5MkiRJ2ikDnvTu8rRI+eM3wAu/guUvwdCj4MLboPK9ha5OkiRJypoBTx1bTTW8+gjEOvjzNdBrCHzoZ3DouS55IEmSpKJjwFPHtnAaxPrMTicYdwWMOq+gJUmSJEm7q1OhC5AKqnIClHeDUAblXeGAEwtdkSRJkrTbbMFTx1YxHiZNTS15lRPSviRJklSkDHhSxXiDnSRJkkqCXTQlSZIkqUQY8CRJkiSpRBjwJEmSJKlEGPAkSZIkqUQY8CRJkiSpRBjwJEmSJKlEGPAkSZIkqUQY8CRJkiSpRBjwJEmSJKlEGPAkSZIkqUQY8KR8m/U7qKkudBWSJEnqAAx4Ur4sm5O2z/8K7jzPkCdJkqS8M+BJ+fLGC5kn9VC3GRZOK2g5kiRJKn0GPClfBo1N29AJyrpA5YTC1iNJkqSSV17oAqSSte+otB37YRh3OVSML2g5kiRJKn224En5NvpCw50kSZLahAFPkiRJkkqEAU+SJEmSSoQBT5IkSZJKhAFPkiRJkkqEAU+SJEmSSoQBT5IkSZJKhAFPkiRJkkqEAU+SJEmSSoQBT5IkSZJKhAFPkiRJkkqEAU+SJEmSSoQBT5IkSZJKhAFPUqOaapj2nbSVJElS0SnP5qQQwnuBa4H9M+8JQIwxHpC/0iS1qRfugns/CbEOyrvDpKlQMb7QVUmSJGkXZBXwgNuBzwMzgLr8lSOpzb3+D3js2/DyHxtfq9sMC6cZ8CRJkopMtgFvTYzxwbxWIqltLX4aHrse5v0ZuvWBIz4CL/wS6muhrDNUTih0hZIkSdpF2Qa8v4UQrgfuATY1vBhj/MeO3hRCOAP4PlAG3BZj/GYr55wE3AB0BlbEGE/MsiZJuypGeO2xFOwWToMe/eF910LVx6BbLygrh+l3wKW/tfVOkiSpCGUb8I7ObKuavBaBU7b3hhBCGfAD4FRgCfBsCGFqjHFOk3P6AD8EzogxLg4h7LsrxUtFYdbvoGvPwgamGOHVP6Vgt6Qaeg6C0/8Hxl0OXXo0nte7Im2HHlWQMtUB1VSnPzZUTvCPCpIk5UBWAS/GePJuXHs8MC/GuAAghHAXcD4wp8k5lwD3xBgXZz5n2W58jtQ+Lcvc6s//CmbdU5hJS+rr4aX7U7B7cyb0HgZnfxcOvxQ6d2vbWqQGMcLK+fDcT+HJmyHWQ3k3J/aRJCkHsp1FszdwDXBC5qW/A/8VY1yzg7cNAWqa7C+hsSWwwUFA5xDCo0BP4Psxxp+28vmTgckAw4YNy6ZkqfDeeCHzpL7tJy2pr4PZv0+TpyyfC30PgPN/AGMuSuPrpLYUI6xaAAsfT/8OFj4Oa99ofo4T+0iSlBPZdtG8A5gFfCizfxnwE+D9O3hPaOW12MrnjwMmAt2Bp0IIT8cYX2n2phhvBW4FqKqqankNqX0aNDZtQyco69I2k5bUbYGZd8O078Kq+TDgULjwdjjsAuhUlv/PlyAFutWL4LVpjaHundfTsb32hcrjYfgE6NoHfvdRILbdvxFJkkpctgFvRIzxwib714UQnt/Je5YAFU32hwJLWzlnRYxxHbAuhPAYMBZ4BanY7Tsqbcd+OI11y2fLxJaN8PzP4fHvw5rFsN8Y+NDP4JBzoFOn/H2u1GD14uaBbk2mA0eP/plA928pwPU/CEKTv//97RvQqTy1MNt6J0nSHss24G0IIRwfY3wcti58vmEn73kWGBlCGA68DlxMGnPX1B+Am0MI5UAXUhfO72VbvFQURl+Yvy+um9fDjCnw5I2py9vQo+Ds78DIU5t/iZZybc2SFOZem5YC3epF6fXufVOgO+4zqZVuwCE7vhe77JUm9zHcSZKUE9kGvCuBOzNj8QKwCrh8R2+IMdaGEK4CHiYtk3BHjHF2COETmeO3xBjnhhAeAmYC9aSlFGbt3o8idSDz/5ZC3ZIZsGlNahm54BYYfqLBTvnx0gPw4q9Ta/Hyl+Dt19Lr3fqkQHfMJzOB7lBbjSVJKqBsZ9F8HhgbQuiV2X8ny/c9ADzQ4rVbWuxfD1yfVbVSR1dfB3++NoU7SOP7zv4uHPWxgpalErR5PSx6Eub/Nc3E2tBCBzDsWBg/OQW7gaMNdJIktSM7DHghhH+OMf48hPBvLV4HIMb43TzWJqmpBX+Hh74Ky2Y3eTHAxtUFK0klJEZ4axbM+0sKdYufSjNblnWFXkNInTcihLLUBfjYT+bmczevg5Xz0np4dtOUJGmP7awFb6/Mtme+C5G0HSvnw5++nlpR+gyDU/4zLX9Qt9mZB7Vn1r4FC/6WAt38v8G6zFKk+45KLXQjTob93wtvvgh3npf7e66mGla9BsR0fdfBkyRpj+0w4MUY/y+zva5typG01cZ30gLlz9wCnTqnYHfsVWmB8uEnpIktKifk9gtxw8yHS55N46lUWrZsTC1zDYHurRfT6z36wQEnw4ET07bXoObvqxifwleu77mF09i6ek6u18Fb/Ey63vATDI2SpA4l24XO/xf4/0gzZz5EWsrgczHGn+exNqljqq+D534Of/0GrFsOYy+BiV9v/qW7Ynzuv7TWVMM/fpqe/+IDMOk+vxgXuxjThCjz/5oeC5+A2g3pDwbDjoGJ18CIU9KyGjsbR5ePe65yAlu7fu5py2CMsPxlWPwkzLkvtUwSobyb97IkqUPJdhbN02KMXw4hXEBau+6DwN8AA56USwufgIeuhjdnQsXRcMmvYciRbfTZ01K4hLRgei5bU9Q2aqrhlYehrDOsrkmhbm1m+dH+B8G4SSnQ7f9e6Lp3YWuFdH/1Hb576+DV1aYWyEVPpsfip2D9ynSsy940tgx6L0uSOpZsA17nzPYs4FcxxlXBqdil3Hl7YRpnN+cP0GsoXHh7Wj+vLf+dVU6ATmVQX5sCgmP7ikPD5CjVt8Fzd6Z9SCHnwPelQDfiFOhTUdg6tyfbdfC2bISl/4BFT8Cip6DmGdj8bjq2TyUcdEaa3XP/42DdCphyNtRv8V6WJHU42Qa8+0IIL5G6aH4yhDAA2Ji/sqQOYtNamPZdeOoHKVyd9O9w3KehS4+2r6ViPBz5EZh+B1z6W1s82rMtG+G1x+CVh1KL3TtLmh8PneD4z8MJXyxMfbmwaW0KcYueTIHu9elpnB6kSWDGXtwY6HoNbv7efiPgqH+BZ34IF/3Ce1mS1KFkuw7e1SGEbwHvxBjrQgjrgPPzW5pUwurr4YVfwV+ug3ffgvd8CN53LfQeUti6emdaeYYeVdg6tK21b6Yw98rDaXzZlvXQea800+VJV8Pe+8KvJzXOdDn8hEJXnJ2GZRJeeQTqNjV2uXxzJsT6tCzD4MPh6H+FYcelsYM9+u78uvvsn7Zt1cVZkqR2Ymfr4J0SY/xrCOH9TV5reso9+SpMKlmLn07j7JY+B0PGZVoYDFRqIcYUcl5+KLXULf1Her13BRx+aeqSWHl8mlW1QT5musynpssk/PKD6bXybukPDCd8KbXQDT1q98YLvp1ZmP31f8DI9+WsZEmS2rudteCdCPwVOLeVYxEDnpS91TXw52tg1u+g5yC44FZ4zwd3PnuhOo4tG1LXy5cfTC11a5cCAYZWpWUyDjoDBh62/bGZ+ZjpMp8WTmuyE2Dc5XDmt6C8655dt6Yanv1xen73pc6iKUnqUHa2Dt41me0VbVOOVIJeuCuFulm/S/snfBmO/1yaXEIdU011Y0tb7wp49eHUUrfg0bSMQZe9U9fLg74GI0+DvQcUuuL8qJyQWuwaupUefsmehzvIzAhbm547i6YkqYPJdh28/wb+N8a4OrO/D/CFGOPX8lmcVNSWzUnbF3+dtsNPhPNvhj7DCleTCm/xM3DnuY0ThjRM599nWJrk5qDTU9fLXASd9i5fC6hXTkhLLziLpiSpA8p2Fs0zY4z/3rATY3w7hHAWYMCTtmfFK43PQyc44ETDXUcVI7w+Iy2D8Y+fpslEGow4BU77f7DvoW27LEZ7kY9upRXjnUVTktRhZRvwykIIXWOMmwBCCN2BDvDnZWkPHHYBTL89Lchc1sVWhI6mvh6WVKdQN2dqWsqgU2cYdDi88XyaIbKsC5z0VRg4qtDVlh5n0ZQkdVDZBryfA38JIfyE1J/oo8CdeatKKgUV42HS/cU1q6H2TH0dLH6qMdS9+yaUdYUDJ8LEzCQp3fs0H4PnfSFJknIo23Xw/jeEMBN4HxCAb8QYH85rZVIpKLZZDdfUpO2SZ2G4LY5ZqauFRY+nUDf3Pli3PE0cMvJUGPVPaZKUbr2av6fY7oti5DIJkqQOKtsWPIC5QG2M8c8hhB4hhJ4xxrX5KkxSG6upTuPDAH7xAaeW35HazWk5gzn3wkt/hA2r0qLjB50Go86HA0/dvbXblBvFukyCLbuSpBzIdhbNfwEmA32BEcAQ4BZgYv5Kk9SmFk5LXQyhuKaWb6svxbWbYP7fUkvdy3+EjWugS084+MxMqJsInbvn7/OVvWJaJmH9qtTKOOdeeP4XaUKe8m5pdtH2WrMkqV3LtgXvU8B44BmAGOOrIYR981aVpLZXOQE6laUvxsUwtXyMqcXx/s+nCUty/aW4pjoFurLOsGxuWnx881ro1hsOPjuFuhEnd4zlDIpNe10moXYzvDUrzai6ZHrqCr1q/rbn1W1u36FUktSuZRvwNsUYN4fMFN4hhHK2Lt4kqSRUjE/rsE2/Ay79bfv9crlhNbz4G5gxJX1ZbpCrL8V1tVD9f/DIf0LMtGh26QmH/VMaUzf8BCjvsmefofxqD8skxAirF8Pr02HJjLRd+nzjEhl77QtDj4IjLoUhVemPFD9/f+Psqu0llEqSik62Ae/vIYR/B7qHEE4FPgncl7+yJBVE74q0HXpUYetoKcbU2jFjCsy6B2o3pOUG3vtZePKmPf9SHCO88QLM/DXM+i28+1bjsdApfc6JX8rJj6IStfEdWPpcuk8bWujWLUvHyrvBoLEw/l9gyDgYWpX+rbVc93DYcbDiZbj4l+33DyySpHYv24D3FeDjwIvAvwIPALflqyhJAmDD2yl0zZgCy+ZAl71h7MUwbhIMPiKds+ipNPvnh36661+KVy9OrYEv3J2+WJd1gYNOh8FHwt+/lcZvlXVJi9SreOR7kpVFT8Hs36cxl+tXpBa65S+xtWNLvwPTAvZDq9Jj4OjUVVSSpDaw04AXQugEzIwxjgZ+nP+SJHVoMULNMynUzf491G5MgevcG2H0hdvOTtm9Txprle0X+A2r04QWM38Ni55Irw07Fs65IY2r69E3vVZ5vDMaFqtcT7KycU1qmauphlceTgvVN+jSE4Ydk7rwDq1K92rDPbQraqph8ZOpNfrO84pjkpX6enjp/hRuDzip/dcrSR3ETgNejLE+hPBCCGFYjHFxWxQlqQNavwpm3p2C3fKX0hfnwy9NrXWDxu7ZtWs3w6uPpOu/8lAar9dvJJzyNXjPB2Gfym3f41p1xWtPJlmJEVYvgsXPpD801DwDb80GYuquu9cA0nKwEUIZHP95OOELe17zwmkp3EH7nGSlrja1cr8xM3VnfuOFNKawdj0QYNp3iyOUSlIHkG0XzUHA7BBCNbCu4cUY43l5qUpSxxAjLH4q01p3b5qAYsg4OO9mOOyCPVtLrqElcObdqSVww9vpy3nVx2DMh1IXz5ZjoFQadmWSlbotKbTUPJ3ul8XPwLtvpmNdeqZWuZOuhoqj0/Nlc1MLW93m1H13eI4mQ6mckAJke5hkZcvG1CW6Ici9OTOF3NqN6XjnHqnb6cDD4PVngdg+Q6kkdVDZBrzr8lqFpI5l/Sp44Vcp2K14Bbr2SjN4jpsE+71nzxO2zr8AAB4aSURBVK69Yl4KdTPvTi0x5d3h0HNgzEVwwMlQlu1/9lTU9tk/bYcc2fz19atSd8vFT6duka/PSJP2APQZlgJbxdGp2+W+o9LSIU1VjE8tVbnuvlsxvjCTrGxaC2/Oagxyb7yQWtAburh27Q2DxsBRH08TGw0ak8YYdipLv7/bTwVC4UOpJGmrHX7TCSF0Az4BHEiaYOX2GGNtWxQmqQDW1KTtkmdz1zLRYPEzaSHn1TWw6PH0F/+hR8H5P0zjl7rstXvX3bA6XfOhf0+tMK/PSC0hw0+Ek76awl3Xnrn9WdT+vb0obefenwkjmUC3/KX0eqdy2G8MVF2R6Y57DPQalN21i637bk11CqT7jU1/4GhomXtjJqycx9bJYfbaN3WHPuj0tB00Fvrsv/2W7orxaeKjbr3ghK8U1+9EkkpYiHH7y9mFEO4GtgDTgDOBRTHGz7ZRba2qqqqK06dPL2QJUmmqqYafnJn+cl/eLXczD25eD4/+T1rOoOGL5KHnw0lfSV289kRNNdxxeuPYpb4HQNVHYfQHsv+yrtJTUw0/OSuNwWvQrXdqmWt4DBkHXXoUrsaWmt7L5d33fDzbhtVpMpg5f0gt5Q3/Rhr0HpZa4xqC3KCx0HO/Xa+5oQWvvJtj8CSpDYUQZsQYq1o7trO+SqNijO/JXOR2oDrXxUlqJxZOg/rMwt65mHlw7ZtQ/WOYfnsa/9YglMHgsXse7iAzMUXDdTvBEf8Mx316z6+r4rZwWuMi9XSCo/8VTv9v6NSpoGXt0J5MsrLp3cykJ89lHv+AVQtaOTGkiYtO+8buzfTZWs2AY/AkqX3ZWcDb+ufPGGNtcEICqXRVTkhd2eprd33mwabefBGe+mFaX66+Fg45O60J9vB/NE5MkauxOpUToLxr7q+r4lY5Acqa3Bej39++wx1kP8nKlg1pzFxDkFv6HCx/ma1/6eg1FIYckf7YMfjIFHTv+ufG38W4SbkJdw01A47Bk6T2ZWcBb2wI4Z3M8wB0z+wHIMYYe+W1Okltp2J8muhk+h1w6W937S/x9fUw78/w1M3w2t+h816pq+Qxn0jdJiFNnpKPiSnyMeGFilsx3hcV49PMlCvnp9bGivFpeY9lc5qHuWVzGydA2WvfNInMYRekMDf4cNh7322vna/fhWPwJKld2uEYvPbIMXhSHk37LvzlOviPt6Bzt52fv2UDvHAXPP3DNBtmz8GpO9y4SdB9n/zXK5WKpmPwQlmaqfLthWnpEIBufVKYG3xE5nEk9Bpc2KU+HIMnSQWzJ2PwJGlba9+CZ29Ljw2r0gQN778tzYZZ1rnQ1UnFp+kYvFiX1pw7enJjmNunsv2t2+gYPElqlwx4krL31uzM+Lpfp4lYDj4Ljv0U7H9c+/vyKRWTygmpFaxuSxrPduFt7T8sOQZPktolA56kHYsR5v0lja9b8Dfo3AOOnATHXAn9RhS6Oqk0VIxPS5MU27hBx+BJUrtjwJPUui0bYOav0/i65S9Bz0Ew8RoYd3nuZuGT1KgYF1Df/C5sXgcPXQ0DRxVX/ZJUogx4khqtqUnb+z6bZsVcvyLNfnnB/8Fh74fyLoWtT1L74Rg8SWqXDHiSkppq+MdP0/OZd0HFMfDBn2TW53J8naQW8jkGr6a6uLqrSlI7YsCTlDSdxS+UwUGnwfATCluTpPYrH2Pw1q+CF38DD/9HWu/P5RckaZcZ8CQllROgrGvqauWMeJJ2Zk/G4NXXpUXd33oR3pwFb81K27VLm59n109J2mUGPElJxfj0l3K7RUnKRrZj8DauSUusvDmrMdAtmwu1G9LxTuXQ/2AYPgEGjoaycnj4a2k9wHz8scnun5JKnAFPUqNim8VPUuE0DV6dymHYe2HVguYtcm+9CKsXN57XvS/sNxqqPpq2A0fDgIOhvGvza7/+HMz6XW66Z25en2YCXjYH5v0V5vw+vV7W1e6fhl2pJBnwJEnSnqnbDD+7AGrXp/3QCfodCEOq0tIqA9+TAl3PQdlN2tRrcAqNuxI66mpTwFw2G96akwLdsjmw6jUgNtbVMNa4o3b/rK+Hd16Hl+6DR76eaSk17EqlxIAnSZJ23dYumgAR9jsMjrgsBbkBh0KXHvn53BhTQFk2N3X9XDY3hbrlr0DdpnRO6AR9R6RlXsZcDPseCgMPg9f/Afd8PJ3Tqby0xxpvWgsr58GKebDyVViReayaD1vWNz+3o4ZdqUQZ8CRJ0q6rnADl3RsnZjr9v3MXEN5ZmmbRnPdn6NwjE+TmZMLcnDSur0HPwWmClwNOgn0PS8/7HwSdu2973aXPN9mJuam1kOrr0vqlzULcKynYrX2j8bzQCfrsD/1HptmR+x+Y/nd78CvpeKmHXamDMeBJkqRdl6+JmWqqYfY9qevgzy9sfL1r7xTeRl8I+45KLXIDDoEefbO/9uszGp/X1+W21Spf49lqqmHen6BXBZR3aR7iVs5vbLUE6NY7hdsDTk4hrt/IFOr6HrDtOMdFTzXZKYGwK2krA54kSdo9+ZiYqemanAQY+2E45T+g15Dsxu/tyJBxjc9z2Wo178/wq0ugfsvuj2eLMbVcrnglPZa/DEumw5svND8vlEHf4Sm8HTixMcT1Gwl79c/+d7ToicbnuQ67kgrKgCdJktqPlmtyVl0BvYfm4YN2o9Vq/arUTXT5SymALZ+btu++1XjOzsaz1W1JE7+seAVWvJzGDq54JbXMbV7beF7X3tB178b90AmO/gS877rUkren9n9v43O7aEolxYAnSZLaj3yuyZltF811KzJLK2QC3PKX0mPd8sZzuvRMSzwceGqaUKb61vR6Q1jatLaxO2VDi9yKV9JMn/W1jdfpORgGHASHX5Ja4gYcnNYF3HtfWPIs3HleY9g97ILchLtt2EVTKiUGPEmS1L7ka03Oll00B46G1x6DZS81b5Vbv7LxvK69Uug66Iw05m/fQ9K2aZfRmmqo/jFbF33/1Ydh/YrGa4SyNA5uwMFwyDlpnNyAg9K2a8/t15vPsNusi2atXTSlEmLAkyRJHU/dJvjlhxr3u/ZO4e2Qs9MyDwMOzgS5wTsf17ZwGo2tYBF6DYJjrswEuYNhn+G73/KWr7DbfZ/G57EeuvfL/WdIKggDniRJ6hhWvNJkJ8DI01IQG3AI9Nxv9ydxablkxNnfbf+tYRvebrLTCTas3O6puyxfM4pKyooBT5IkdQwHToQnvt8YxE74Ym4CSD67UuZL00lWyjrv/iQrm9am5RpWzYeVC6DmGZj/lzQraHm33ZtRVNIeMeBJkqSOIZ9BLF9dKdvETiZZ2bw+TQ6zan4Kc1sD3XxYt6z5uV16Ni5zUbfJsX1SARjwJElSx1HUQSyHWk6yMv9vacKXpuFt1YK0Xbu0+Xv3Hgh9R8BBp6VtvxFp23c4zPwN3P/ZdJ5j+6SCMOBJkiR1NC0nWXn0v9OjQY/+KbgdcBL0O6BJkDtgxzN/NhvLF3I7tm/+32DBo2kiHEO6tF0GPEmSpI5mw+rm+8NPhCMuawxz3fvs3nWbtdjFXWvBizEtUbHqtdR6+HZmu+q1tITFpjXpvGd+BJPuN+RJ22HAkyRJ6miGt5j585Sv5SYwNWuxa2V2zvr61OWztRC36jXYvLbJySGtN9h3eAqeS59LL9dudmyftAN5DXghhDOA7wNlwG0xxm9u57yjgKeBi2KMv81nTZIkSR1eviacqZwAoVPq9tmpDNathIe+2hji3l6YJl9p0Kkz7LN/Witw2DGpC+g+w9O2zzDo3C2dN31KY8Db1ZZBqYPJW8ALIZQBPwBOBZYAz4YQpsYY57Ry3reAh/NViyRJklrI14QzDZNy1m+Bp38AnXukwNZ/JBx0emqRawhxvYemILgzLVsCczm2Tyox+WzBGw/MizEuAAgh3AWcD8xpcd6ngd8BR+WxFkmSJOXbwmkQSCEvdIL3fg4mfn33F5Fv0LLFzhY8abs65fHaQ4CaJvtLMq9tFUIYAlwA3JLHOiRJktQWKidAWVcIZWl78Jl7Hu7AFjxpF+SzBa+1f80tV9K8AfhKjLEu7OAffwhhMjAZYNiwYTkrUJIkSTmUr7F9tuBJWctnwFsCVDTZHwq0WCmTKuCuTLjrD5wVQqiNMd7b9KQY463ArQBVVVUtQ6IkSZLai3yM7bMFT8paPgPes8DIEMJw4HXgYuCSpifEGIc3PA8hTAHubxnuJEmS1MHZgidlLW8BL8ZYG0K4ijQ7ZhlwR4xxdgjhE5njjruTJEnSztmCJ2Utr+vgxRgfAB5o8VqrwS7GeHk+a5EkSVKRsgVPylo+Z9GUJEmS9tybL+x4X9JWBjxJkiS1cy3n2HPOPWl7DHiSJElq3/Y7fMf7krYy4EmSJKl9c5IVKWsGPEmSJLVvTrIiZc2AJ0mSpPbNFjwpawY8SZIktW+24ElZM+BJkiSpfXOZBClrBjxJkiS1cy6TIGXLgCdJkqT2zWUSpKwZ8CRJktS+OcmKlDUDniRJkto3J1mRsmbAkyRJUvvmJCtS1gx4kiRJauecZEXKlgFPkiRJ7Vu+J1mpqYZp30nbYriutAPlhS5AkiRJ2qFcddGMEdatgDWLYXUNrKmBmmfhpfsg1kNZV7j8fqgYv+vXrt0M77wOa5akx+Kn4bmf7vl1pV1kwJMkSVL79u6yHe83qK+Hd9+E1Q0BLrNdvTiFudU1ULuh+Xs6dU4hDKBuE7zwq22DWIyw4e3G8LZmSbp20/21b7LdrqPbu66UBwY8SZIktW97D2i+X18Hz/+yRZBbDGteh/otzc/t0Q96V8CAQ2Dkael5n2HQpyI9/8u1MP0njeevmAePfTsFwqYBbvO7za9b3g16D02PAyema/Ue2rh9/IbUgreV4wbVNgx4kiRJat9ajrl75cH0ANh7vxTYhoyDUf+UCW/DMkGuArrstWvXXvhYevTon97ffySMOKV5eOtdAXv1hxC2f90h45oHPBdnVxsx4EmSJKl927CSNDdgPRDg8Ethwr+lsFXeNQfXDqQWtgDHfBIm/id07r5n18330g411bBwGlROsOunmjHgSZIkqX2rnJCCXN1mKOsC4yZBvxE5vHa3xmsf9k97Hu4g+3GDO7Npbep6+k7DYyksfQ5efSSNDSzrktsJXAyORc+AJ0mSpPatYjxMmpqf4JHPa+/Mpncbg9uaTHh7Z0naNuxvWtPiTQHKspgYZmdqN8HaNzKfubQxOM6515k/i5wBT5IkSe1fxfj8hY18XLvlxDDvvA5TP5MJU5lAt014A/baF3oPSS2Uw0+AXoNTV9ReQ9LznoPglxfBgr82vqdp62CMsOkdeOeN9DktQ9zazHb9ym0/O5TveXBUwRnwJEmSpFxrOanK0udSqOs1GPoeAJXHZ0LbkBToeg2GnoOhvMuuf9brz8Gd52UC3BvbzvgJaTbRhs8YMi59bs9B6bWGx++vhJf/2Pie3e1WqoIy4EmSJEm51mximE5w8lfhxC/n5tq99mu+v/Ft2LIeBo6CA9/XPLT1HJQenbvt/Lo7mhVURcOAJ0mSJOVay4lhDjgpd9cedwW8+Fuo25LG433kD3al1FYGPEmSJCnX8j0xzOV/dLZLtcqAJ0mSJOVDsU0Mo5LQqdAFSJIkSZJyw4AnSZIkSSXCgCdJkiRJJcKAJ0mSJEklwoAnSZIkSSXCgCdJkiRJJcKAJ0mSJEklwoAnSZIkSSXCgCdJkiQJNry9430VBQOeJEmSJFi3Ysf7KgoGPEmSJEmwV/8d76soGPAkSZIkQfd9dryvomDAkyRJkuQYvBJhwJMkSZLkGLwSYcCTJEmS5Bi8EmHAkyRJkqQSYcCTJEmSZBfNEmHAkyRJkgTlXXa8r6JgwJMkSZIEtZt3vK+iYMCTJEmSZAteiTDgSZIkSbIFr0QY8CRJkiTZglciDHiSJEmSYOM7O95XUTDgSZIkSYIYd7yvomDAkyRJkgTde+94X0XBgCdJkiTJLpolwoAnSZIkCWo37XhfRcGAJ0mSJEklwoAnSZIkSSXCgCdJkiQpP+rrYN0KuPcq+N5o+NM1ha6o5JUXugBJkiRJRSBG2PwurF+ZHusy2/UrWnkt8/qG1UCT5RaeuCFtT72uID9CR5DXgBdCOAP4PlAG3BZj/GaL45cCX8nsvgtcGWN8IZ81SZIkScrChrfhp+c3D21125l4pVNn6NEvPfbqB/uNzuz3hydvgi3rGs99/hcGvDzKW8ALIZQBPwBOBZYAz4YQpsYY5zQ57TXgxBjj2yGEM4FbgaPzVZMkSZKk7ejWG959s3E/1sHm9dB7KAwe2xjgevTPBLn+0KNvet61F4TQ+nWrb20e8Orr8vtzdHD5bMEbD8yLMS4ACCHcBZwPbA14McYnm5z/NDA0j/VIkiRJ2p5jPgn3f7Zx/6zvQNXle37dsi473ldO5TPgDQFqmuwvYcetcx8DHsxjPZIkSZK2pyHMzf0DHHp+bsIdbNutc3vdPJUT+Qx4rbXRxlZeI4RwMingHb+d45OByQDDhg3LVX2SJEmSmqq6PHfBrkHdlh3vK6fyuUzCEqCiyf5QYGnLk0IIY4DbgPNjjCtbu1CM8dYYY1WMsWrAgAF5KVaSJElSPrRs99nOWD3lRD4D3rPAyBDC8BBCF+BiYGrTE0IIw4B7gMtijK/ksRZJkiRJBdGyE1+rnfqUI3nrohljrA0hXAU8TFom4Y4Y4+wQwicyx28Bvg70A34Y0qw7tTHGqnzVJEmSJKmt2YLXlvK6Dl6M8QHggRav3dLk+ceBj+ezBkmSJEkFVL9lx/vKqXx20ZQkSZLU0cX6He8rpwx4kiRJklQiDHiSJEmSildNNUz7Ttoqv2PwJEmSJCln6rbAxjWwYTVsXA01z8AjX0vdPjuVwxUPQsX4QldZUAY8SZIkSW0nAu+8kQLahtUpsG19vrp5gGt5fMu67V+3vhb+fE0KeR2YAU+SJElS/oSy5vv1m+G7h2z//C49oXsf6NYnbfsOb3zerXeT533g7kuhbnPje19/Lj8/QxEx4EmSJEnKn70GwJrFjftde8Op17YS2vaBrr2gbBciSn1t8/26TTkpuZgZ8CRJkiTlz4QvwP2fbdw/9b+g6vIcXdxF1Fsy4EmSJEnKn4YwN/cPcOj5OQx3QIw73t8Ti56G1x6FEacU1cQtBjxJkiRJ+VV1eW6D3VYtA11mv74eNr8Lm96Bje+02K7ZzutNtutXNk7o8vgNMGlq0YQ8A54kSZKkEhHhf4aloLZN+GshlEG3XmncX7deaWxgn2Fpf9V8WDI9XaNuMyycZsCTJEmSpLzq3KP50gmhDMZe3CK4NQlwTfc794CwnTF7NdVw53kp3JV1gcoJbfPz5IABT5IkSVJxGv8v8MQNjfvHfRpOvW7Pr1sxPnXLXDgthbsiab0DA54kSZKkYtUQ5uZOhUPPy024a1AxvqiCXQMDniRJkqTidep1uQ12Ra5ToQuQJEmSJOWGAU+SJEmSSoQBT5IkSZJKhAFPkiRJkkqEk6zkyEX/99Q2r50zZhCXHVvJhs11XP6T6m2Of2DcUD5YVcGqdZu58ucztjn+z8fsz7ljB7N09QY+f/fz2xz/lwkH8L5RA5m//F3+/Z4Xtzn+6VNGcvzI/sxeuob/um/ONse/fMbBjNu/LzMWreJ/H3p5m+NfP3cUhw3uzeOvruCmv766zfH/fv97GDFgb/485y1+PG3BNse/d9HhDO7TnfteWMrPn160zfEf/fM4+u7Vhd9Mr+G3M5Zsc3zKFePp3qWMnz21kPtnvrHN8bv/9VgAbn1sPn+Zu6zZsW6dy7jzo2nWoxv/8ipPzFvR7Pg+Pbpwy2XjAPjWQy/xj0VvNzs+qHc3brj4CACuu282c5a+0+z4AQP24n/ePwaAr94zkwXL1zU7PmpwL6459zAAPnfXc7yxZmOz40fuvw9fOeMQAD7xsxm8vX5zs+PvPbA/n5k4EoBJd1SzcUtds+MTD92XySeMALz3vPe895ry3vPe897z3vPea857Lzf3XjGxBU+SJEmSSkSIMRa6hl1SVVUVp0+fXugyJEmSJKkgQggzYoxVrR2zBU+SJEmSSoQBT5IkSZJKhAFPkiRJkkqEAU+SJEmSSoQBT5IkSZJKhAFPkiRJkkqEAU+SJEmSSoQBT5IkSZJKhAFPkiRJkkqEAU+SJEmSSoQBT5IkSZJKhAFPkiRJkkqEAU+SJEmSSkSIMRa6hl0SQlgOLCp0Ha3oD6wodBEqWd5fyjfvMeWT95fyyftL+dRe76/9Y4wDWjtQdAGvvQohTI8xVhW6DpUm7y/lm/eY8sn7S/nk/aV8Ksb7yy6akiRJklQiDHiSJEmSVCIMeLlza6ELUEnz/lK+eY8pn7y/lE/eX8qnoru/HIMnSZIkSSXCFjxJkiRJKhEGvF0UQjgjhPByCGFeCOHqVo6HEMKNmeMzQwhHFqJOFacs7q9LM/fVzBDCkyGEsYWoU8VpZ/dXk/OOCiHUhRA+0Jb1qbhlc3+FEE4KITwfQpgdQvh7W9eo4pbF/0f2DiHcF0J4IXOPXVGIOlV8Qgh3hBCWhRBmbed4UX2/N+DtghBCGfAD4ExgFPDhEMKoFqedCYzMPCYDP2rTIlW0sry/XgNOjDGOAb5BEfYLV2FkeX81nPct4OG2rVDFLJv7K4TQB/ghcF6M8TDgg21eqIpWlv8N+xQwJ8Y4FjgJ+E4IoUubFqpiNQU4YwfHi+r7vQFv14wH5sUYF8QYNwN3Aee3OOd84KcxeRroE0IY1NaFqijt9P6KMT4ZY3w7s/s0MLSNa1Txyua/XwCfBn4HLGvL4lT0srm/LgHuiTEuBogxeo9pV2Rzj0WgZwghAHsDq4Dati1TxSjG+Bjpftmeovp+b8DbNUOAmib7SzKv7eo5Umt29d75GPBgXitSKdnp/RVCGAJcANzShnWpNGTz36+DgH1CCI+GEGaEED7SZtWpFGRzj90MHAosBV4EPhtjrG+b8lTiiur7fXmhCygyoZXXWk5Dms05UmuyvndCCCeTAt7xea1IpSSb++sG4Csxxrr0B3Apa9ncX+XAOGAi0B14KoTwdIzxlXwXp5KQzT12OvA8cAowAvhTCGFajPGdfBenkldU3+8NeLtmCVDRZH8o6a9Eu3qO1Jqs7p0QwhjgNuDMGOPKNqpNxS+b+6sKuCsT7voDZ4UQamOM97ZNiSpi2f7/44oY4zpgXQjhMWAsYMBTNrK5x64AvhnTGmDzQgivAYcA1W1TokpYUX2/t4vmrnkWGBlCGJ4ZtHsxMLXFOVOBj2Rm2zkGWBNjfKOtC1VR2un9FUIYBtwDXOZfvbWLdnp/xRiHxxgrY4yVwG+BTxrulKVs/v/xD8CEEEJ5CKEHcDQwt43rVPHK5h5bTGohJoQwEDgYWNCmVapUFdX3e1vwdkGMsTaEcBVpdrky4I4Y4+wQwicyx28BHgDOAuYB60l/TZJ2Ksv76+tAP+CHmVaW2hhjVaFqVvHI8v6Sdks291eMcW4I4SFgJlAP3BZjbHVKcqmlLP8b9g1gSgjhRVKXuq/EGFcUrGgVjRDCr0gzr/YPISwBrgE6Q3F+vw+pFVuSJEmSVOzsoilJkiRJJcKAJ0mSJEklwoAnSZIkSSXCgCdJkiRJJcKAJ0mSJEklwoAnSeqwQgh1IYTnQwizQgj3hRD65Pj6C0MI/TPP383ltSVJao0BT5LUkW2IMR4eYxwNrAI+VeiCJEnaEwY8SZKSp4AhACGEESGEh0IIM0II00IIh2ReHxhC+H0I4YXM47jM6/dmzp0dQphcwJ9BktTBlRe6AEmSCi2EUAZMBG7PvHQr8IkY46shhKOBHwKnADcCf48xXpB5z96Z8z8aY1wVQugOPBtC+F2McWUb/xiSJBnwJEkdWvcQwvNAJTAD+FMIYW/gOOA3IYSG87pmtqcAHwGIMdYBazKvfyaEcEHmeQUwEjDgSZLanAFPktSRbYgxHh5C6A3cTxqDNwVYHWM8PJsLhBBOAt4HHBtjXB9CeBTolp9yJUnaMcfgSZI6vBj//3btEKfOIArA6HfTathGEwS2lhVUNWmCrKoB0x10Uxh8XfNKqlkCQSH/ivezA/JIJufIyRV35JeZ7bm6qX5WL9XjzHytmqPLffS++rGff5iZs+q8etrj7lP1+eQXAICdwAOAatu2P9Wh+lZdV99n5lD9q77sY7fV1cw8dPzSeVHdVR9n5m/1q/p96t0B4NVs2/beOwAAAPAGvOABAAAsQuABAAAsQuABAAAsQuABAAAsQuABAAAsQuABAAAsQuABAAAsQuABAAAs4j/+5l03t7hlBwAAAABJRU5ErkJggg==\n",
      "text/plain": [
       "<Figure size 1080x432 with 1 Axes>"
      ]
     },
     "metadata": {
      "needs_background": "light"
     },
     "output_type": "display_data"
    }
   ],
   "source": [
    "# Precision Recall curve\n",
    "lr_precision, lr_recall, _ = precision_recall_curve(y_test, lr_probs)\n",
    "lr_f1, lr_auc = f1_score(y_test, y_pred_xgb), auc(lr_recall, lr_precision)\n",
    "no_skill = len(y_test[y_test==1]) / len(y_test)\n",
    "# summarize scores\n",
    "print('XGBOOST: f1=%.3f auc=%.3f' % (lr_f1, lr_auc))\n",
    "plt.figure(figsize=(15,6))\n",
    "plt.plot([0, 1], [no_skill, no_skill], linestyle='--', label='No Skill')\n",
    "plt.plot(lr_recall, lr_precision, marker='.', label='XGB')\n",
    "plt.xlabel('Recall')\n",
    "plt.ylabel('Precision')\n",
    "plt.legend()\n",
    "plt.show()"
   ]
  },
  {
   "cell_type": "code",
=======
>>>>>>> parent of 872a944 (Update Modelling2.ipynb)
   "execution_count": null,
   "metadata": {},
   "outputs": [],
   "source": []
  },
  {
   "cell_type": "code",
   "execution_count": null,
   "metadata": {},
   "outputs": [],
   "source": []
  }
 ],
 "metadata": {
  "kernelspec": {
   "display_name": "Python 3",
   "language": "python",
   "name": "python3"
  },
  "language_info": {
   "codemirror_mode": {
    "name": "ipython",
    "version": 3
   },
   "file_extension": ".py",
   "mimetype": "text/x-python",
   "name": "python",
   "nbconvert_exporter": "python",
   "pygments_lexer": "ipython3",
   "version": "3.8.3"
  }
 },
 "nbformat": 4,
 "nbformat_minor": 4
}
