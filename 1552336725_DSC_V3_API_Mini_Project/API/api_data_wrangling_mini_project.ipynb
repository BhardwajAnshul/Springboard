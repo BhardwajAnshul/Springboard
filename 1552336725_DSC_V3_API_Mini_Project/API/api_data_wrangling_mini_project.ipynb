{
 "cells": [
  {
   "cell_type": "markdown",
   "metadata": {},
   "source": [
    "This exercise will require you to pull some data from the Qunadl API. Qaundl is currently the most widely used aggregator of financial market data."
   ]
  },
  {
   "cell_type": "markdown",
   "metadata": {},
   "source": [
    "As a first step, you will need to register a free account on the http://www.quandl.com website."
   ]
  },
  {
   "cell_type": "markdown",
   "metadata": {},
   "source": [
    "After you register, you will be provided with a unique API key, that you should store:"
   ]
  },
  {
   "cell_type": "code",
   "execution_count": 10,
   "metadata": {},
   "outputs": [],
   "source": [
    "# Store the API key as a string - according to PEP8, constants are always named in all upper case\n",
    "API_KEY = ''"
   ]
  },
  {
   "cell_type": "markdown",
   "metadata": {},
   "source": [
    "Qaundl has a large number of data sources, but, unfortunately, most of them require a Premium subscription. Still, there are also a good number of free datasets."
   ]
  },
  {
   "cell_type": "markdown",
   "metadata": {},
   "source": [
    "For this mini project, we will focus on equities data from the Frankfurt Stock Exhange (FSE), which is available for free. We'll try and analyze the stock prices of a company called Carl Zeiss Meditec, which manufactures tools for eye examinations, as well as medical lasers for laser eye surgery: https://www.zeiss.com/meditec/int/home.html. The company is listed under the stock ticker AFX_X."
   ]
  },
  {
   "cell_type": "markdown",
   "metadata": {},
   "source": [
    "You can find the detailed Quandl API instructions here: https://docs.quandl.com/docs/time-series"
   ]
  },
  {
   "cell_type": "markdown",
   "metadata": {},
   "source": [
    "While there is a dedicated Python package for connecting to the Quandl API, we would prefer that you use the *requests* package, which can be easily downloaded using *pip* or *conda*. You can find the documentation for the package here: http://docs.python-requests.org/en/master/ "
   ]
  },
  {
   "cell_type": "markdown",
   "metadata": {},
   "source": [
    "Finally, apart from the *requests* package, you are encouraged to not use any third party Python packages, such as *pandas*, and instead focus on what's available in the Python Standard Library (the *collections* module might come in handy: https://pymotw.com/3/collections/ ).\n",
    "Also, since you won't have access to DataFrames, you are encouraged to us Python's native data structures - preferably dictionaries, though some questions can also be answered using lists.\n",
    "You can read more on these data structures here: https://docs.python.org/3/tutorial/datastructures.html"
   ]
  },
  {
   "cell_type": "markdown",
   "metadata": {},
   "source": [
    "Keep in mind that the JSON responses you will be getting from the API map almost one-to-one to Python's dictionaries. Unfortunately, they can be very nested, so make sure you read up on indexing dictionaries in the documentation provided above."
   ]
  },
  {
   "cell_type": "code",
   "execution_count": 5,
   "metadata": {},
   "outputs": [],
   "source": [
    "# First, import the relevant modules\n",
    "import requests\n"
   ]
  },
  {
   "cell_type": "code",
   "execution_count": 6,
   "metadata": {},
   "outputs": [],
   "source": [
    "# Now, call the Quandl API and pull out a small sample of the data (only one day) to get a glimpse\n",
    "# into the JSON structure that will be returned\n",
    "url =  \"https://www.quandl.com/api/v3/datasets/FSE/AFX_X/data.json?start_date=2020-09-29&end_date=2020-09-29&api_key=\"+API_KEY\n",
    "r = requests.get(url)"
   ]
  },
  {
   "cell_type": "code",
   "execution_count": 7,
   "metadata": {},
   "outputs": [
    {
     "data": {
      "text/plain": [
       "{'dataset_data': {'limit': None,\n",
       "  'transform': None,\n",
       "  'column_index': None,\n",
       "  'column_names': ['Date',\n",
       "   'Open',\n",
       "   'High',\n",
       "   'Low',\n",
       "   'Close',\n",
       "   'Change',\n",
       "   'Traded Volume',\n",
       "   'Turnover',\n",
       "   'Last Price of the Day',\n",
       "   'Daily Traded Units',\n",
       "   'Daily Turnover'],\n",
       "  'start_date': '2020-09-29',\n",
       "  'end_date': '2020-09-29',\n",
       "  'frequency': 'daily',\n",
       "  'data': [['2020-09-29',\n",
       "    106.8,\n",
       "    109.8,\n",
       "    106.6,\n",
       "    108.9,\n",
       "    None,\n",
       "    139925.0,\n",
       "    15194436.9,\n",
       "    None,\n",
       "    None,\n",
       "    None]],\n",
       "  'collapse': None,\n",
       "  'order': None}}"
      ]
     },
     "execution_count": 7,
     "metadata": {},
     "output_type": "execute_result"
    }
   ],
   "source": [
    "# Inspect the JSON structure of the object you created, and take note of how nested it is,\n",
    "# as well as the overall structure\n",
    "json_data = r.json()\n",
    "json_data\n"
   ]
  },
  {
   "cell_type": "markdown",
   "metadata": {},
   "source": [
    "These are your tasks for this mini project:\n",
    "\n",
    "1. Collect data from the Franfurt Stock Exchange, for the ticker AFX_X, for the whole year 2017 (keep in mind that the date format is YYYY-MM-DD).\n",
    "2. Convert the returned JSON object into a Python dictionary.\n",
    "3. Calculate what the highest and lowest opening prices were for the stock in this period.\n",
    "4. What was the largest change in any one day (based on High and Low price)?\n",
    "5. What was the largest change between any two days (based on Closing Price)?\n",
    "6. What was the average daily trading volume during this year?\n",
    "7. (Optional) What was the median trading volume during this year. (Note: you may need to implement your own function for calculating the median.)"
   ]
  },
  {
   "cell_type": "code",
   "execution_count": 8,
   "metadata": {},
   "outputs": [],
   "source": [
    "#Collecting data for 2017\n",
    "url2 =  \"https://www.quandl.com/api/v3/datasets/FSE/AFX_X/data.json?start_date=2017-01-01&end_date=2017-12-31&api_key=\"+API_KEY\n",
    "r2  = requests.get(url2)\n",
    "Frank_dict = r2.json() #Converting into Python Dictionary"
   ]
  },
  {
   "cell_type": "code",
   "execution_count": 9,
   "metadata": {},
   "outputs": [
    {
     "name": "stdout",
     "output_type": "stream",
     "text": [
      "limit\n",
      "transform\n",
      "column_index\n",
      "column_names\n",
      "start_date\n",
      "end_date\n",
      "frequency\n",
      "data\n",
      "collapse\n",
      "order\n"
     ]
    }
   ],
   "source": [
    "for key in Frank_dict['dataset_data'].keys():\n",
    "     print(key)"
   ]
  },
  {
   "cell_type": "code",
   "execution_count": 20,
   "metadata": {},
   "outputs": [],
   "source": [
    "data = Frank_dict['dataset_data']['data']\n",
    "\n",
    "#initializing variables\n",
    "Highest_price = 0\n",
    "Lowest_price = data[0][3]\n",
    "Change1 = 0 #largest change in any one day (based on High and Low price)\n",
    "Change2 = 0 #largest change between any two days (based on Closing Price)\n",
    "Trading_volume = 0\n",
    "\n",
    "for x in range(len(data)):\n",
    "    if data[x][2]>Highest_price:\n",
    "        Highest_price = data[x][2]\n",
    "    if data[x][3]<Lowest_price:\n",
    "        Lowest_price = data[x][3]\n",
    "    if data[x][2] - data[x][3] > Change1:\n",
    "        Change1 = data[x][2] - data[x][3]\n",
    "    if x < len(data)-1:\n",
    "        if abs(data[x+1][4]-data[x][4])>Change2:\n",
    "            Change2 = abs(data[x+1][4]-data[x][4])\n",
    "    Trading_volume = Trading_volume + data[x][6]\n",
    "\n",
    "Average_Trading_volume = Trading_volume/(len(data)+1)    "
   ]
  },
  {
   "cell_type": "code",
   "execution_count": 29,
   "metadata": {},
   "outputs": [
    {
     "name": "stdout",
     "output_type": "stream",
     "text": [
      "The Highest Opening Price in any one day is : 53.54\n",
      "The Lowest Opening Price in any one day is : 33.62\n",
      "Largest change in Price in any one day is : 2.81\n",
      "Largest change in closing Price between any two days is : 2.56\n",
      "Average Daily Trading Volume is : 88776.2\n"
     ]
    }
   ],
   "source": [
    "print(\"The Highest Opening Price in any one day is : \" + str(Highest_price))\n",
    "print(\"The Lowest Opening Price in any one day is : \" + str(Lowest_price))\n",
    "print(\"Largest change in Price in any one day is : \" + str(round(Change1,2)))\n",
    "print(\"Largest change in closing Price between any two days is : \" + str(round(Change2,2)))\n",
    "print(\"Average Daily Trading Volume is : \" + str(round(Average_Trading_volume,2)))    "
   ]
  },
  {
   "cell_type": "code",
   "execution_count": null,
   "metadata": {},
   "outputs": [],
   "source": []
  }
 ],
 "metadata": {
  "kernelspec": {
   "display_name": "Python 3",
   "language": "python",
   "name": "python3"
  },
  "language_info": {
   "codemirror_mode": {
    "name": "ipython",
    "version": 3
   },
   "file_extension": ".py",
   "mimetype": "text/x-python",
   "name": "python",
   "nbconvert_exporter": "python",
   "pygments_lexer": "ipython3",
   "version": "3.7.6"
  }
 },
 "nbformat": 4,
 "nbformat_minor": 2
}
